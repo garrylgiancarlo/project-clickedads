{
 "cells": [
  {
   "attachments": {},
   "cell_type": "markdown",
   "metadata": {},
   "source": [
    "# Predict Customer Clicked Ads Classification by Using Machine Learning"
   ]
  },
  {
   "attachments": {},
   "cell_type": "markdown",
   "metadata": {},
   "source": [
    "## Import Library and Dataset"
   ]
  },
  {
   "cell_type": "code",
   "execution_count": 2,
   "metadata": {},
   "outputs": [],
   "source": [
    "import numpy as np\n",
    "import pandas as pd\n",
    "import seaborn as sns\n",
    "import matplotlib.pyplot as plt\n",
    "import plotly.express as px\n",
    "from matplotlib import rcParams\n",
    "import warnings\n",
    "warnings.filterwarnings('ignore')"
   ]
  },
  {
   "cell_type": "code",
   "execution_count": 3,
   "metadata": {},
   "outputs": [
    {
     "data": {
      "text/html": [
       "<div>\n",
       "<style scoped>\n",
       "    .dataframe tbody tr th:only-of-type {\n",
       "        vertical-align: middle;\n",
       "    }\n",
       "\n",
       "    .dataframe tbody tr th {\n",
       "        vertical-align: top;\n",
       "    }\n",
       "\n",
       "    .dataframe thead th {\n",
       "        text-align: right;\n",
       "    }\n",
       "</style>\n",
       "<table border=\"1\" class=\"dataframe\">\n",
       "  <thead>\n",
       "    <tr style=\"text-align: right;\">\n",
       "      <th></th>\n",
       "      <th>Daily Time Spent on Site</th>\n",
       "      <th>Age</th>\n",
       "      <th>Area Income</th>\n",
       "      <th>Daily Internet Usage</th>\n",
       "      <th>Male</th>\n",
       "      <th>Timestamp</th>\n",
       "      <th>Clicked on Ad</th>\n",
       "      <th>city</th>\n",
       "      <th>province</th>\n",
       "      <th>category</th>\n",
       "    </tr>\n",
       "  </thead>\n",
       "  <tbody>\n",
       "    <tr>\n",
       "      <th>0</th>\n",
       "      <td>68.95</td>\n",
       "      <td>35</td>\n",
       "      <td>432837300.0</td>\n",
       "      <td>256.09</td>\n",
       "      <td>Perempuan</td>\n",
       "      <td>3/27/2016 0:53</td>\n",
       "      <td>No</td>\n",
       "      <td>Jakarta Timur</td>\n",
       "      <td>Daerah Khusus Ibukota Jakarta</td>\n",
       "      <td>Furniture</td>\n",
       "    </tr>\n",
       "    <tr>\n",
       "      <th>1</th>\n",
       "      <td>80.23</td>\n",
       "      <td>31</td>\n",
       "      <td>479092950.0</td>\n",
       "      <td>193.77</td>\n",
       "      <td>Laki-Laki</td>\n",
       "      <td>4/4/2016 1:39</td>\n",
       "      <td>No</td>\n",
       "      <td>Denpasar</td>\n",
       "      <td>Bali</td>\n",
       "      <td>Food</td>\n",
       "    </tr>\n",
       "    <tr>\n",
       "      <th>2</th>\n",
       "      <td>69.47</td>\n",
       "      <td>26</td>\n",
       "      <td>418501580.0</td>\n",
       "      <td>236.50</td>\n",
       "      <td>Perempuan</td>\n",
       "      <td>3/13/2016 20:35</td>\n",
       "      <td>No</td>\n",
       "      <td>Surabaya</td>\n",
       "      <td>Jawa Timur</td>\n",
       "      <td>Electronic</td>\n",
       "    </tr>\n",
       "    <tr>\n",
       "      <th>3</th>\n",
       "      <td>74.15</td>\n",
       "      <td>29</td>\n",
       "      <td>383643260.0</td>\n",
       "      <td>245.89</td>\n",
       "      <td>Laki-Laki</td>\n",
       "      <td>1/10/2016 2:31</td>\n",
       "      <td>No</td>\n",
       "      <td>Batam</td>\n",
       "      <td>Kepulauan Riau</td>\n",
       "      <td>House</td>\n",
       "    </tr>\n",
       "    <tr>\n",
       "      <th>4</th>\n",
       "      <td>68.37</td>\n",
       "      <td>35</td>\n",
       "      <td>517229930.0</td>\n",
       "      <td>225.58</td>\n",
       "      <td>Perempuan</td>\n",
       "      <td>6/3/2016 3:36</td>\n",
       "      <td>No</td>\n",
       "      <td>Medan</td>\n",
       "      <td>Sumatra Utara</td>\n",
       "      <td>Finance</td>\n",
       "    </tr>\n",
       "  </tbody>\n",
       "</table>\n",
       "</div>"
      ],
      "text/plain": [
       "   Daily Time Spent on Site  Age  Area Income  Daily Internet Usage  \\\n",
       "0                     68.95   35  432837300.0                256.09   \n",
       "1                     80.23   31  479092950.0                193.77   \n",
       "2                     69.47   26  418501580.0                236.50   \n",
       "3                     74.15   29  383643260.0                245.89   \n",
       "4                     68.37   35  517229930.0                225.58   \n",
       "\n",
       "        Male        Timestamp Clicked on Ad           city  \\\n",
       "0  Perempuan   3/27/2016 0:53            No  Jakarta Timur   \n",
       "1  Laki-Laki    4/4/2016 1:39            No       Denpasar   \n",
       "2  Perempuan  3/13/2016 20:35            No       Surabaya   \n",
       "3  Laki-Laki   1/10/2016 2:31            No          Batam   \n",
       "4  Perempuan    6/3/2016 3:36            No          Medan   \n",
       "\n",
       "                        province    category  \n",
       "0  Daerah Khusus Ibukota Jakarta   Furniture  \n",
       "1                           Bali        Food  \n",
       "2                     Jawa Timur  Electronic  \n",
       "3                 Kepulauan Riau       House  \n",
       "4                  Sumatra Utara     Finance  "
      ]
     },
     "execution_count": 3,
     "metadata": {},
     "output_type": "execute_result"
    }
   ],
   "source": [
    "df = pd.read_csv(r'Clicked Ads Dataset.csv')\n",
    "pd.set_option('display.max_column', None)\n",
    "df = df.drop(['Unnamed: 0'], axis=1)\n",
    "df.head()"
   ]
  },
  {
   "cell_type": "code",
   "execution_count": 4,
   "metadata": {},
   "outputs": [
    {
     "name": "stdout",
     "output_type": "stream",
     "text": [
      "<class 'pandas.core.frame.DataFrame'>\n",
      "RangeIndex: 1000 entries, 0 to 999\n",
      "Data columns (total 10 columns):\n",
      " #   Column                    Non-Null Count  Dtype  \n",
      "---  ------                    --------------  -----  \n",
      " 0   Daily Time Spent on Site  987 non-null    float64\n",
      " 1   Age                       1000 non-null   int64  \n",
      " 2   Area Income               987 non-null    float64\n",
      " 3   Daily Internet Usage      989 non-null    float64\n",
      " 4   Male                      997 non-null    object \n",
      " 5   Timestamp                 1000 non-null   object \n",
      " 6   Clicked on Ad             1000 non-null   object \n",
      " 7   city                      1000 non-null   object \n",
      " 8   province                  1000 non-null   object \n",
      " 9   category                  1000 non-null   object \n",
      "dtypes: float64(3), int64(1), object(6)\n",
      "memory usage: 78.2+ KB\n"
     ]
    }
   ],
   "source": [
    "df.info()"
   ]
  },
  {
   "cell_type": "code",
   "execution_count": 5,
   "metadata": {},
   "outputs": [
    {
     "data": {
      "text/plain": [
       "0"
      ]
     },
     "execution_count": 5,
     "metadata": {},
     "output_type": "execute_result"
    }
   ],
   "source": [
    "df.duplicated().sum()"
   ]
  },
  {
   "cell_type": "code",
   "execution_count": 6,
   "metadata": {},
   "outputs": [],
   "source": [
    "cat_col = df.dtypes[df.dtypes == 'object'].index\n",
    "num_col = df.select_dtypes(include=['float', 'int']).columns"
   ]
  },
  {
   "cell_type": "code",
   "execution_count": 7,
   "metadata": {},
   "outputs": [
    {
     "data": {
      "text/html": [
       "<div>\n",
       "<style scoped>\n",
       "    .dataframe tbody tr th:only-of-type {\n",
       "        vertical-align: middle;\n",
       "    }\n",
       "\n",
       "    .dataframe tbody tr th {\n",
       "        vertical-align: top;\n",
       "    }\n",
       "\n",
       "    .dataframe thead th {\n",
       "        text-align: right;\n",
       "    }\n",
       "</style>\n",
       "<table border=\"1\" class=\"dataframe\">\n",
       "  <thead>\n",
       "    <tr style=\"text-align: right;\">\n",
       "      <th></th>\n",
       "      <th>count</th>\n",
       "      <th>mean</th>\n",
       "      <th>std</th>\n",
       "      <th>min</th>\n",
       "      <th>25%</th>\n",
       "      <th>50%</th>\n",
       "      <th>75%</th>\n",
       "      <th>max</th>\n",
       "    </tr>\n",
       "  </thead>\n",
       "  <tbody>\n",
       "    <tr>\n",
       "      <th>Daily Time Spent on Site</th>\n",
       "      <td>987.0</td>\n",
       "      <td>6.492952e+01</td>\n",
       "      <td>1.584470e+01</td>\n",
       "      <td>32.60</td>\n",
       "      <td>5.127000e+01</td>\n",
       "      <td>6.811000e+01</td>\n",
       "      <td>7.846000e+01</td>\n",
       "      <td>9.143000e+01</td>\n",
       "    </tr>\n",
       "    <tr>\n",
       "      <th>Age</th>\n",
       "      <td>1000.0</td>\n",
       "      <td>3.600900e+01</td>\n",
       "      <td>8.785562e+00</td>\n",
       "      <td>19.00</td>\n",
       "      <td>2.900000e+01</td>\n",
       "      <td>3.500000e+01</td>\n",
       "      <td>4.200000e+01</td>\n",
       "      <td>6.100000e+01</td>\n",
       "    </tr>\n",
       "    <tr>\n",
       "      <th>Area Income</th>\n",
       "      <td>987.0</td>\n",
       "      <td>3.848647e+08</td>\n",
       "      <td>9.407999e+07</td>\n",
       "      <td>97975500.00</td>\n",
       "      <td>3.286330e+08</td>\n",
       "      <td>3.990683e+08</td>\n",
       "      <td>4.583554e+08</td>\n",
       "      <td>5.563936e+08</td>\n",
       "    </tr>\n",
       "    <tr>\n",
       "      <th>Daily Internet Usage</th>\n",
       "      <td>989.0</td>\n",
       "      <td>1.798636e+02</td>\n",
       "      <td>4.387014e+01</td>\n",
       "      <td>104.78</td>\n",
       "      <td>1.387100e+02</td>\n",
       "      <td>1.826500e+02</td>\n",
       "      <td>2.187900e+02</td>\n",
       "      <td>2.670100e+02</td>\n",
       "    </tr>\n",
       "  </tbody>\n",
       "</table>\n",
       "</div>"
      ],
      "text/plain": [
       "                           count          mean           std          min  \\\n",
       "Daily Time Spent on Site   987.0  6.492952e+01  1.584470e+01        32.60   \n",
       "Age                       1000.0  3.600900e+01  8.785562e+00        19.00   \n",
       "Area Income                987.0  3.848647e+08  9.407999e+07  97975500.00   \n",
       "Daily Internet Usage       989.0  1.798636e+02  4.387014e+01       104.78   \n",
       "\n",
       "                                   25%           50%           75%  \\\n",
       "Daily Time Spent on Site  5.127000e+01  6.811000e+01  7.846000e+01   \n",
       "Age                       2.900000e+01  3.500000e+01  4.200000e+01   \n",
       "Area Income               3.286330e+08  3.990683e+08  4.583554e+08   \n",
       "Daily Internet Usage      1.387100e+02  1.826500e+02  2.187900e+02   \n",
       "\n",
       "                                   max  \n",
       "Daily Time Spent on Site  9.143000e+01  \n",
       "Age                       6.100000e+01  \n",
       "Area Income               5.563936e+08  \n",
       "Daily Internet Usage      2.670100e+02  "
      ]
     },
     "execution_count": 7,
     "metadata": {},
     "output_type": "execute_result"
    }
   ],
   "source": [
    "df[num_col].describe().T"
   ]
  },
  {
   "cell_type": "code",
   "execution_count": 8,
   "metadata": {},
   "outputs": [
    {
     "data": {
      "text/html": [
       "<div>\n",
       "<style scoped>\n",
       "    .dataframe tbody tr th:only-of-type {\n",
       "        vertical-align: middle;\n",
       "    }\n",
       "\n",
       "    .dataframe tbody tr th {\n",
       "        vertical-align: top;\n",
       "    }\n",
       "\n",
       "    .dataframe thead th {\n",
       "        text-align: right;\n",
       "    }\n",
       "</style>\n",
       "<table border=\"1\" class=\"dataframe\">\n",
       "  <thead>\n",
       "    <tr style=\"text-align: right;\">\n",
       "      <th></th>\n",
       "      <th>count</th>\n",
       "      <th>unique</th>\n",
       "      <th>top</th>\n",
       "      <th>freq</th>\n",
       "    </tr>\n",
       "  </thead>\n",
       "  <tbody>\n",
       "    <tr>\n",
       "      <th>Male</th>\n",
       "      <td>997</td>\n",
       "      <td>2</td>\n",
       "      <td>Perempuan</td>\n",
       "      <td>518</td>\n",
       "    </tr>\n",
       "    <tr>\n",
       "      <th>Timestamp</th>\n",
       "      <td>1000</td>\n",
       "      <td>997</td>\n",
       "      <td>5/26/2016 15:40</td>\n",
       "      <td>2</td>\n",
       "    </tr>\n",
       "    <tr>\n",
       "      <th>Clicked on Ad</th>\n",
       "      <td>1000</td>\n",
       "      <td>2</td>\n",
       "      <td>No</td>\n",
       "      <td>500</td>\n",
       "    </tr>\n",
       "    <tr>\n",
       "      <th>city</th>\n",
       "      <td>1000</td>\n",
       "      <td>30</td>\n",
       "      <td>Surabaya</td>\n",
       "      <td>64</td>\n",
       "    </tr>\n",
       "    <tr>\n",
       "      <th>province</th>\n",
       "      <td>1000</td>\n",
       "      <td>16</td>\n",
       "      <td>Daerah Khusus Ibukota Jakarta</td>\n",
       "      <td>253</td>\n",
       "    </tr>\n",
       "    <tr>\n",
       "      <th>category</th>\n",
       "      <td>1000</td>\n",
       "      <td>10</td>\n",
       "      <td>Otomotif</td>\n",
       "      <td>112</td>\n",
       "    </tr>\n",
       "  </tbody>\n",
       "</table>\n",
       "</div>"
      ],
      "text/plain": [
       "              count unique                            top freq\n",
       "Male            997      2                      Perempuan  518\n",
       "Timestamp      1000    997                5/26/2016 15:40    2\n",
       "Clicked on Ad  1000      2                             No  500\n",
       "city           1000     30                       Surabaya   64\n",
       "province       1000     16  Daerah Khusus Ibukota Jakarta  253\n",
       "category       1000     10                       Otomotif  112"
      ]
     },
     "execution_count": 8,
     "metadata": {},
     "output_type": "execute_result"
    }
   ],
   "source": [
    "df[cat_col].describe().T"
   ]
  },
  {
   "cell_type": "code",
   "execution_count": 9,
   "metadata": {},
   "outputs": [
    {
     "data": {
      "text/html": [
       "<div>\n",
       "<style scoped>\n",
       "    .dataframe tbody tr th:only-of-type {\n",
       "        vertical-align: middle;\n",
       "    }\n",
       "\n",
       "    .dataframe tbody tr th {\n",
       "        vertical-align: top;\n",
       "    }\n",
       "\n",
       "    .dataframe thead th {\n",
       "        text-align: right;\n",
       "    }\n",
       "</style>\n",
       "<table border=\"1\" class=\"dataframe\">\n",
       "  <thead>\n",
       "    <tr style=\"text-align: right;\">\n",
       "      <th></th>\n",
       "      <th>column_name</th>\n",
       "      <th>sum_missing</th>\n",
       "      <th>percent_missing</th>\n",
       "    </tr>\n",
       "  </thead>\n",
       "  <tbody>\n",
       "    <tr>\n",
       "      <th>0</th>\n",
       "      <td>Daily Time Spent on Site</td>\n",
       "      <td>13</td>\n",
       "      <td>1.3</td>\n",
       "    </tr>\n",
       "    <tr>\n",
       "      <th>2</th>\n",
       "      <td>Area Income</td>\n",
       "      <td>13</td>\n",
       "      <td>1.3</td>\n",
       "    </tr>\n",
       "    <tr>\n",
       "      <th>3</th>\n",
       "      <td>Daily Internet Usage</td>\n",
       "      <td>11</td>\n",
       "      <td>1.1</td>\n",
       "    </tr>\n",
       "    <tr>\n",
       "      <th>4</th>\n",
       "      <td>Male</td>\n",
       "      <td>3</td>\n",
       "      <td>0.3</td>\n",
       "    </tr>\n",
       "    <tr>\n",
       "      <th>1</th>\n",
       "      <td>Age</td>\n",
       "      <td>0</td>\n",
       "      <td>0.0</td>\n",
       "    </tr>\n",
       "    <tr>\n",
       "      <th>5</th>\n",
       "      <td>Timestamp</td>\n",
       "      <td>0</td>\n",
       "      <td>0.0</td>\n",
       "    </tr>\n",
       "    <tr>\n",
       "      <th>6</th>\n",
       "      <td>Clicked on Ad</td>\n",
       "      <td>0</td>\n",
       "      <td>0.0</td>\n",
       "    </tr>\n",
       "    <tr>\n",
       "      <th>7</th>\n",
       "      <td>city</td>\n",
       "      <td>0</td>\n",
       "      <td>0.0</td>\n",
       "    </tr>\n",
       "    <tr>\n",
       "      <th>8</th>\n",
       "      <td>province</td>\n",
       "      <td>0</td>\n",
       "      <td>0.0</td>\n",
       "    </tr>\n",
       "    <tr>\n",
       "      <th>9</th>\n",
       "      <td>category</td>\n",
       "      <td>0</td>\n",
       "      <td>0.0</td>\n",
       "    </tr>\n",
       "  </tbody>\n",
       "</table>\n",
       "</div>"
      ],
      "text/plain": [
       "                column_name  sum_missing  percent_missing\n",
       "0  Daily Time Spent on Site           13              1.3\n",
       "2               Area Income           13              1.3\n",
       "3      Daily Internet Usage           11              1.1\n",
       "4                      Male            3              0.3\n",
       "1                       Age            0              0.0\n",
       "5                 Timestamp            0              0.0\n",
       "6             Clicked on Ad            0              0.0\n",
       "7                      city            0              0.0\n",
       "8                  province            0              0.0\n",
       "9                  category            0              0.0"
      ]
     },
     "execution_count": 9,
     "metadata": {},
     "output_type": "execute_result"
    }
   ],
   "source": [
    "sum_missing = df.isna().sum()\n",
    "percent_missing = round(df.isnull().sum() *100 / len(df),2)\n",
    "missing_value_df = pd.DataFrame({'column_name': df.columns,\n",
    "                                 'sum_missing': sum_missing,\n",
    "                                 'percent_missing': percent_missing}).reset_index(drop=True).sort_values(by='sum_missing', ascending=False)\n",
    "missing_value_df"
   ]
  },
  {
   "attachments": {},
   "cell_type": "markdown",
   "metadata": {},
   "source": [
    "## EDA"
   ]
  },
  {
   "attachments": {},
   "cell_type": "markdown",
   "metadata": {},
   "source": [
    "### Univariate"
   ]
  },
  {
   "cell_type": "code",
   "execution_count": 10,
   "metadata": {},
   "outputs": [],
   "source": [
    "to_plot = ['Daily Time Spent on Site','Daily Internet Usage','Age','Area Income']"
   ]
  },
  {
   "cell_type": "code",
   "execution_count": 11,
   "metadata": {},
   "outputs": [
    {
     "data": {
      "image/png": "[encoded data removed]",
      "text/plain": [
       "<Figure size 700x300 with 4 Axes>"
      ]
     },
     "metadata": {},
     "output_type": "display_data"
    }
   ],
   "source": [
    "sns.set_theme(style=\"darkgrid\")\n",
    "sns.color_palette(\"viridis\", as_cmap=True)\n",
    "plt.figure(figsize=(7,3))\n",
    "for i in range(0, len(to_plot)):\n",
    "    plt.subplot(1, 4, i+1)\n",
    "    sns.boxplot(y=df[to_plot[i]], orient='v')\n",
    "    plt.tight_layout()"
   ]
  },
  {
   "cell_type": "code",
   "execution_count": 12,
   "metadata": {},
   "outputs": [
    {
     "data": {
      "text/plain": [
       "<AxesSubplot:xlabel='Daily Internet Usage', ylabel='Count'>"
      ]
     },
     "execution_count": 58,
     "metadata": {},
     "output_type": "execute_result"
    },
    {
     "data": {
      "image/png": "[encoded data removed]",
      "text/plain": [
       "<Figure size 1600x400 with 2 Axes>"
      ]
     },
     "metadata": {},
     "output_type": "display_data"
    },
    {
     "data": {
      "text/plain": [
       "<Figure size 800x400 with 0 Axes>"
      ]
     },
     "metadata": {},
     "output_type": "display_data"
    }
   ],
   "source": [
    "fig, axs = plt.subplots(1, 2, figsize=(16, 4))\n",
    "plt.figure(figsize=(8, 4))\n",
    "sns.histplot(data=df, x='Daily Time Spent on Site', bins=20, kde=True, hue='Clicked on Ad', ax=axs[0])\n",
    "sns.histplot(data=df, x='Daily Internet Usage', bins=20, kde=True, hue='Clicked on Ad', ax=axs[1])"
   ]
  },
  {
   "cell_type": "code",
   "execution_count": 64,
   "metadata": {},
   "outputs": [
    {
     "data": {
      "text/plain": [
       "<AxesSubplot:xlabel='Area Income', ylabel='Count'>"
      ]
     },
     "execution_count": 64,
     "metadata": {},
     "output_type": "execute_result"
    },
    {
     "data": {
      "image/png": "[encoded data removed]",
      "text/plain": [
       "<Figure size 1600x400 with 2 Axes>"
      ]
     },
     "metadata": {},
     "output_type": "display_data"
    },
    {
     "data": {
      "text/plain": [
       "<Figure size 800x400 with 0 Axes>"
      ]
     },
     "metadata": {},
     "output_type": "display_data"
    }
   ],
   "source": [
    "fig, axs = plt.subplots(1, 2, figsize=(16, 4))\n",
    "plt.figure(figsize=(8, 4))\n",
    "sns.histplot(data=df, x='Age', bins=20, kde=True, hue='Clicked on Ad', ax=axs[0])\n",
    "sns.histplot(data=df, x='Area Income', bins=20, kde=True, hue='Clicked on Ad', ax=axs[1])"
   ]
  },
  {
   "cell_type": "code",
   "execution_count": 40,
   "metadata": {},
   "outputs": [],
   "source": [
    "# Choosing only for visitors who clicked\n",
    "df_clicked = df[df['Clicked on Ad'] == 'Yes']"
   ]
  },
  {
   "attachments": {},
   "cell_type": "markdown",
   "metadata": {},
   "source": [
    "### Visitor Characteristics"
   ]
  },
  {
   "cell_type": "code",
   "execution_count": 52,
   "metadata": {},
   "outputs": [
    {
     "data": {
      "application/vnd.plotly.v1+json": {
       "config": {
        "plotlyServerURL": "https://plot.ly"
       },
       "data": [
        {
         "alignmentgroup": "True",
         "bingroup": "x",
         "hovertemplate": "Age=%{x}<br>count=%{y}<extra></extra>",
         "legendgroup": "",
         "marker": {
          "color": "#636efa",
          "pattern": {
           "shape": ""
          }
         },
         "name": "",
         "offsetgroup": "",
         "orientation": "v",
         "showlegend": false,
         "type": "histogram",
         "x": [
          48,
          49,
          48,
          33,
          23,
          37,
          36,
          40,
          52,
          41,
          28,
          52,
          34,
          57,
          23,
          57,
          53,
          46,
          39,
          52,
          37,
          46,
          45,
          50,
          47,
          36,
          49,
          41,
          45,
          40,
          32,
          34,
          31,
          39,
          43,
          42,
          35,
          38,
          45,
          38,
          54,
          41,
          34,
          34,
          37,
          43,
          24,
          40,
          31,
          36,
          41,
          46,
          53,
          42,
          30,
          60,
          53,
          46,
          55,
          42,
          50,
          45,
          36,
          43,
          44,
          50,
          36,
          36,
          47,
          39,
          36,
          38,
          30,
          44,
          44,
          49,
          41,
          46,
          57,
          48,
          36,
          28,
          36,
          50,
          32,
          55,
          42,
          52,
          48,
          44,
          31,
          38,
          27,
          60,
          54,
          57,
          30,
          36,
          30,
          35,
          49,
          53,
          32,
          45,
          40,
          29,
          58,
          38,
          38,
          43,
          23,
          53,
          34,
          40,
          38,
          39,
          41,
          30,
          29,
          38,
          32,
          38,
          28,
          50,
          45,
          36,
          33,
          44,
          47,
          45,
          41,
          56,
          25,
          45,
          30,
          48,
          38,
          31,
          35,
          35,
          44,
          43,
          26,
          26,
          53,
          29,
          52,
          24,
          35,
          51,
          26,
          42,
          24,
          31,
          39,
          50,
          39,
          38,
          43,
          24,
          54,
          22,
          39,
          44,
          34,
          36,
          48,
          31,
          49,
          41,
          47,
          48,
          26,
          52,
          19,
          52,
          47,
          39,
          59,
          33,
          41,
          36,
          54,
          50,
          45,
          47,
          42,
          31,
          41,
          27,
          42,
          38,
          47,
          51,
          28,
          47,
          43,
          52,
          50,
          27,
          49,
          45,
          33,
          40,
          43,
          32,
          41,
          35,
          31,
          36,
          42,
          37,
          29,
          43,
          42,
          36,
          32,
          39,
          38,
          40,
          34,
          50,
          28,
          24,
          52,
          35,
          42,
          40,
          45,
          52,
          33,
          35,
          23,
          47,
          36,
          31,
          50,
          41,
          28,
          30,
          37,
          35,
          48,
          40,
          33,
          28,
          30,
          39,
          37,
          46,
          37,
          49,
          41,
          58,
          30,
          44,
          37,
          34,
          55,
          40,
          42,
          29,
          43,
          39,
          52,
          49,
          42,
          38,
          55,
          58,
          35,
          33,
          49,
          44,
          41,
          36,
          42,
          40,
          23,
          45,
          54,
          39,
          46,
          36,
          27,
          33,
          25,
          45,
          28,
          25,
          42,
          38,
          36,
          48,
          48,
          50,
          40,
          35,
          51,
          40,
          30,
          37,
          31,
          53,
          41,
          39,
          60,
          23,
          49,
          39,
          37,
          55,
          51,
          49,
          41,
          45,
          28,
          41,
          28,
          43,
          49,
          26,
          50,
          55,
          32,
          31,
          33,
          61,
          55,
          29,
          38,
          46,
          28,
          36,
          34,
          47,
          29,
          54,
          54,
          30,
          23,
          48,
          57,
          43,
          53,
          38,
          35,
          45,
          36,
          43,
          41,
          26,
          52,
          43,
          38,
          37,
          29,
          50,
          29,
          32,
          58,
          59,
          37,
          35,
          29,
          32,
          54,
          25,
          51,
          33,
          29,
          42,
          41,
          60,
          45,
          54,
          26,
          44,
          41,
          36,
          39,
          40,
          33,
          33,
          31,
          47,
          32,
          49,
          29,
          34,
          50,
          49,
          41,
          43,
          44,
          35,
          43,
          29,
          48,
          23,
          38,
          30,
          45,
          35,
          49,
          30,
          34,
          42,
          33,
          46,
          49,
          40,
          46,
          40,
          45,
          42,
          37,
          52,
          35,
          45,
          34,
          24,
          51,
          45,
          33,
          27,
          29,
          44,
          33,
          42,
          45,
          53,
          44,
          36,
          20,
          40,
          41,
          37,
          45,
          51,
          38,
          43,
          50,
          50,
          52,
          47,
          42,
          39,
          34,
          42,
          37,
          49,
          56,
          51,
          45,
          45,
          34,
          38,
          34,
          45,
          48,
          38,
          46,
          51,
          39,
          32,
          30,
          31,
          30,
          50,
          43,
          27,
          36,
          29,
          44,
          36,
          28,
          50,
          52,
          38,
          27,
          29,
          48,
          50,
          40,
          48,
          45,
          31,
          57,
          38,
          44,
          43,
          44,
          38,
          40,
          28,
          30,
          45,
          51,
          26
         ],
         "xaxis": "x",
         "yaxis": "y"
        }
       ],
       "layout": {
        "barmode": "relative",
        "height": 500,
        "legend": {
         "tracegroupgap": 0
        },
        "margin": {
         "t": 60
        },
        "template": {
         "data": {
          "bar": [
           {
            "error_x": {
             "color": "#f2f5fa"
            },
            "error_y": {
             "color": "#f2f5fa"
            },
            "marker": {
             "line": {
              "color": "rgb(17,17,17)",
              "width": 0.5
             },
             "pattern": {
              "fillmode": "overlay",
              "size": 10,
              "solidity": 0.2
             }
            },
            "type": "bar"
           }
          ],
          "barpolar": [
           {
            "marker": {
             "line": {
              "color": "rgb(17,17,17)",
              "width": 0.5
             },
             "pattern": {
              "fillmode": "overlay",
              "size": 10,
              "solidity": 0.2
             }
            },
            "type": "barpolar"
           }
          ],
          "carpet": [
           {
            "aaxis": {
             "endlinecolor": "#A2B1C6",
             "gridcolor": "#506784",
             "linecolor": "#506784",
             "minorgridcolor": "#506784",
             "startlinecolor": "#A2B1C6"
            },
            "baxis": {
             "endlinecolor": "#A2B1C6",
             "gridcolor": "#506784",
             "linecolor": "#506784",
             "minorgridcolor": "#506784",
             "startlinecolor": "#A2B1C6"
            },
            "type": "carpet"
           }
          ],
          "choropleth": [
           {
            "colorbar": {
             "outlinewidth": 0,
             "ticks": ""
            },
            "type": "choropleth"
           }
          ],
          "contour": [
           {
            "colorbar": {
             "outlinewidth": 0,
             "ticks": ""
            },
            "colorscale": [
             [
              0,
              "#0d0887"
             ],
             [
              0.1111111111111111,
              "#46039f"
             ],
             [
              0.2222222222222222,
              "#7201a8"
             ],
             [
              0.3333333333333333,
              "#9c179e"
             ],
             [
              0.4444444444444444,
              "#bd3786"
             ],
             [
              0.5555555555555556,
              "#d8576b"
             ],
             [
              0.6666666666666666,
              "#ed7953"
             ],
             [
              0.7777777777777778,
              "#fb9f3a"
             ],
             [
              0.8888888888888888,
              "#fdca26"
             ],
             [
              1,
              "#f0f921"
             ]
            ],
            "type": "contour"
           }
          ],
          "contourcarpet": [
           {
            "colorbar": {
             "outlinewidth": 0,
             "ticks": ""
            },
            "type": "contourcarpet"
           }
          ],
          "heatmap": [
           {
            "colorbar": {
             "outlinewidth": 0,
             "ticks": ""
            },
            "colorscale": [
             [
              0,
              "#0d0887"
             ],
             [
              0.1111111111111111,
              "#46039f"
             ],
             [
              0.2222222222222222,
              "#7201a8"
             ],
             [
              0.3333333333333333,
              "#9c179e"
             ],
             [
              0.4444444444444444,
              "#bd3786"
             ],
             [
              0.5555555555555556,
              "#d8576b"
             ],
             [
              0.6666666666666666,
              "#ed7953"
             ],
             [
              0.7777777777777778,
              "#fb9f3a"
             ],
             [
              0.8888888888888888,
              "#fdca26"
             ],
             [
              1,
              "#f0f921"
             ]
            ],
            "type": "heatmap"
           }
          ],
          "heatmapgl": [
           {
            "colorbar": {
             "outlinewidth": 0,
             "ticks": ""
            },
            "colorscale": [
             [
              0,
              "#0d0887"
             ],
             [
              0.1111111111111111,
              "#46039f"
             ],
             [
              0.2222222222222222,
              "#7201a8"
             ],
             [
              0.3333333333333333,
              "#9c179e"
             ],
             [
              0.4444444444444444,
              "#bd3786"
             ],
             [
              0.5555555555555556,
              "#d8576b"
             ],
             [
              0.6666666666666666,
              "#ed7953"
             ],
             [
              0.7777777777777778,
              "#fb9f3a"
             ],
             [
              0.8888888888888888,
              "#fdca26"
             ],
             [
              1,
              "#f0f921"
             ]
            ],
            "type": "heatmapgl"
           }
          ],
          "histogram": [
           {
            "marker": {
             "pattern": {
              "fillmode": "overlay",
              "size": 10,
              "solidity": 0.2
             }
            },
            "type": "histogram"
           }
          ],
          "histogram2d": [
           {
            "colorbar": {
             "outlinewidth": 0,
             "ticks": ""
            },
            "colorscale": [
             [
              0,
              "#0d0887"
             ],
             [
              0.1111111111111111,
              "#46039f"
             ],
             [
              0.2222222222222222,
              "#7201a8"
             ],
             [
              0.3333333333333333,
              "#9c179e"
             ],
             [
              0.4444444444444444,
              "#bd3786"
             ],
             [
              0.5555555555555556,
              "#d8576b"
             ],
             [
              0.6666666666666666,
              "#ed7953"
             ],
             [
              0.7777777777777778,
              "#fb9f3a"
             ],
             [
              0.8888888888888888,
              "#fdca26"
             ],
             [
              1,
              "#f0f921"
             ]
            ],
            "type": "histogram2d"
           }
          ],
          "histogram2dcontour": [
           {
            "colorbar": {
             "outlinewidth": 0,
             "ticks": ""
            },
            "colorscale": [
             [
              0,
              "#0d0887"
             ],
             [
              0.1111111111111111,
              "#46039f"
             ],
             [
              0.2222222222222222,
              "#7201a8"
             ],
             [
              0.3333333333333333,
              "#9c179e"
             ],
             [
              0.4444444444444444,
              "#bd3786"
             ],
             [
              0.5555555555555556,
              "#d8576b"
             ],
             [
              0.6666666666666666,
              "#ed7953"
             ],
             [
              0.7777777777777778,
              "#fb9f3a"
             ],
             [
              0.8888888888888888,
              "#fdca26"
             ],
             [
              1,
              "#f0f921"
             ]
            ],
            "type": "histogram2dcontour"
           }
          ],
          "mesh3d": [
           {
            "colorbar": {
             "outlinewidth": 0,
             "ticks": ""
            },
            "type": "mesh3d"
           }
          ],
          "parcoords": [
           {
            "line": {
             "colorbar": {
              "outlinewidth": 0,
              "ticks": ""
             }
            },
            "type": "parcoords"
           }
          ],
          "pie": [
           {
            "automargin": true,
            "type": "pie"
           }
          ],
          "scatter": [
           {
            "marker": {
             "line": {
              "color": "#283442"
             }
            },
            "type": "scatter"
           }
          ],
          "scatter3d": [
           {
            "line": {
             "colorbar": {
              "outlinewidth": 0,
              "ticks": ""
             }
            },
            "marker": {
             "colorbar": {
              "outlinewidth": 0,
              "ticks": ""
             }
            },
            "type": "scatter3d"
           }
          ],
          "scattercarpet": [
           {
            "marker": {
             "colorbar": {
              "outlinewidth": 0,
              "ticks": ""
             }
            },
            "type": "scattercarpet"
           }
          ],
          "scattergeo": [
           {
            "marker": {
             "colorbar": {
              "outlinewidth": 0,
              "ticks": ""
             }
            },
            "type": "scattergeo"
           }
          ],
          "scattergl": [
           {
            "marker": {
             "line": {
              "color": "#283442"
             }
            },
            "type": "scattergl"
           }
          ],
          "scattermapbox": [
           {
            "marker": {
             "colorbar": {
              "outlinewidth": 0,
              "ticks": ""
             }
            },
            "type": "scattermapbox"
           }
          ],
          "scatterpolar": [
           {
            "marker": {
             "colorbar": {
              "outlinewidth": 0,
              "ticks": ""
             }
            },
            "type": "scatterpolar"
           }
          ],
          "scatterpolargl": [
           {
            "marker": {
             "colorbar": {
              "outlinewidth": 0,
              "ticks": ""
             }
            },
            "type": "scatterpolargl"
           }
          ],
          "scatterternary": [
           {
            "marker": {
             "colorbar": {
              "outlinewidth": 0,
              "ticks": ""
             }
            },
            "type": "scatterternary"
           }
          ],
          "surface": [
           {
            "colorbar": {
             "outlinewidth": 0,
             "ticks": ""
            },
            "colorscale": [
             [
              0,
              "#0d0887"
             ],
             [
              0.1111111111111111,
              "#46039f"
             ],
             [
              0.2222222222222222,
              "#7201a8"
             ],
             [
              0.3333333333333333,
              "#9c179e"
             ],
             [
              0.4444444444444444,
              "#bd3786"
             ],
             [
              0.5555555555555556,
              "#d8576b"
             ],
             [
              0.6666666666666666,
              "#ed7953"
             ],
             [
              0.7777777777777778,
              "#fb9f3a"
             ],
             [
              0.8888888888888888,
              "#fdca26"
             ],
             [
              1,
              "#f0f921"
             ]
            ],
            "type": "surface"
           }
          ],
          "table": [
           {
            "cells": {
             "fill": {
              "color": "#506784"
             },
             "line": {
              "color": "rgb(17,17,17)"
             }
            },
            "header": {
             "fill": {
              "color": "#2a3f5f"
             },
             "line": {
              "color": "rgb(17,17,17)"
             }
            },
            "type": "table"
           }
          ]
         },
         "layout": {
          "annotationdefaults": {
           "arrowcolor": "#f2f5fa",
           "arrowhead": 0,
           "arrowwidth": 1
          },
          "autotypenumbers": "strict",
          "coloraxis": {
           "colorbar": {
            "outlinewidth": 0,
            "ticks": ""
           }
          },
          "colorscale": {
           "diverging": [
            [
             0,
             "#8e0152"
            ],
            [
             0.1,
             "#c51b7d"
            ],
            [
             0.2,
             "#de77ae"
            ],
            [
             0.3,
             "#f1b6da"
            ],
            [
             0.4,
             "#fde0ef"
            ],
            [
             0.5,
             "#f7f7f7"
            ],
            [
             0.6,
             "#e6f5d0"
            ],
            [
             0.7,
             "#b8e186"
            ],
            [
             0.8,
             "#7fbc41"
            ],
            [
             0.9,
             "#4d9221"
            ],
            [
             1,
             "#276419"
            ]
           ],
           "sequential": [
            [
             0,
             "#0d0887"
            ],
            [
             0.1111111111111111,
             "#46039f"
            ],
            [
             0.2222222222222222,
             "#7201a8"
            ],
            [
             0.3333333333333333,
             "#9c179e"
            ],
            [
             0.4444444444444444,
             "#bd3786"
            ],
            [
             0.5555555555555556,
             "#d8576b"
            ],
            [
             0.6666666666666666,
             "#ed7953"
            ],
            [
             0.7777777777777778,
             "#fb9f3a"
            ],
            [
             0.8888888888888888,
             "#fdca26"
            ],
            [
             1,
             "#f0f921"
            ]
           ],
           "sequentialminus": [
            [
             0,
             "#0d0887"
            ],
            [
             0.1111111111111111,
             "#46039f"
            ],
            [
             0.2222222222222222,
             "#7201a8"
            ],
            [
             0.3333333333333333,
             "#9c179e"
            ],
            [
             0.4444444444444444,
             "#bd3786"
            ],
            [
             0.5555555555555556,
             "#d8576b"
            ],
            [
             0.6666666666666666,
             "#ed7953"
            ],
            [
             0.7777777777777778,
             "#fb9f3a"
            ],
            [
             0.8888888888888888,
             "#fdca26"
            ],
            [
             1,
             "#f0f921"
            ]
           ]
          },
          "colorway": [
           "#636efa",
           "#EF553B",
           "#00cc96",
           "#ab63fa",
           "#FFA15A",
           "#19d3f3",
           "#FF6692",
           "#B6E880",
           "#FF97FF",
           "#FECB52"
          ],
          "font": {
           "color": "#f2f5fa"
          },
          "geo": {
           "bgcolor": "rgb(17,17,17)",
           "lakecolor": "rgb(17,17,17)",
           "landcolor": "rgb(17,17,17)",
           "showlakes": true,
           "showland": true,
           "subunitcolor": "#506784"
          },
          "hoverlabel": {
           "align": "left"
          },
          "hovermode": "closest",
          "mapbox": {
           "style": "dark"
          },
          "paper_bgcolor": "rgb(17,17,17)",
          "plot_bgcolor": "rgb(17,17,17)",
          "polar": {
           "angularaxis": {
            "gridcolor": "#506784",
            "linecolor": "#506784",
            "ticks": ""
           },
           "bgcolor": "rgb(17,17,17)",
           "radialaxis": {
            "gridcolor": "#506784",
            "linecolor": "#506784",
            "ticks": ""
           }
          },
          "scene": {
           "xaxis": {
            "backgroundcolor": "rgb(17,17,17)",
            "gridcolor": "#506784",
            "gridwidth": 2,
            "linecolor": "#506784",
            "showbackground": true,
            "ticks": "",
            "zerolinecolor": "#C8D4E3"
           },
           "yaxis": {
            "backgroundcolor": "rgb(17,17,17)",
            "gridcolor": "#506784",
            "gridwidth": 2,
            "linecolor": "#506784",
            "showbackground": true,
            "ticks": "",
            "zerolinecolor": "#C8D4E3"
           },
           "zaxis": {
            "backgroundcolor": "rgb(17,17,17)",
            "gridcolor": "#506784",
            "gridwidth": 2,
            "linecolor": "#506784",
            "showbackground": true,
            "ticks": "",
            "zerolinecolor": "#C8D4E3"
           }
          },
          "shapedefaults": {
           "line": {
            "color": "#f2f5fa"
           }
          },
          "sliderdefaults": {
           "bgcolor": "#C8D4E3",
           "bordercolor": "rgb(17,17,17)",
           "borderwidth": 1,
           "tickwidth": 0
          },
          "ternary": {
           "aaxis": {
            "gridcolor": "#506784",
            "linecolor": "#506784",
            "ticks": ""
           },
           "baxis": {
            "gridcolor": "#506784",
            "linecolor": "#506784",
            "ticks": ""
           },
           "bgcolor": "rgb(17,17,17)",
           "caxis": {
            "gridcolor": "#506784",
            "linecolor": "#506784",
            "ticks": ""
           }
          },
          "title": {
           "x": 0.05
          },
          "updatemenudefaults": {
           "bgcolor": "#506784",
           "borderwidth": 0
          },
          "xaxis": {
           "automargin": true,
           "gridcolor": "#283442",
           "linecolor": "#506784",
           "ticks": "",
           "title": {
            "standoff": 15
           },
           "zerolinecolor": "#283442",
           "zerolinewidth": 2
          },
          "yaxis": {
           "automargin": true,
           "gridcolor": "#283442",
           "linecolor": "#506784",
           "ticks": "",
           "title": {
            "standoff": 15
           },
           "zerolinecolor": "#283442",
           "zerolinewidth": 2
          }
         }
        },
        "width": 1200,
        "xaxis": {
         "anchor": "y",
         "domain": [
          0,
          1
         ],
         "title": {
          "text": "Age"
         }
        },
        "yaxis": {
         "anchor": "x",
         "domain": [
          0,
          1
         ],
         "title": {
          "text": "count"
         }
        }
       }
      }
     },
     "metadata": {},
     "output_type": "display_data"
    }
   ],
   "source": [
    "fig = px.histogram(df_clicked, x='Age',\n",
    "                   template='plotly_dark', width=1200, height=500)\n",
    "fig.show()"
   ]
  },
  {
   "cell_type": "code",
   "execution_count": 50,
   "metadata": {},
   "outputs": [
    {
     "data": {
      "application/vnd.plotly.v1+json": {
       "config": {
        "plotlyServerURL": "https://plot.ly"
       },
       "data": [
        {
         "alignmentgroup": "True",
         "bingroup": "x",
         "hovertemplate": "Male=%{x}<br>count=%{y}<extra></extra>",
         "legendgroup": "",
         "marker": {
          "color": "#636efa",
          "pattern": {
           "shape": ""
          }
         },
         "name": "",
         "nbinsx": 20,
         "offsetgroup": "",
         "orientation": "v",
         "showlegend": false,
         "type": "histogram",
         "x": [
          "Laki-Laki",
          "Perempuan",
          "Laki-Laki",
          "Perempuan",
          "Laki-Laki",
          "Perempuan",
          "Laki-Laki",
          "Laki-Laki",
          "Perempuan",
          "Perempuan",
          "Laki-Laki",
          "Perempuan",
          "Perempuan",
          "Laki-Laki",
          "Perempuan",
          "Laki-Laki",
          "Laki-Laki",
          "Laki-Laki",
          "Perempuan",
          "Laki-Laki",
          "Laki-Laki",
          "Perempuan",
          "Laki-Laki",
          "Laki-Laki",
          "Perempuan",
          "Perempuan",
          "Perempuan",
          "Perempuan",
          "Perempuan",
          "Perempuan",
          "Perempuan",
          "Perempuan",
          "Perempuan",
          "Laki-Laki",
          "Laki-Laki",
          "Laki-Laki",
          "Laki-Laki",
          "Laki-Laki",
          "Perempuan",
          "Perempuan",
          "Perempuan",
          "Perempuan",
          "Laki-Laki",
          "Perempuan",
          "Laki-Laki",
          "Perempuan",
          "Perempuan",
          "Laki-Laki",
          "Laki-Laki",
          "Laki-Laki",
          "Perempuan",
          "Perempuan",
          "Perempuan",
          "Perempuan",
          "Perempuan",
          "Perempuan",
          "Laki-Laki",
          "Laki-Laki",
          "Perempuan",
          "Laki-Laki",
          "Perempuan",
          "Perempuan",
          "Perempuan",
          "Perempuan",
          "Perempuan",
          "Perempuan",
          "Perempuan",
          "Perempuan",
          "Perempuan",
          "Laki-Laki",
          "Perempuan",
          "Laki-Laki",
          "Laki-Laki",
          "Laki-Laki",
          "Laki-Laki",
          "Laki-Laki",
          "Laki-Laki",
          "Perempuan",
          "Perempuan",
          "Laki-Laki",
          "Perempuan",
          "Laki-Laki",
          "Perempuan",
          "Perempuan",
          "Perempuan",
          "Perempuan",
          "Laki-Laki",
          "Laki-Laki",
          "Perempuan",
          "Perempuan",
          "Laki-Laki",
          "Perempuan",
          "Perempuan",
          "Perempuan",
          "Perempuan",
          "Laki-Laki",
          "Perempuan",
          "Perempuan",
          "Perempuan",
          "Perempuan",
          "Laki-Laki",
          "Laki-Laki",
          "Perempuan",
          "Laki-Laki",
          "Laki-Laki",
          "Perempuan",
          "Perempuan",
          "Laki-Laki",
          "Perempuan",
          "Laki-Laki",
          "Perempuan",
          "Laki-Laki",
          "Perempuan",
          "Perempuan",
          "Perempuan",
          "Perempuan",
          "Perempuan",
          "Perempuan",
          "Perempuan",
          "Perempuan",
          "Laki-Laki",
          "Perempuan",
          "Perempuan",
          "Laki-Laki",
          "Laki-Laki",
          "Perempuan",
          "Perempuan",
          "Perempuan",
          "Laki-Laki",
          "Laki-Laki",
          "Laki-Laki",
          "Perempuan",
          "Perempuan",
          "Laki-Laki",
          "Laki-Laki",
          "Perempuan",
          "Laki-Laki",
          "Perempuan",
          "Perempuan",
          "Laki-Laki",
          "Perempuan",
          "Laki-Laki",
          "Perempuan",
          "Laki-Laki",
          "Laki-Laki",
          "Perempuan",
          "Perempuan",
          "Perempuan",
          "Perempuan",
          "Laki-Laki",
          "Perempuan",
          "Perempuan",
          "Perempuan",
          "Perempuan",
          "Laki-Laki",
          "Perempuan",
          "Perempuan",
          "Laki-Laki",
          "Perempuan",
          "Laki-Laki",
          "Perempuan",
          "Perempuan",
          "Perempuan",
          "Perempuan",
          "Perempuan",
          "Perempuan",
          "Laki-Laki",
          "Perempuan",
          "Laki-Laki",
          "Laki-Laki",
          "Perempuan",
          "Perempuan",
          "Laki-Laki",
          "Laki-Laki",
          "Perempuan",
          "Perempuan",
          "Perempuan",
          "Perempuan",
          "Perempuan",
          "Laki-Laki",
          "Laki-Laki",
          "Laki-Laki",
          "Laki-Laki",
          "Perempuan",
          "Laki-Laki",
          "Perempuan",
          "Perempuan",
          "Perempuan",
          "Laki-Laki",
          "Perempuan",
          "Laki-Laki",
          "Perempuan",
          "Laki-Laki",
          "Laki-Laki",
          "Perempuan",
          "Laki-Laki",
          "Perempuan",
          "Laki-Laki",
          "Laki-Laki",
          "Perempuan",
          "Perempuan",
          "Perempuan",
          "Perempuan",
          "Perempuan",
          "Laki-Laki",
          "Perempuan",
          "Laki-Laki",
          "Laki-Laki",
          "Perempuan",
          "Laki-Laki",
          "Laki-Laki",
          "Laki-Laki",
          "Perempuan",
          "Perempuan",
          "Perempuan",
          "Laki-Laki",
          "Perempuan",
          "Laki-Laki",
          "Laki-Laki",
          "Perempuan",
          "Laki-Laki",
          "Perempuan",
          "Perempuan",
          "Perempuan",
          "Laki-Laki",
          "Perempuan",
          "Laki-Laki",
          "Laki-Laki",
          "Perempuan",
          "Laki-Laki",
          "Laki-Laki",
          "Perempuan",
          "Laki-Laki",
          "Perempuan",
          "Perempuan",
          "Perempuan",
          "Laki-Laki",
          "Laki-Laki",
          "Laki-Laki",
          "Laki-Laki",
          "Perempuan",
          "Laki-Laki",
          "Perempuan",
          "Perempuan",
          "Perempuan",
          "Perempuan",
          "Laki-Laki",
          "Perempuan",
          "Perempuan",
          "Perempuan",
          "Perempuan",
          "Perempuan",
          "Perempuan",
          "Perempuan",
          "Perempuan",
          "Laki-Laki",
          "Laki-Laki",
          "Perempuan",
          "Laki-Laki",
          "Laki-Laki",
          "Perempuan",
          "Laki-Laki",
          "Perempuan",
          "Perempuan",
          "Perempuan",
          "Laki-Laki",
          "Laki-Laki",
          "Laki-Laki",
          "Perempuan",
          "Perempuan",
          "Laki-Laki",
          "Laki-Laki",
          "Laki-Laki",
          "Perempuan",
          "Laki-Laki",
          "Perempuan",
          "Perempuan",
          "Perempuan",
          "Laki-Laki",
          "Perempuan",
          "Perempuan",
          "Laki-Laki",
          "Perempuan",
          "Perempuan",
          "Perempuan",
          "Perempuan",
          "Laki-Laki",
          "Perempuan",
          "Perempuan",
          "Perempuan",
          "Perempuan",
          "Laki-Laki",
          "Laki-Laki",
          "Perempuan",
          "Laki-Laki",
          "Laki-Laki",
          "Laki-Laki",
          "Laki-Laki",
          "Laki-Laki",
          "Laki-Laki",
          "Laki-Laki",
          "Perempuan",
          "Laki-Laki",
          "Perempuan",
          "Laki-Laki",
          "Perempuan",
          "Laki-Laki",
          "Laki-Laki",
          "Laki-Laki",
          "Perempuan",
          "Perempuan",
          "Laki-Laki",
          "Perempuan",
          "Perempuan",
          "Perempuan",
          "Laki-Laki",
          "Laki-Laki",
          "Perempuan",
          "Laki-Laki",
          "Perempuan",
          "Perempuan",
          "Laki-Laki",
          "Laki-Laki",
          "Perempuan",
          "Laki-Laki",
          "Laki-Laki",
          "Perempuan",
          "Laki-Laki",
          "Laki-Laki",
          "Laki-Laki",
          "Laki-Laki",
          "Perempuan",
          "Laki-Laki",
          "Laki-Laki",
          "Perempuan",
          "Laki-Laki",
          "Perempuan",
          "Perempuan",
          "Perempuan",
          "Laki-Laki",
          "Perempuan",
          "Laki-Laki",
          "Perempuan",
          "Perempuan",
          "Laki-Laki",
          "Perempuan",
          "Laki-Laki",
          "Perempuan",
          "Laki-Laki",
          "Laki-Laki",
          "Laki-Laki",
          "Perempuan",
          "Perempuan",
          "Laki-Laki",
          "Laki-Laki",
          "Laki-Laki",
          "Perempuan",
          "Perempuan",
          "Perempuan",
          "Perempuan",
          "Perempuan",
          "Laki-Laki",
          "Perempuan",
          "Laki-Laki",
          "Perempuan",
          "Laki-Laki",
          "Laki-Laki",
          "Laki-Laki",
          "Laki-Laki",
          "Perempuan",
          "Laki-Laki",
          "Laki-Laki",
          "Laki-Laki",
          "Laki-Laki",
          "Perempuan",
          "Laki-Laki",
          "Perempuan",
          "Perempuan",
          "Laki-Laki",
          "Laki-Laki",
          "Laki-Laki",
          "Laki-Laki",
          "Perempuan",
          "Laki-Laki",
          "Laki-Laki",
          "Perempuan",
          "Laki-Laki",
          "Perempuan",
          "Laki-Laki",
          "Laki-Laki",
          "Perempuan",
          "Perempuan",
          "Laki-Laki",
          "Perempuan",
          "Perempuan",
          "Laki-Laki",
          "Perempuan",
          "Laki-Laki",
          "Perempuan",
          null,
          "Perempuan",
          "Laki-Laki",
          "Perempuan",
          "Perempuan",
          "Laki-Laki",
          "Laki-Laki",
          "Laki-Laki",
          "Laki-Laki",
          "Laki-Laki",
          "Perempuan",
          "Laki-Laki",
          "Laki-Laki",
          "Laki-Laki",
          "Perempuan",
          "Perempuan",
          "Laki-Laki",
          "Laki-Laki",
          "Laki-Laki",
          "Laki-Laki",
          "Laki-Laki",
          "Perempuan",
          "Perempuan",
          "Laki-Laki",
          "Laki-Laki",
          "Laki-Laki",
          "Laki-Laki",
          "Perempuan",
          "Perempuan",
          "Laki-Laki",
          "Perempuan",
          "Perempuan",
          "Laki-Laki",
          "Laki-Laki",
          "Laki-Laki",
          "Laki-Laki",
          "Perempuan",
          "Perempuan",
          "Perempuan",
          "Perempuan",
          "Perempuan",
          "Perempuan",
          "Perempuan",
          "Perempuan",
          "Perempuan",
          "Laki-Laki",
          "Perempuan",
          "Laki-Laki",
          "Laki-Laki",
          "Laki-Laki",
          "Laki-Laki",
          "Laki-Laki",
          "Laki-Laki",
          "Perempuan",
          "Laki-Laki",
          "Perempuan",
          "Perempuan",
          "Perempuan",
          "Perempuan",
          "Laki-Laki",
          "Perempuan",
          "Perempuan",
          "Perempuan",
          "Laki-Laki",
          "Perempuan",
          "Laki-Laki",
          "Perempuan",
          "Perempuan",
          "Laki-Laki",
          "Laki-Laki",
          "Perempuan",
          "Perempuan",
          "Laki-Laki",
          "Laki-Laki",
          "Perempuan",
          "Perempuan",
          "Perempuan",
          "Perempuan",
          "Perempuan",
          "Laki-Laki",
          "Perempuan",
          "Perempuan",
          "Perempuan",
          "Laki-Laki",
          "Perempuan",
          "Laki-Laki",
          "Laki-Laki",
          "Laki-Laki",
          "Laki-Laki",
          "Laki-Laki",
          "Perempuan",
          "Perempuan",
          "Laki-Laki",
          "Laki-Laki",
          "Laki-Laki",
          "Perempuan",
          "Perempuan",
          "Laki-Laki",
          "Laki-Laki",
          "Laki-Laki",
          "Perempuan"
         ],
         "xaxis": "x",
         "yaxis": "y"
        }
       ],
       "layout": {
        "barmode": "relative",
        "height": 500,
        "legend": {
         "tracegroupgap": 0
        },
        "margin": {
         "t": 60
        },
        "template": {
         "data": {
          "bar": [
           {
            "error_x": {
             "color": "#f2f5fa"
            },
            "error_y": {
             "color": "#f2f5fa"
            },
            "marker": {
             "line": {
              "color": "rgb(17,17,17)",
              "width": 0.5
             },
             "pattern": {
              "fillmode": "overlay",
              "size": 10,
              "solidity": 0.2
             }
            },
            "type": "bar"
           }
          ],
          "barpolar": [
           {
            "marker": {
             "line": {
              "color": "rgb(17,17,17)",
              "width": 0.5
             },
             "pattern": {
              "fillmode": "overlay",
              "size": 10,
              "solidity": 0.2
             }
            },
            "type": "barpolar"
           }
          ],
          "carpet": [
           {
            "aaxis": {
             "endlinecolor": "#A2B1C6",
             "gridcolor": "#506784",
             "linecolor": "#506784",
             "minorgridcolor": "#506784",
             "startlinecolor": "#A2B1C6"
            },
            "baxis": {
             "endlinecolor": "#A2B1C6",
             "gridcolor": "#506784",
             "linecolor": "#506784",
             "minorgridcolor": "#506784",
             "startlinecolor": "#A2B1C6"
            },
            "type": "carpet"
           }
          ],
          "choropleth": [
           {
            "colorbar": {
             "outlinewidth": 0,
             "ticks": ""
            },
            "type": "choropleth"
           }
          ],
          "contour": [
           {
            "colorbar": {
             "outlinewidth": 0,
             "ticks": ""
            },
            "colorscale": [
             [
              0,
              "#0d0887"
             ],
             [
              0.1111111111111111,
              "#46039f"
             ],
             [
              0.2222222222222222,
              "#7201a8"
             ],
             [
              0.3333333333333333,
              "#9c179e"
             ],
             [
              0.4444444444444444,
              "#bd3786"
             ],
             [
              0.5555555555555556,
              "#d8576b"
             ],
             [
              0.6666666666666666,
              "#ed7953"
             ],
             [
              0.7777777777777778,
              "#fb9f3a"
             ],
             [
              0.8888888888888888,
              "#fdca26"
             ],
             [
              1,
              "#f0f921"
             ]
            ],
            "type": "contour"
           }
          ],
          "contourcarpet": [
           {
            "colorbar": {
             "outlinewidth": 0,
             "ticks": ""
            },
            "type": "contourcarpet"
           }
          ],
          "heatmap": [
           {
            "colorbar": {
             "outlinewidth": 0,
             "ticks": ""
            },
            "colorscale": [
             [
              0,
              "#0d0887"
             ],
             [
              0.1111111111111111,
              "#46039f"
             ],
             [
              0.2222222222222222,
              "#7201a8"
             ],
             [
              0.3333333333333333,
              "#9c179e"
             ],
             [
              0.4444444444444444,
              "#bd3786"
             ],
             [
              0.5555555555555556,
              "#d8576b"
             ],
             [
              0.6666666666666666,
              "#ed7953"
             ],
             [
              0.7777777777777778,
              "#fb9f3a"
             ],
             [
              0.8888888888888888,
              "#fdca26"
             ],
             [
              1,
              "#f0f921"
             ]
            ],
            "type": "heatmap"
           }
          ],
          "heatmapgl": [
           {
            "colorbar": {
             "outlinewidth": 0,
             "ticks": ""
            },
            "colorscale": [
             [
              0,
              "#0d0887"
             ],
             [
              0.1111111111111111,
              "#46039f"
             ],
             [
              0.2222222222222222,
              "#7201a8"
             ],
             [
              0.3333333333333333,
              "#9c179e"
             ],
             [
              0.4444444444444444,
              "#bd3786"
             ],
             [
              0.5555555555555556,
              "#d8576b"
             ],
             [
              0.6666666666666666,
              "#ed7953"
             ],
             [
              0.7777777777777778,
              "#fb9f3a"
             ],
             [
              0.8888888888888888,
              "#fdca26"
             ],
             [
              1,
              "#f0f921"
             ]
            ],
            "type": "heatmapgl"
           }
          ],
          "histogram": [
           {
            "marker": {
             "pattern": {
              "fillmode": "overlay",
              "size": 10,
              "solidity": 0.2
             }
            },
            "type": "histogram"
           }
          ],
          "histogram2d": [
           {
            "colorbar": {
             "outlinewidth": 0,
             "ticks": ""
            },
            "colorscale": [
             [
              0,
              "#0d0887"
             ],
             [
              0.1111111111111111,
              "#46039f"
             ],
             [
              0.2222222222222222,
              "#7201a8"
             ],
             [
              0.3333333333333333,
              "#9c179e"
             ],
             [
              0.4444444444444444,
              "#bd3786"
             ],
             [
              0.5555555555555556,
              "#d8576b"
             ],
             [
              0.6666666666666666,
              "#ed7953"
             ],
             [
              0.7777777777777778,
              "#fb9f3a"
             ],
             [
              0.8888888888888888,
              "#fdca26"
             ],
             [
              1,
              "#f0f921"
             ]
            ],
            "type": "histogram2d"
           }
          ],
          "histogram2dcontour": [
           {
            "colorbar": {
             "outlinewidth": 0,
             "ticks": ""
            },
            "colorscale": [
             [
              0,
              "#0d0887"
             ],
             [
              0.1111111111111111,
              "#46039f"
             ],
             [
              0.2222222222222222,
              "#7201a8"
             ],
             [
              0.3333333333333333,
              "#9c179e"
             ],
             [
              0.4444444444444444,
              "#bd3786"
             ],
             [
              0.5555555555555556,
              "#d8576b"
             ],
             [
              0.6666666666666666,
              "#ed7953"
             ],
             [
              0.7777777777777778,
              "#fb9f3a"
             ],
             [
              0.8888888888888888,
              "#fdca26"
             ],
             [
              1,
              "#f0f921"
             ]
            ],
            "type": "histogram2dcontour"
           }
          ],
          "mesh3d": [
           {
            "colorbar": {
             "outlinewidth": 0,
             "ticks": ""
            },
            "type": "mesh3d"
           }
          ],
          "parcoords": [
           {
            "line": {
             "colorbar": {
              "outlinewidth": 0,
              "ticks": ""
             }
            },
            "type": "parcoords"
           }
          ],
          "pie": [
           {
            "automargin": true,
            "type": "pie"
           }
          ],
          "scatter": [
           {
            "marker": {
             "line": {
              "color": "#283442"
             }
            },
            "type": "scatter"
           }
          ],
          "scatter3d": [
           {
            "line": {
             "colorbar": {
              "outlinewidth": 0,
              "ticks": ""
             }
            },
            "marker": {
             "colorbar": {
              "outlinewidth": 0,
              "ticks": ""
             }
            },
            "type": "scatter3d"
           }
          ],
          "scattercarpet": [
           {
            "marker": {
             "colorbar": {
              "outlinewidth": 0,
              "ticks": ""
             }
            },
            "type": "scattercarpet"
           }
          ],
          "scattergeo": [
           {
            "marker": {
             "colorbar": {
              "outlinewidth": 0,
              "ticks": ""
             }
            },
            "type": "scattergeo"
           }
          ],
          "scattergl": [
           {
            "marker": {
             "line": {
              "color": "#283442"
             }
            },
            "type": "scattergl"
           }
          ],
          "scattermapbox": [
           {
            "marker": {
             "colorbar": {
              "outlinewidth": 0,
              "ticks": ""
             }
            },
            "type": "scattermapbox"
           }
          ],
          "scatterpolar": [
           {
            "marker": {
             "colorbar": {
              "outlinewidth": 0,
              "ticks": ""
             }
            },
            "type": "scatterpolar"
           }
          ],
          "scatterpolargl": [
           {
            "marker": {
             "colorbar": {
              "outlinewidth": 0,
              "ticks": ""
             }
            },
            "type": "scatterpolargl"
           }
          ],
          "scatterternary": [
           {
            "marker": {
             "colorbar": {
              "outlinewidth": 0,
              "ticks": ""
             }
            },
            "type": "scatterternary"
           }
          ],
          "surface": [
           {
            "colorbar": {
             "outlinewidth": 0,
             "ticks": ""
            },
            "colorscale": [
             [
              0,
              "#0d0887"
             ],
             [
              0.1111111111111111,
              "#46039f"
             ],
             [
              0.2222222222222222,
              "#7201a8"
             ],
             [
              0.3333333333333333,
              "#9c179e"
             ],
             [
              0.4444444444444444,
              "#bd3786"
             ],
             [
              0.5555555555555556,
              "#d8576b"
             ],
             [
              0.6666666666666666,
              "#ed7953"
             ],
             [
              0.7777777777777778,
              "#fb9f3a"
             ],
             [
              0.8888888888888888,
              "#fdca26"
             ],
             [
              1,
              "#f0f921"
             ]
            ],
            "type": "surface"
           }
          ],
          "table": [
           {
            "cells": {
             "fill": {
              "color": "#506784"
             },
             "line": {
              "color": "rgb(17,17,17)"
             }
            },
            "header": {
             "fill": {
              "color": "#2a3f5f"
             },
             "line": {
              "color": "rgb(17,17,17)"
             }
            },
            "type": "table"
           }
          ]
         },
         "layout": {
          "annotationdefaults": {
           "arrowcolor": "#f2f5fa",
           "arrowhead": 0,
           "arrowwidth": 1
          },
          "autotypenumbers": "strict",
          "coloraxis": {
           "colorbar": {
            "outlinewidth": 0,
            "ticks": ""
           }
          },
          "colorscale": {
           "diverging": [
            [
             0,
             "#8e0152"
            ],
            [
             0.1,
             "#c51b7d"
            ],
            [
             0.2,
             "#de77ae"
            ],
            [
             0.3,
             "#f1b6da"
            ],
            [
             0.4,
             "#fde0ef"
            ],
            [
             0.5,
             "#f7f7f7"
            ],
            [
             0.6,
             "#e6f5d0"
            ],
            [
             0.7,
             "#b8e186"
            ],
            [
             0.8,
             "#7fbc41"
            ],
            [
             0.9,
             "#4d9221"
            ],
            [
             1,
             "#276419"
            ]
           ],
           "sequential": [
            [
             0,
             "#0d0887"
            ],
            [
             0.1111111111111111,
             "#46039f"
            ],
            [
             0.2222222222222222,
             "#7201a8"
            ],
            [
             0.3333333333333333,
             "#9c179e"
            ],
            [
             0.4444444444444444,
             "#bd3786"
            ],
            [
             0.5555555555555556,
             "#d8576b"
            ],
            [
             0.6666666666666666,
             "#ed7953"
            ],
            [
             0.7777777777777778,
             "#fb9f3a"
            ],
            [
             0.8888888888888888,
             "#fdca26"
            ],
            [
             1,
             "#f0f921"
            ]
           ],
           "sequentialminus": [
            [
             0,
             "#0d0887"
            ],
            [
             0.1111111111111111,
             "#46039f"
            ],
            [
             0.2222222222222222,
             "#7201a8"
            ],
            [
             0.3333333333333333,
             "#9c179e"
            ],
            [
             0.4444444444444444,
             "#bd3786"
            ],
            [
             0.5555555555555556,
             "#d8576b"
            ],
            [
             0.6666666666666666,
             "#ed7953"
            ],
            [
             0.7777777777777778,
             "#fb9f3a"
            ],
            [
             0.8888888888888888,
             "#fdca26"
            ],
            [
             1,
             "#f0f921"
            ]
           ]
          },
          "colorway": [
           "#636efa",
           "#EF553B",
           "#00cc96",
           "#ab63fa",
           "#FFA15A",
           "#19d3f3",
           "#FF6692",
           "#B6E880",
           "#FF97FF",
           "#FECB52"
          ],
          "font": {
           "color": "#f2f5fa"
          },
          "geo": {
           "bgcolor": "rgb(17,17,17)",
           "lakecolor": "rgb(17,17,17)",
           "landcolor": "rgb(17,17,17)",
           "showlakes": true,
           "showland": true,
           "subunitcolor": "#506784"
          },
          "hoverlabel": {
           "align": "left"
          },
          "hovermode": "closest",
          "mapbox": {
           "style": "dark"
          },
          "paper_bgcolor": "rgb(17,17,17)",
          "plot_bgcolor": "rgb(17,17,17)",
          "polar": {
           "angularaxis": {
            "gridcolor": "#506784",
            "linecolor": "#506784",
            "ticks": ""
           },
           "bgcolor": "rgb(17,17,17)",
           "radialaxis": {
            "gridcolor": "#506784",
            "linecolor": "#506784",
            "ticks": ""
           }
          },
          "scene": {
           "xaxis": {
            "backgroundcolor": "rgb(17,17,17)",
            "gridcolor": "#506784",
            "gridwidth": 2,
            "linecolor": "#506784",
            "showbackground": true,
            "ticks": "",
            "zerolinecolor": "#C8D4E3"
           },
           "yaxis": {
            "backgroundcolor": "rgb(17,17,17)",
            "gridcolor": "#506784",
            "gridwidth": 2,
            "linecolor": "#506784",
            "showbackground": true,
            "ticks": "",
            "zerolinecolor": "#C8D4E3"
           },
           "zaxis": {
            "backgroundcolor": "rgb(17,17,17)",
            "gridcolor": "#506784",
            "gridwidth": 2,
            "linecolor": "#506784",
            "showbackground": true,
            "ticks": "",
            "zerolinecolor": "#C8D4E3"
           }
          },
          "shapedefaults": {
           "line": {
            "color": "#f2f5fa"
           }
          },
          "sliderdefaults": {
           "bgcolor": "#C8D4E3",
           "bordercolor": "rgb(17,17,17)",
           "borderwidth": 1,
           "tickwidth": 0
          },
          "ternary": {
           "aaxis": {
            "gridcolor": "#506784",
            "linecolor": "#506784",
            "ticks": ""
           },
           "baxis": {
            "gridcolor": "#506784",
            "linecolor": "#506784",
            "ticks": ""
           },
           "bgcolor": "rgb(17,17,17)",
           "caxis": {
            "gridcolor": "#506784",
            "linecolor": "#506784",
            "ticks": ""
           }
          },
          "title": {
           "x": 0.05
          },
          "updatemenudefaults": {
           "bgcolor": "#506784",
           "borderwidth": 0
          },
          "xaxis": {
           "automargin": true,
           "gridcolor": "#283442",
           "linecolor": "#506784",
           "ticks": "",
           "title": {
            "standoff": 15
           },
           "zerolinecolor": "#283442",
           "zerolinewidth": 2
          },
          "yaxis": {
           "automargin": true,
           "gridcolor": "#283442",
           "linecolor": "#506784",
           "ticks": "",
           "title": {
            "standoff": 15
           },
           "zerolinecolor": "#283442",
           "zerolinewidth": 2
          }
         }
        },
        "width": 350,
        "xaxis": {
         "anchor": "y",
         "domain": [
          0,
          1
         ],
         "title": {
          "text": "Male"
         }
        },
        "yaxis": {
         "anchor": "x",
         "domain": [
          0,
          1
         ],
         "title": {
          "text": "count"
         }
        }
       }
      }
     },
     "metadata": {},
     "output_type": "display_data"
    }
   ],
   "source": [
    "fig = px.histogram(df_clicked, x='Male',nbins=20,\n",
    "                   template='plotly_dark', width=350, height=500)\n",
    "fig.show()"
   ]
  },
  {
   "cell_type": "code",
   "execution_count": 49,
   "metadata": {},
   "outputs": [
    {
     "data": {
      "application/vnd.plotly.v1+json": {
       "config": {
        "plotlyServerURL": "https://plot.ly"
       },
       "data": [
        {
         "alignmentgroup": "True",
         "bingroup": "x",
         "hovertemplate": "province=%{x}<br>count=%{y}<extra></extra>",
         "legendgroup": "",
         "marker": {
          "color": "#636efa",
          "pattern": {
           "shape": ""
          }
         },
         "name": "",
         "nbinsx": 20,
         "offsetgroup": "",
         "orientation": "v",
         "showlegend": false,
         "type": "histogram",
         "x": [
          "Lampung",
          "Jawa Barat",
          "Banten",
          "Sumatra Barat",
          "Sumatra Barat",
          "Jawa Tengah",
          "Sulawesi Selatan",
          "Daerah Khusus Ibukota Jakarta",
          "Daerah Khusus Ibukota Jakarta",
          "Bali",
          "Daerah Khusus Ibukota Jakarta",
          "Jawa Tengah",
          "Kalimantan Barat",
          "Jawa Barat",
          "Kalimantan Barat",
          "Sumatra Barat",
          "Jawa Barat",
          "Banten",
          "Jawa Barat",
          "Jawa Tengah",
          "Sumatra Utara",
          "Sumatra Selatan",
          "Daerah Khusus Ibukota Jakarta",
          "Kalimantan Selatan",
          "Kalimantan Timur",
          "Jawa Timur",
          "Daerah Khusus Ibukota Jakarta",
          "Riau",
          "Sumatra Selatan",
          "Jawa Barat",
          "Banten",
          "Daerah Khusus Ibukota Jakarta",
          "Jawa Barat",
          "Banten",
          "Jawa Timur",
          "Riau",
          "Kalimantan Timur",
          "Daerah Khusus Ibukota Jakarta",
          "Daerah Khusus Ibukota Jakarta",
          "Kepulauan Riau",
          "Jawa Barat",
          "Daerah Khusus Ibukota Jakarta",
          "Kalimantan Timur",
          "Sumatra Utara",
          "Daerah Khusus Ibukota Jakarta",
          "Daerah Khusus Ibukota Jakarta",
          "Jawa Barat",
          "Daerah Khusus Ibukota Jakarta",
          "Jawa Tengah",
          "Banten",
          "Jawa Timur",
          "Sumatra Selatan",
          "Sulawesi Selatan",
          "Jawa Timur",
          "Jawa Barat",
          "Daerah Khusus Ibukota Jakarta",
          "Jawa Barat",
          "Jawa Barat",
          "Jawa Timur",
          "Banten",
          "Jawa Timur",
          "Jawa Barat",
          "Jawa Timur",
          "Lampung",
          "Daerah Khusus Ibukota Jakarta",
          "Daerah Khusus Ibukota Jakarta",
          "Sumatra Utara",
          "Jawa Timur",
          "Jawa Barat",
          "Banten",
          "Daerah Khusus Ibukota Jakarta",
          "Daerah Khusus Ibukota Jakarta",
          "Jawa Tengah",
          "Jawa Barat",
          "Sumatra Utara",
          "Jawa Barat",
          "Daerah Khusus Ibukota Jakarta",
          "Sulawesi Selatan",
          "Jawa Timur",
          "Jawa Barat",
          "Jawa Timur",
          "Jawa Barat",
          "Jawa Barat",
          "Daerah Khusus Ibukota Jakarta",
          "Daerah Khusus Ibukota Jakarta",
          "Banten",
          "Jawa Barat",
          "Kalimantan Selatan",
          "Jawa Barat",
          "Sumatra Utara",
          "Jawa Barat",
          "Jawa Tengah",
          "Banten",
          "Daerah Khusus Ibukota Jakarta",
          "Daerah Khusus Ibukota Jakarta",
          "Kepulauan Riau",
          "Daerah Khusus Ibukota Jakarta",
          "Riau",
          "Daerah Khusus Ibukota Jakarta",
          "Daerah Khusus Ibukota Jakarta",
          "Daerah Khusus Ibukota Jakarta",
          "Daerah Khusus Ibukota Jakarta",
          "Daerah Khusus Ibukota Jakarta",
          "Daerah Khusus Ibukota Jakarta",
          "Daerah Khusus Ibukota Jakarta",
          "Banten",
          "Banten",
          "Daerah Khusus Ibukota Jakarta",
          "Sumatra Utara",
          "Daerah Khusus Ibukota Jakarta",
          "Lampung",
          "Jawa Barat",
          "Jawa Tengah",
          "Daerah Khusus Ibukota Jakarta",
          "Kepulauan Riau",
          "Jawa Barat",
          "Jawa Barat",
          "Jawa Barat",
          "Sulawesi Selatan",
          "Banten",
          "Jawa Barat",
          "Jawa Barat",
          "Jawa Tengah",
          "Daerah Khusus Ibukota Jakarta",
          "Daerah Khusus Ibukota Jakarta",
          "Daerah Khusus Ibukota Jakarta",
          "Daerah Khusus Ibukota Jakarta",
          "Banten",
          "Jawa Barat",
          "Jawa Barat",
          "Jawa Barat",
          "Daerah Khusus Ibukota Jakarta",
          "Jawa Timur",
          "Sumatra Selatan",
          "Bali",
          "Jawa Barat",
          "Daerah Khusus Ibukota Jakarta",
          "Sumatra Selatan",
          "Jawa Barat",
          "Sulawesi Selatan",
          "Daerah Khusus Ibukota Jakarta",
          "Jawa Barat",
          "Banten",
          "Kalimantan Selatan",
          "Jawa Tengah",
          "Jawa Barat",
          "Banten",
          "Daerah Khusus Ibukota Jakarta",
          "Daerah Khusus Ibukota Jakarta",
          "Jawa Barat",
          "Daerah Khusus Ibukota Jakarta",
          "Jawa Barat",
          "Daerah Khusus Ibukota Jakarta",
          "Kepulauan Riau",
          "Sumatra Selatan",
          "Bali",
          "Jawa Barat",
          "Jawa Barat",
          "Lampung",
          "Daerah Khusus Ibukota Jakarta",
          "Jawa Barat",
          "Daerah Khusus Ibukota Jakarta",
          "Daerah Khusus Ibukota Jakarta",
          "Sulawesi Selatan",
          "Daerah Khusus Ibukota Jakarta",
          "Jawa Barat",
          "Jawa Barat",
          "Daerah Khusus Ibukota Jakarta",
          "Kalimantan Selatan",
          "Sumatra Utara",
          "Daerah Khusus Ibukota Jakarta",
          "Lampung",
          "Kalimantan Timur",
          "Sulawesi Selatan",
          "Jawa Barat",
          "Jawa Tengah",
          "Sumatra Selatan",
          "Sumatra Utara",
          "Sumatra Selatan",
          "Banten",
          "Kepulauan Riau",
          "Kepulauan Riau",
          "Daerah Khusus Ibukota Jakarta",
          "Jawa Barat",
          "Daerah Khusus Ibukota Jakarta",
          "Kalimantan Timur",
          "Kepulauan Riau",
          "Jawa Timur",
          "Daerah Khusus Ibukota Jakarta",
          "Jawa Barat",
          "Jawa Timur",
          "Banten",
          "Sulawesi Selatan",
          "Daerah Khusus Ibukota Jakarta",
          "Bali",
          "Jawa Timur",
          "Daerah Khusus Ibukota Jakarta",
          "Jawa Barat",
          "Banten",
          "Daerah Khusus Ibukota Jakarta",
          "Jawa Timur",
          "Kepulauan Riau",
          "Jawa Barat",
          "Kalimantan Selatan",
          "Sumatra Utara",
          "Daerah Khusus Ibukota Jakarta",
          "Daerah Khusus Ibukota Jakarta",
          "Sumatra Barat",
          "Banten",
          "Daerah Khusus Ibukota Jakarta",
          "Banten",
          "Bali",
          "Banten",
          "Jawa Barat",
          "Sulawesi Selatan",
          "Daerah Khusus Ibukota Jakarta",
          "Kepulauan Riau",
          "Jawa Tengah",
          "Jawa Barat",
          "Sumatra Selatan",
          "Daerah Khusus Ibukota Jakarta",
          "Jawa Timur",
          "Banten",
          "Daerah Khusus Ibukota Jakarta",
          "Daerah Khusus Ibukota Jakarta",
          "Jawa Timur",
          "Daerah Khusus Ibukota Jakarta",
          "Jawa Timur",
          "Jawa Timur",
          "Banten",
          "Kalimantan Selatan",
          "Kepulauan Riau",
          "Jawa Barat",
          "Jawa Barat",
          "Banten",
          "Banten",
          "Daerah Khusus Ibukota Jakarta",
          "Banten",
          "Jawa Barat",
          "Sumatra Selatan",
          "Jawa Barat",
          "Jawa Barat",
          "Kalimantan Barat",
          "Daerah Khusus Ibukota Jakarta",
          "Sulawesi Selatan",
          "Sumatra Selatan",
          "Kalimantan Timur",
          "Sulawesi Selatan",
          "Jawa Barat",
          "Banten",
          "Daerah Khusus Ibukota Jakarta",
          "Kalimantan Selatan",
          "Sulawesi Selatan",
          "Sumatra Barat",
          "Jawa Barat",
          "Riau",
          "Sumatra Utara",
          "Riau",
          "Sumatra Utara",
          "Banten",
          "Sumatra Utara",
          "Sumatra Utara",
          "Jawa Timur",
          "Jawa Barat",
          "Jawa Tengah",
          "Daerah Khusus Ibukota Jakarta",
          "Jawa Barat",
          "Jawa Barat",
          "Jawa Timur",
          "Lampung",
          "Jawa Barat",
          "Jawa Barat",
          "Jawa Barat",
          "Jawa Barat",
          "Jawa Timur",
          "Daerah Khusus Ibukota Jakarta",
          "Riau",
          "Daerah Khusus Ibukota Jakarta",
          "Banten",
          "Daerah Khusus Ibukota Jakarta",
          "Daerah Khusus Ibukota Jakarta",
          "Banten",
          "Jawa Barat",
          "Sumatra Utara",
          "Jawa Barat",
          "Jawa Timur",
          "Jawa Barat",
          "Jawa Barat",
          "Jawa Barat",
          "Jawa Barat",
          "Daerah Khusus Ibukota Jakarta",
          "Sulawesi Selatan",
          "Sumatra Selatan",
          "Kalimantan Timur",
          "Banten",
          "Jawa Timur",
          "Jawa Barat",
          "Jawa Tengah",
          "Daerah Khusus Ibukota Jakarta",
          "Sumatra Barat",
          "Daerah Khusus Ibukota Jakarta",
          "Sumatra Barat",
          "Kepulauan Riau",
          "Sumatra Barat",
          "Sulawesi Selatan",
          "Jawa Tengah",
          "Jawa Barat",
          "Kalimantan Selatan",
          "Banten",
          "Riau",
          "Riau",
          "Jawa Tengah",
          "Lampung",
          "Daerah Khusus Ibukota Jakarta",
          "Jawa Barat",
          "Daerah Khusus Ibukota Jakarta",
          "Kepulauan Riau",
          "Kalimantan Selatan",
          "Kalimantan Selatan",
          "Kepulauan Riau",
          "Kalimantan Selatan",
          "Sumatra Selatan",
          "Kalimantan Timur",
          "Jawa Barat",
          "Banten",
          "Daerah Khusus Ibukota Jakarta",
          "Jawa Timur",
          "Sumatra Barat",
          "Sumatra Selatan",
          "Jawa Barat",
          "Kepulauan Riau",
          "Sumatra Utara",
          "Jawa Barat",
          "Jawa Tengah",
          "Sumatra Selatan",
          "Banten",
          "Lampung",
          "Banten",
          "Daerah Khusus Ibukota Jakarta",
          "Sulawesi Selatan",
          "Jawa Barat",
          "Jawa Barat",
          "Jawa Timur",
          "Kalimantan Selatan",
          "Kalimantan Selatan",
          "Daerah Khusus Ibukota Jakarta",
          "Jawa Barat",
          "Daerah Khusus Ibukota Jakarta",
          "Jawa Barat",
          "Daerah Khusus Ibukota Jakarta",
          "Sumatra Utara",
          "Jawa Barat",
          "Jawa Barat",
          "Bali",
          "Jawa Barat",
          "Bali",
          "Sumatra Selatan",
          "Jawa Barat",
          "Sumatra Selatan",
          "Jawa Barat",
          "Jawa Barat",
          "Jawa Barat",
          "Kalimantan Barat",
          "Jawa Barat",
          "Jawa Timur",
          "Daerah Khusus Ibukota Jakarta",
          "Riau",
          "Sumatra Utara",
          "Kepulauan Riau",
          "Sumatra Selatan",
          "Lampung",
          "Daerah Khusus Ibukota Jakarta",
          "Daerah Khusus Ibukota Jakarta",
          "Daerah Khusus Ibukota Jakarta",
          "Sumatra Utara",
          "Jawa Barat",
          "Sumatra Barat",
          "Jawa Barat",
          "Daerah Khusus Ibukota Jakarta",
          "Jawa Barat",
          "Daerah Khusus Ibukota Jakarta",
          "Daerah Khusus Ibukota Jakarta",
          "Jawa Timur",
          "Jawa Barat",
          "Sumatra Selatan",
          "Jawa Barat",
          "Jawa Barat",
          "Sumatra Utara",
          "Jawa Tengah",
          "Jawa Barat",
          "Lampung",
          "Banten",
          "Daerah Khusus Ibukota Jakarta",
          "Sumatra Selatan",
          "Riau",
          "Daerah Khusus Ibukota Jakarta",
          "Jawa Barat",
          "Jawa Barat",
          "Daerah Khusus Ibukota Jakarta",
          "Sumatra Utara",
          "Daerah Khusus Ibukota Jakarta",
          "Jawa Tengah",
          "Daerah Khusus Ibukota Jakarta",
          "Banten",
          "Sumatra Selatan",
          "Daerah Khusus Ibukota Jakarta",
          "Kalimantan Barat",
          "Daerah Khusus Ibukota Jakarta",
          "Jawa Barat",
          "Daerah Khusus Ibukota Jakarta",
          "Daerah Khusus Ibukota Jakarta",
          "Jawa Timur",
          "Lampung",
          "Daerah Khusus Ibukota Jakarta",
          "Jawa Barat",
          "Sulawesi Selatan",
          "Daerah Khusus Ibukota Jakarta",
          "Jawa Barat",
          "Jawa Barat",
          "Kalimantan Timur",
          "Sumatra Utara",
          "Jawa Timur",
          "Jawa Barat",
          "Jawa Timur",
          "Bali",
          "Riau",
          "Sumatra Utara",
          "Banten",
          "Daerah Khusus Ibukota Jakarta",
          "Daerah Khusus Ibukota Jakarta",
          "Jawa Tengah",
          "Jawa Barat",
          "Jawa Barat",
          "Jawa Barat",
          "Banten",
          "Jawa Timur",
          "Jawa Timur",
          "Kalimantan Timur",
          "Jawa Timur",
          "Jawa Barat",
          "Daerah Khusus Ibukota Jakarta",
          "Jawa Barat",
          "Sumatra Utara",
          "Jawa Tengah",
          "Jawa Timur",
          "Sulawesi Selatan",
          "Jawa Timur",
          "Jawa Barat",
          "Jawa Barat",
          "Daerah Khusus Ibukota Jakarta",
          "Daerah Khusus Ibukota Jakarta",
          "Daerah Khusus Ibukota Jakarta",
          "Banten",
          "Jawa Barat",
          "Jawa Barat",
          "Daerah Khusus Ibukota Jakarta",
          "Jawa Barat",
          "Jawa Timur",
          "Banten",
          "Daerah Khusus Ibukota Jakarta",
          "Jawa Barat",
          "Jawa Tengah",
          "Kepulauan Riau",
          "Daerah Khusus Ibukota Jakarta",
          "Jawa Barat",
          "Jawa Barat",
          "Daerah Khusus Ibukota Jakarta",
          "Daerah Khusus Ibukota Jakarta",
          "Banten",
          "Lampung",
          "Jawa Barat",
          "Sumatra Utara",
          "Kepulauan Riau",
          "Jawa Barat",
          "Kalimantan Selatan",
          "Daerah Khusus Ibukota Jakarta",
          "Daerah Khusus Ibukota Jakarta",
          "Jawa Barat",
          "Jawa Timur",
          "Jawa Barat",
          "Daerah Khusus Ibukota Jakarta",
          "Jawa Timur",
          "Daerah Khusus Ibukota Jakarta",
          "Jawa Timur",
          "Bali",
          "Jawa Tengah",
          "Lampung",
          "Jawa Timur",
          "Sumatra Utara",
          "Banten",
          "Sumatra Selatan",
          "Banten",
          "Sumatra Barat",
          "Daerah Khusus Ibukota Jakarta",
          "Lampung",
          "Jawa Barat",
          "Jawa Tengah",
          "Riau",
          "Kalimantan Timur",
          "Banten"
         ],
         "xaxis": "x",
         "yaxis": "y"
        }
       ],
       "layout": {
        "barmode": "relative",
        "height": 500,
        "legend": {
         "tracegroupgap": 0
        },
        "margin": {
         "t": 60
        },
        "template": {
         "data": {
          "bar": [
           {
            "error_x": {
             "color": "#f2f5fa"
            },
            "error_y": {
             "color": "#f2f5fa"
            },
            "marker": {
             "line": {
              "color": "rgb(17,17,17)",
              "width": 0.5
             },
             "pattern": {
              "fillmode": "overlay",
              "size": 10,
              "solidity": 0.2
             }
            },
            "type": "bar"
           }
          ],
          "barpolar": [
           {
            "marker": {
             "line": {
              "color": "rgb(17,17,17)",
              "width": 0.5
             },
             "pattern": {
              "fillmode": "overlay",
              "size": 10,
              "solidity": 0.2
             }
            },
            "type": "barpolar"
           }
          ],
          "carpet": [
           {
            "aaxis": {
             "endlinecolor": "#A2B1C6",
             "gridcolor": "#506784",
             "linecolor": "#506784",
             "minorgridcolor": "#506784",
             "startlinecolor": "#A2B1C6"
            },
            "baxis": {
             "endlinecolor": "#A2B1C6",
             "gridcolor": "#506784",
             "linecolor": "#506784",
             "minorgridcolor": "#506784",
             "startlinecolor": "#A2B1C6"
            },
            "type": "carpet"
           }
          ],
          "choropleth": [
           {
            "colorbar": {
             "outlinewidth": 0,
             "ticks": ""
            },
            "type": "choropleth"
           }
          ],
          "contour": [
           {
            "colorbar": {
             "outlinewidth": 0,
             "ticks": ""
            },
            "colorscale": [
             [
              0,
              "#0d0887"
             ],
             [
              0.1111111111111111,
              "#46039f"
             ],
             [
              0.2222222222222222,
              "#7201a8"
             ],
             [
              0.3333333333333333,
              "#9c179e"
             ],
             [
              0.4444444444444444,
              "#bd3786"
             ],
             [
              0.5555555555555556,
              "#d8576b"
             ],
             [
              0.6666666666666666,
              "#ed7953"
             ],
             [
              0.7777777777777778,
              "#fb9f3a"
             ],
             [
              0.8888888888888888,
              "#fdca26"
             ],
             [
              1,
              "#f0f921"
             ]
            ],
            "type": "contour"
           }
          ],
          "contourcarpet": [
           {
            "colorbar": {
             "outlinewidth": 0,
             "ticks": ""
            },
            "type": "contourcarpet"
           }
          ],
          "heatmap": [
           {
            "colorbar": {
             "outlinewidth": 0,
             "ticks": ""
            },
            "colorscale": [
             [
              0,
              "#0d0887"
             ],
             [
              0.1111111111111111,
              "#46039f"
             ],
             [
              0.2222222222222222,
              "#7201a8"
             ],
             [
              0.3333333333333333,
              "#9c179e"
             ],
             [
              0.4444444444444444,
              "#bd3786"
             ],
             [
              0.5555555555555556,
              "#d8576b"
             ],
             [
              0.6666666666666666,
              "#ed7953"
             ],
             [
              0.7777777777777778,
              "#fb9f3a"
             ],
             [
              0.8888888888888888,
              "#fdca26"
             ],
             [
              1,
              "#f0f921"
             ]
            ],
            "type": "heatmap"
           }
          ],
          "heatmapgl": [
           {
            "colorbar": {
             "outlinewidth": 0,
             "ticks": ""
            },
            "colorscale": [
             [
              0,
              "#0d0887"
             ],
             [
              0.1111111111111111,
              "#46039f"
             ],
             [
              0.2222222222222222,
              "#7201a8"
             ],
             [
              0.3333333333333333,
              "#9c179e"
             ],
             [
              0.4444444444444444,
              "#bd3786"
             ],
             [
              0.5555555555555556,
              "#d8576b"
             ],
             [
              0.6666666666666666,
              "#ed7953"
             ],
             [
              0.7777777777777778,
              "#fb9f3a"
             ],
             [
              0.8888888888888888,
              "#fdca26"
             ],
             [
              1,
              "#f0f921"
             ]
            ],
            "type": "heatmapgl"
           }
          ],
          "histogram": [
           {
            "marker": {
             "pattern": {
              "fillmode": "overlay",
              "size": 10,
              "solidity": 0.2
             }
            },
            "type": "histogram"
           }
          ],
          "histogram2d": [
           {
            "colorbar": {
             "outlinewidth": 0,
             "ticks": ""
            },
            "colorscale": [
             [
              0,
              "#0d0887"
             ],
             [
              0.1111111111111111,
              "#46039f"
             ],
             [
              0.2222222222222222,
              "#7201a8"
             ],
             [
              0.3333333333333333,
              "#9c179e"
             ],
             [
              0.4444444444444444,
              "#bd3786"
             ],
             [
              0.5555555555555556,
              "#d8576b"
             ],
             [
              0.6666666666666666,
              "#ed7953"
             ],
             [
              0.7777777777777778,
              "#fb9f3a"
             ],
             [
              0.8888888888888888,
              "#fdca26"
             ],
             [
              1,
              "#f0f921"
             ]
            ],
            "type": "histogram2d"
           }
          ],
          "histogram2dcontour": [
           {
            "colorbar": {
             "outlinewidth": 0,
             "ticks": ""
            },
            "colorscale": [
             [
              0,
              "#0d0887"
             ],
             [
              0.1111111111111111,
              "#46039f"
             ],
             [
              0.2222222222222222,
              "#7201a8"
             ],
             [
              0.3333333333333333,
              "#9c179e"
             ],
             [
              0.4444444444444444,
              "#bd3786"
             ],
             [
              0.5555555555555556,
              "#d8576b"
             ],
             [
              0.6666666666666666,
              "#ed7953"
             ],
             [
              0.7777777777777778,
              "#fb9f3a"
             ],
             [
              0.8888888888888888,
              "#fdca26"
             ],
             [
              1,
              "#f0f921"
             ]
            ],
            "type": "histogram2dcontour"
           }
          ],
          "mesh3d": [
           {
            "colorbar": {
             "outlinewidth": 0,
             "ticks": ""
            },
            "type": "mesh3d"
           }
          ],
          "parcoords": [
           {
            "line": {
             "colorbar": {
              "outlinewidth": 0,
              "ticks": ""
             }
            },
            "type": "parcoords"
           }
          ],
          "pie": [
           {
            "automargin": true,
            "type": "pie"
           }
          ],
          "scatter": [
           {
            "marker": {
             "line": {
              "color": "#283442"
             }
            },
            "type": "scatter"
           }
          ],
          "scatter3d": [
           {
            "line": {
             "colorbar": {
              "outlinewidth": 0,
              "ticks": ""
             }
            },
            "marker": {
             "colorbar": {
              "outlinewidth": 0,
              "ticks": ""
             }
            },
            "type": "scatter3d"
           }
          ],
          "scattercarpet": [
           {
            "marker": {
             "colorbar": {
              "outlinewidth": 0,
              "ticks": ""
             }
            },
            "type": "scattercarpet"
           }
          ],
          "scattergeo": [
           {
            "marker": {
             "colorbar": {
              "outlinewidth": 0,
              "ticks": ""
             }
            },
            "type": "scattergeo"
           }
          ],
          "scattergl": [
           {
            "marker": {
             "line": {
              "color": "#283442"
             }
            },
            "type": "scattergl"
           }
          ],
          "scattermapbox": [
           {
            "marker": {
             "colorbar": {
              "outlinewidth": 0,
              "ticks": ""
             }
            },
            "type": "scattermapbox"
           }
          ],
          "scatterpolar": [
           {
            "marker": {
             "colorbar": {
              "outlinewidth": 0,
              "ticks": ""
             }
            },
            "type": "scatterpolar"
           }
          ],
          "scatterpolargl": [
           {
            "marker": {
             "colorbar": {
              "outlinewidth": 0,
              "ticks": ""
             }
            },
            "type": "scatterpolargl"
           }
          ],
          "scatterternary": [
           {
            "marker": {
             "colorbar": {
              "outlinewidth": 0,
              "ticks": ""
             }
            },
            "type": "scatterternary"
           }
          ],
          "surface": [
           {
            "colorbar": {
             "outlinewidth": 0,
             "ticks": ""
            },
            "colorscale": [
             [
              0,
              "#0d0887"
             ],
             [
              0.1111111111111111,
              "#46039f"
             ],
             [
              0.2222222222222222,
              "#7201a8"
             ],
             [
              0.3333333333333333,
              "#9c179e"
             ],
             [
              0.4444444444444444,
              "#bd3786"
             ],
             [
              0.5555555555555556,
              "#d8576b"
             ],
             [
              0.6666666666666666,
              "#ed7953"
             ],
             [
              0.7777777777777778,
              "#fb9f3a"
             ],
             [
              0.8888888888888888,
              "#fdca26"
             ],
             [
              1,
              "#f0f921"
             ]
            ],
            "type": "surface"
           }
          ],
          "table": [
           {
            "cells": {
             "fill": {
              "color": "#506784"
             },
             "line": {
              "color": "rgb(17,17,17)"
             }
            },
            "header": {
             "fill": {
              "color": "#2a3f5f"
             },
             "line": {
              "color": "rgb(17,17,17)"
             }
            },
            "type": "table"
           }
          ]
         },
         "layout": {
          "annotationdefaults": {
           "arrowcolor": "#f2f5fa",
           "arrowhead": 0,
           "arrowwidth": 1
          },
          "autotypenumbers": "strict",
          "coloraxis": {
           "colorbar": {
            "outlinewidth": 0,
            "ticks": ""
           }
          },
          "colorscale": {
           "diverging": [
            [
             0,
             "#8e0152"
            ],
            [
             0.1,
             "#c51b7d"
            ],
            [
             0.2,
             "#de77ae"
            ],
            [
             0.3,
             "#f1b6da"
            ],
            [
             0.4,
             "#fde0ef"
            ],
            [
             0.5,
             "#f7f7f7"
            ],
            [
             0.6,
             "#e6f5d0"
            ],
            [
             0.7,
             "#b8e186"
            ],
            [
             0.8,
             "#7fbc41"
            ],
            [
             0.9,
             "#4d9221"
            ],
            [
             1,
             "#276419"
            ]
           ],
           "sequential": [
            [
             0,
             "#0d0887"
            ],
            [
             0.1111111111111111,
             "#46039f"
            ],
            [
             0.2222222222222222,
             "#7201a8"
            ],
            [
             0.3333333333333333,
             "#9c179e"
            ],
            [
             0.4444444444444444,
             "#bd3786"
            ],
            [
             0.5555555555555556,
             "#d8576b"
            ],
            [
             0.6666666666666666,
             "#ed7953"
            ],
            [
             0.7777777777777778,
             "#fb9f3a"
            ],
            [
             0.8888888888888888,
             "#fdca26"
            ],
            [
             1,
             "#f0f921"
            ]
           ],
           "sequentialminus": [
            [
             0,
             "#0d0887"
            ],
            [
             0.1111111111111111,
             "#46039f"
            ],
            [
             0.2222222222222222,
             "#7201a8"
            ],
            [
             0.3333333333333333,
             "#9c179e"
            ],
            [
             0.4444444444444444,
             "#bd3786"
            ],
            [
             0.5555555555555556,
             "#d8576b"
            ],
            [
             0.6666666666666666,
             "#ed7953"
            ],
            [
             0.7777777777777778,
             "#fb9f3a"
            ],
            [
             0.8888888888888888,
             "#fdca26"
            ],
            [
             1,
             "#f0f921"
            ]
           ]
          },
          "colorway": [
           "#636efa",
           "#EF553B",
           "#00cc96",
           "#ab63fa",
           "#FFA15A",
           "#19d3f3",
           "#FF6692",
           "#B6E880",
           "#FF97FF",
           "#FECB52"
          ],
          "font": {
           "color": "#f2f5fa"
          },
          "geo": {
           "bgcolor": "rgb(17,17,17)",
           "lakecolor": "rgb(17,17,17)",
           "landcolor": "rgb(17,17,17)",
           "showlakes": true,
           "showland": true,
           "subunitcolor": "#506784"
          },
          "hoverlabel": {
           "align": "left"
          },
          "hovermode": "closest",
          "mapbox": {
           "style": "dark"
          },
          "paper_bgcolor": "rgb(17,17,17)",
          "plot_bgcolor": "rgb(17,17,17)",
          "polar": {
           "angularaxis": {
            "gridcolor": "#506784",
            "linecolor": "#506784",
            "ticks": ""
           },
           "bgcolor": "rgb(17,17,17)",
           "radialaxis": {
            "gridcolor": "#506784",
            "linecolor": "#506784",
            "ticks": ""
           }
          },
          "scene": {
           "xaxis": {
            "backgroundcolor": "rgb(17,17,17)",
            "gridcolor": "#506784",
            "gridwidth": 2,
            "linecolor": "#506784",
            "showbackground": true,
            "ticks": "",
            "zerolinecolor": "#C8D4E3"
           },
           "yaxis": {
            "backgroundcolor": "rgb(17,17,17)",
            "gridcolor": "#506784",
            "gridwidth": 2,
            "linecolor": "#506784",
            "showbackground": true,
            "ticks": "",
            "zerolinecolor": "#C8D4E3"
           },
           "zaxis": {
            "backgroundcolor": "rgb(17,17,17)",
            "gridcolor": "#506784",
            "gridwidth": 2,
            "linecolor": "#506784",
            "showbackground": true,
            "ticks": "",
            "zerolinecolor": "#C8D4E3"
           }
          },
          "shapedefaults": {
           "line": {
            "color": "#f2f5fa"
           }
          },
          "sliderdefaults": {
           "bgcolor": "#C8D4E3",
           "bordercolor": "rgb(17,17,17)",
           "borderwidth": 1,
           "tickwidth": 0
          },
          "ternary": {
           "aaxis": {
            "gridcolor": "#506784",
            "linecolor": "#506784",
            "ticks": ""
           },
           "baxis": {
            "gridcolor": "#506784",
            "linecolor": "#506784",
            "ticks": ""
           },
           "bgcolor": "rgb(17,17,17)",
           "caxis": {
            "gridcolor": "#506784",
            "linecolor": "#506784",
            "ticks": ""
           }
          },
          "title": {
           "x": 0.05
          },
          "updatemenudefaults": {
           "bgcolor": "#506784",
           "borderwidth": 0
          },
          "xaxis": {
           "automargin": true,
           "gridcolor": "#283442",
           "linecolor": "#506784",
           "ticks": "",
           "title": {
            "standoff": 15
           },
           "zerolinecolor": "#283442",
           "zerolinewidth": 2
          },
          "yaxis": {
           "automargin": true,
           "gridcolor": "#283442",
           "linecolor": "#506784",
           "ticks": "",
           "title": {
            "standoff": 15
           },
           "zerolinecolor": "#283442",
           "zerolinewidth": 2
          }
         }
        },
        "width": 1200,
        "xaxis": {
         "anchor": "y",
         "domain": [
          0,
          1
         ],
         "title": {
          "text": "province"
         }
        },
        "yaxis": {
         "anchor": "x",
         "domain": [
          0,
          1
         ],
         "title": {
          "text": "count"
         }
        }
       }
      }
     },
     "metadata": {},
     "output_type": "display_data"
    }
   ],
   "source": [
    "fig = px.histogram(df_clicked, x='province',nbins=20,\n",
    "                   template='plotly_dark',width=1200, height=500)\n",
    "fig.show()"
   ]
  },
  {
   "cell_type": "code",
   "execution_count": 45,
   "metadata": {},
   "outputs": [
    {
     "data": {
      "application/vnd.plotly.v1+json": {
       "config": {
        "plotlyServerURL": "https://plot.ly"
       },
       "data": [
        {
         "alignmentgroup": "True",
         "bingroup": "x",
         "hovertemplate": "category=%{x}<br>count=%{y}<extra></extra>",
         "legendgroup": "",
         "marker": {
          "color": "#636efa",
          "pattern": {
           "shape": ""
          }
         },
         "name": "",
         "nbinsx": 20,
         "offsetgroup": "",
         "orientation": "v",
         "showlegend": false,
         "type": "histogram",
         "x": [
          "Health",
          "Food",
          "Travel",
          "Food",
          "House",
          "Finance",
          "Travel",
          "Fashion",
          "Electronic",
          "Electronic",
          "Travel",
          "Electronic",
          "House",
          "Fashion",
          "Food",
          "Otomotif",
          "Furniture",
          "Furniture",
          "Travel",
          "Food",
          "Furniture",
          "Furniture",
          "House",
          "House",
          "Health",
          "Bank",
          "Electronic",
          "House",
          "Electronic",
          "Fashion",
          "Otomotif",
          "Fashion",
          "Bank",
          "Fashion",
          "Furniture",
          "Health",
          "Otomotif",
          "Food",
          "Fashion",
          "Health",
          "House",
          "Finance",
          "Fashion",
          "Bank",
          "Food",
          "Fashion",
          "Food",
          "Finance",
          "House",
          "Travel",
          "Electronic",
          "House",
          "Furniture",
          "Health",
          "Food",
          "Bank",
          "Food",
          "Travel",
          "Electronic",
          "House",
          "Fashion",
          "Food",
          "Furniture",
          "Furniture",
          "Otomotif",
          "Electronic",
          "Health",
          "Health",
          "Travel",
          "Travel",
          "Finance",
          "Travel",
          "House",
          "Finance",
          "Health",
          "Otomotif",
          "Health",
          "Travel",
          "Otomotif",
          "Otomotif",
          "House",
          "Bank",
          "Food",
          "Health",
          "Travel",
          "Fashion",
          "Health",
          "Fashion",
          "Electronic",
          "Otomotif",
          "Fashion",
          "Fashion",
          "Bank",
          "Otomotif",
          "Furniture",
          "House",
          "Finance",
          "Travel",
          "Furniture",
          "Furniture",
          "House",
          "Travel",
          "Electronic",
          "Furniture",
          "Otomotif",
          "Furniture",
          "Furniture",
          "House",
          "Food",
          "Travel",
          "Food",
          "Health",
          "Fashion",
          "Health",
          "Travel",
          "Food",
          "Food",
          "Otomotif",
          "Fashion",
          "Electronic",
          "Fashion",
          "Otomotif",
          "Bank",
          "Finance",
          "Furniture",
          "Bank",
          "Finance",
          "Health",
          "Fashion",
          "Bank",
          "Food",
          "Otomotif",
          "Food",
          "Fashion",
          "Food",
          "House",
          "Furniture",
          "Food",
          "House",
          "Fashion",
          "Health",
          "Furniture",
          "Otomotif",
          "House",
          "House",
          "Finance",
          "Otomotif",
          "Fashion",
          "Fashion",
          "Travel",
          "Health",
          "Fashion",
          "Otomotif",
          "Health",
          "Bank",
          "Finance",
          "Otomotif",
          "Furniture",
          "Furniture",
          "Finance",
          "Finance",
          "Finance",
          "Bank",
          "Health",
          "Otomotif",
          "Fashion",
          "Health",
          "Fashion",
          "Travel",
          "Bank",
          "House",
          "Fashion",
          "Furniture",
          "Otomotif",
          "Travel",
          "Travel",
          "Electronic",
          "Food",
          "House",
          "Health",
          "Otomotif",
          "Bank",
          "Furniture",
          "Furniture",
          "Otomotif",
          "Finance",
          "Travel",
          "Food",
          "Bank",
          "Electronic",
          "Fashion",
          "Health",
          "Otomotif",
          "Otomotif",
          "House",
          "House",
          "Health",
          "Travel",
          "House",
          "Furniture",
          "Finance",
          "Electronic",
          "Electronic",
          "Finance",
          "Finance",
          "House",
          "Otomotif",
          "Finance",
          "Otomotif",
          "House",
          "Travel",
          "Food",
          "Electronic",
          "House",
          "Finance",
          "Fashion",
          "Bank",
          "Finance",
          "Food",
          "Bank",
          "Finance",
          "Food",
          "Electronic",
          "Otomotif",
          "Fashion",
          "Health",
          "Bank",
          "Electronic",
          "Finance",
          "Fashion",
          "Electronic",
          "Fashion",
          "Furniture",
          "Fashion",
          "House",
          "Otomotif",
          "Otomotif",
          "House",
          "Health",
          "Finance",
          "House",
          "Fashion",
          "Food",
          "House",
          "Finance",
          "Finance",
          "House",
          "Furniture",
          "Food",
          "Bank",
          "Food",
          "Bank",
          "Furniture",
          "Electronic",
          "Fashion",
          "Bank",
          "Furniture",
          "Otomotif",
          "Otomotif",
          "Health",
          "Otomotif",
          "Health",
          "Fashion",
          "Health",
          "Finance",
          "Furniture",
          "Bank",
          "Furniture",
          "House",
          "Electronic",
          "Travel",
          "Finance",
          "Otomotif",
          "Electronic",
          "Furniture",
          "Travel",
          "House",
          "Health",
          "Finance",
          "House",
          "Furniture",
          "House",
          "Health",
          "Fashion",
          "Food",
          "Health",
          "Food",
          "Finance",
          "Otomotif",
          "Otomotif",
          "Otomotif",
          "Finance",
          "Electronic",
          "Bank",
          "House",
          "Travel",
          "Electronic",
          "Bank",
          "Fashion",
          "Fashion",
          "House",
          "Travel",
          "Otomotif",
          "Furniture",
          "House",
          "Health",
          "Fashion",
          "Electronic",
          "Otomotif",
          "Otomotif",
          "Electronic",
          "Finance",
          "Electronic",
          "Otomotif",
          "Food",
          "Health",
          "Fashion",
          "Furniture",
          "Furniture",
          "Finance",
          "Finance",
          "Finance",
          "Bank",
          "Electronic",
          "House",
          "Finance",
          "Travel",
          "Electronic",
          "Furniture",
          "Electronic",
          "Electronic",
          "Otomotif",
          "Otomotif",
          "Bank",
          "House",
          "House",
          "Finance",
          "Health",
          "Furniture",
          "Health",
          "Finance",
          "Furniture",
          "Fashion",
          "Fashion",
          "Fashion",
          "Travel",
          "Food",
          "Electronic",
          "Otomotif",
          "Finance",
          "Finance",
          "Electronic",
          "House",
          "Electronic",
          "Bank",
          "Fashion",
          "Travel",
          "Food",
          "House",
          "Finance",
          "House",
          "Otomotif",
          "Health",
          "Food",
          "Finance",
          "Food",
          "Otomotif",
          "Finance",
          "Travel",
          "Furniture",
          "Health",
          "House",
          "Travel",
          "Electronic",
          "Bank",
          "Health",
          "Bank",
          "Fashion",
          "Bank",
          "Otomotif",
          "Electronic",
          "Travel",
          "Travel",
          "Fashion",
          "Finance",
          "Otomotif",
          "Furniture",
          "Otomotif",
          "Bank",
          "Health",
          "Food",
          "House",
          "Bank",
          "Otomotif",
          "Health",
          "Food",
          "House",
          "Furniture",
          "Bank",
          "Otomotif",
          "Bank",
          "Travel",
          "Finance",
          "Bank",
          "Electronic",
          "Food",
          "Bank",
          "Electronic",
          "Health",
          "Otomotif",
          "Furniture",
          "Travel",
          "Fashion",
          "Electronic",
          "House",
          "House",
          "Otomotif",
          "Health",
          "Otomotif",
          "Finance",
          "Otomotif",
          "Food",
          "Electronic",
          "House",
          "Otomotif",
          "Fashion",
          "Food",
          "Fashion",
          "Bank",
          "Electronic",
          "Electronic",
          "Fashion",
          "Travel",
          "Travel",
          "Finance",
          "Health",
          "Travel",
          "Travel",
          "Health",
          "House",
          "Otomotif",
          "Finance",
          "Fashion",
          "Electronic",
          "House",
          "Finance",
          "Otomotif",
          "Finance",
          "Health",
          "Electronic",
          "Travel",
          "Fashion",
          "Furniture",
          "Fashion",
          "Food",
          "House",
          "Electronic",
          "Furniture",
          "Food",
          "Electronic",
          "Travel",
          "Electronic",
          "Furniture",
          "Food",
          "Food",
          "House",
          "Food",
          "Bank",
          "House",
          "Otomotif",
          "Bank",
          "Bank",
          "Health",
          "Health",
          "Finance",
          "Food",
          "Health",
          "Health",
          "Travel",
          "Fashion",
          "House",
          "Food",
          "Travel",
          "Food",
          "Food",
          "Furniture",
          "Otomotif",
          "Travel",
          "Finance",
          "Otomotif",
          "Fashion",
          "Fashion",
          "Food",
          "Travel",
          "House",
          "Fashion",
          "Finance",
          "Electronic",
          "Travel",
          "Travel"
         ],
         "xaxis": "x",
         "yaxis": "y"
        }
       ],
       "layout": {
        "barmode": "relative",
        "height": 500,
        "legend": {
         "tracegroupgap": 0
        },
        "margin": {
         "t": 60
        },
        "template": {
         "data": {
          "bar": [
           {
            "error_x": {
             "color": "#f2f5fa"
            },
            "error_y": {
             "color": "#f2f5fa"
            },
            "marker": {
             "line": {
              "color": "rgb(17,17,17)",
              "width": 0.5
             },
             "pattern": {
              "fillmode": "overlay",
              "size": 10,
              "solidity": 0.2
             }
            },
            "type": "bar"
           }
          ],
          "barpolar": [
           {
            "marker": {
             "line": {
              "color": "rgb(17,17,17)",
              "width": 0.5
             },
             "pattern": {
              "fillmode": "overlay",
              "size": 10,
              "solidity": 0.2
             }
            },
            "type": "barpolar"
           }
          ],
          "carpet": [
           {
            "aaxis": {
             "endlinecolor": "#A2B1C6",
             "gridcolor": "#506784",
             "linecolor": "#506784",
             "minorgridcolor": "#506784",
             "startlinecolor": "#A2B1C6"
            },
            "baxis": {
             "endlinecolor": "#A2B1C6",
             "gridcolor": "#506784",
             "linecolor": "#506784",
             "minorgridcolor": "#506784",
             "startlinecolor": "#A2B1C6"
            },
            "type": "carpet"
           }
          ],
          "choropleth": [
           {
            "colorbar": {
             "outlinewidth": 0,
             "ticks": ""
            },
            "type": "choropleth"
           }
          ],
          "contour": [
           {
            "colorbar": {
             "outlinewidth": 0,
             "ticks": ""
            },
            "colorscale": [
             [
              0,
              "#0d0887"
             ],
             [
              0.1111111111111111,
              "#46039f"
             ],
             [
              0.2222222222222222,
              "#7201a8"
             ],
             [
              0.3333333333333333,
              "#9c179e"
             ],
             [
              0.4444444444444444,
              "#bd3786"
             ],
             [
              0.5555555555555556,
              "#d8576b"
             ],
             [
              0.6666666666666666,
              "#ed7953"
             ],
             [
              0.7777777777777778,
              "#fb9f3a"
             ],
             [
              0.8888888888888888,
              "#fdca26"
             ],
             [
              1,
              "#f0f921"
             ]
            ],
            "type": "contour"
           }
          ],
          "contourcarpet": [
           {
            "colorbar": {
             "outlinewidth": 0,
             "ticks": ""
            },
            "type": "contourcarpet"
           }
          ],
          "heatmap": [
           {
            "colorbar": {
             "outlinewidth": 0,
             "ticks": ""
            },
            "colorscale": [
             [
              0,
              "#0d0887"
             ],
             [
              0.1111111111111111,
              "#46039f"
             ],
             [
              0.2222222222222222,
              "#7201a8"
             ],
             [
              0.3333333333333333,
              "#9c179e"
             ],
             [
              0.4444444444444444,
              "#bd3786"
             ],
             [
              0.5555555555555556,
              "#d8576b"
             ],
             [
              0.6666666666666666,
              "#ed7953"
             ],
             [
              0.7777777777777778,
              "#fb9f3a"
             ],
             [
              0.8888888888888888,
              "#fdca26"
             ],
             [
              1,
              "#f0f921"
             ]
            ],
            "type": "heatmap"
           }
          ],
          "heatmapgl": [
           {
            "colorbar": {
             "outlinewidth": 0,
             "ticks": ""
            },
            "colorscale": [
             [
              0,
              "#0d0887"
             ],
             [
              0.1111111111111111,
              "#46039f"
             ],
             [
              0.2222222222222222,
              "#7201a8"
             ],
             [
              0.3333333333333333,
              "#9c179e"
             ],
             [
              0.4444444444444444,
              "#bd3786"
             ],
             [
              0.5555555555555556,
              "#d8576b"
             ],
             [
              0.6666666666666666,
              "#ed7953"
             ],
             [
              0.7777777777777778,
              "#fb9f3a"
             ],
             [
              0.8888888888888888,
              "#fdca26"
             ],
             [
              1,
              "#f0f921"
             ]
            ],
            "type": "heatmapgl"
           }
          ],
          "histogram": [
           {
            "marker": {
             "pattern": {
              "fillmode": "overlay",
              "size": 10,
              "solidity": 0.2
             }
            },
            "type": "histogram"
           }
          ],
          "histogram2d": [
           {
            "colorbar": {
             "outlinewidth": 0,
             "ticks": ""
            },
            "colorscale": [
             [
              0,
              "#0d0887"
             ],
             [
              0.1111111111111111,
              "#46039f"
             ],
             [
              0.2222222222222222,
              "#7201a8"
             ],
             [
              0.3333333333333333,
              "#9c179e"
             ],
             [
              0.4444444444444444,
              "#bd3786"
             ],
             [
              0.5555555555555556,
              "#d8576b"
             ],
             [
              0.6666666666666666,
              "#ed7953"
             ],
             [
              0.7777777777777778,
              "#fb9f3a"
             ],
             [
              0.8888888888888888,
              "#fdca26"
             ],
             [
              1,
              "#f0f921"
             ]
            ],
            "type": "histogram2d"
           }
          ],
          "histogram2dcontour": [
           {
            "colorbar": {
             "outlinewidth": 0,
             "ticks": ""
            },
            "colorscale": [
             [
              0,
              "#0d0887"
             ],
             [
              0.1111111111111111,
              "#46039f"
             ],
             [
              0.2222222222222222,
              "#7201a8"
             ],
             [
              0.3333333333333333,
              "#9c179e"
             ],
             [
              0.4444444444444444,
              "#bd3786"
             ],
             [
              0.5555555555555556,
              "#d8576b"
             ],
             [
              0.6666666666666666,
              "#ed7953"
             ],
             [
              0.7777777777777778,
              "#fb9f3a"
             ],
             [
              0.8888888888888888,
              "#fdca26"
             ],
             [
              1,
              "#f0f921"
             ]
            ],
            "type": "histogram2dcontour"
           }
          ],
          "mesh3d": [
           {
            "colorbar": {
             "outlinewidth": 0,
             "ticks": ""
            },
            "type": "mesh3d"
           }
          ],
          "parcoords": [
           {
            "line": {
             "colorbar": {
              "outlinewidth": 0,
              "ticks": ""
             }
            },
            "type": "parcoords"
           }
          ],
          "pie": [
           {
            "automargin": true,
            "type": "pie"
           }
          ],
          "scatter": [
           {
            "marker": {
             "line": {
              "color": "#283442"
             }
            },
            "type": "scatter"
           }
          ],
          "scatter3d": [
           {
            "line": {
             "colorbar": {
              "outlinewidth": 0,
              "ticks": ""
             }
            },
            "marker": {
             "colorbar": {
              "outlinewidth": 0,
              "ticks": ""
             }
            },
            "type": "scatter3d"
           }
          ],
          "scattercarpet": [
           {
            "marker": {
             "colorbar": {
              "outlinewidth": 0,
              "ticks": ""
             }
            },
            "type": "scattercarpet"
           }
          ],
          "scattergeo": [
           {
            "marker": {
             "colorbar": {
              "outlinewidth": 0,
              "ticks": ""
             }
            },
            "type": "scattergeo"
           }
          ],
          "scattergl": [
           {
            "marker": {
             "line": {
              "color": "#283442"
             }
            },
            "type": "scattergl"
           }
          ],
          "scattermapbox": [
           {
            "marker": {
             "colorbar": {
              "outlinewidth": 0,
              "ticks": ""
             }
            },
            "type": "scattermapbox"
           }
          ],
          "scatterpolar": [
           {
            "marker": {
             "colorbar": {
              "outlinewidth": 0,
              "ticks": ""
             }
            },
            "type": "scatterpolar"
           }
          ],
          "scatterpolargl": [
           {
            "marker": {
             "colorbar": {
              "outlinewidth": 0,
              "ticks": ""
             }
            },
            "type": "scatterpolargl"
           }
          ],
          "scatterternary": [
           {
            "marker": {
             "colorbar": {
              "outlinewidth": 0,
              "ticks": ""
             }
            },
            "type": "scatterternary"
           }
          ],
          "surface": [
           {
            "colorbar": {
             "outlinewidth": 0,
             "ticks": ""
            },
            "colorscale": [
             [
              0,
              "#0d0887"
             ],
             [
              0.1111111111111111,
              "#46039f"
             ],
             [
              0.2222222222222222,
              "#7201a8"
             ],
             [
              0.3333333333333333,
              "#9c179e"
             ],
             [
              0.4444444444444444,
              "#bd3786"
             ],
             [
              0.5555555555555556,
              "#d8576b"
             ],
             [
              0.6666666666666666,
              "#ed7953"
             ],
             [
              0.7777777777777778,
              "#fb9f3a"
             ],
             [
              0.8888888888888888,
              "#fdca26"
             ],
             [
              1,
              "#f0f921"
             ]
            ],
            "type": "surface"
           }
          ],
          "table": [
           {
            "cells": {
             "fill": {
              "color": "#506784"
             },
             "line": {
              "color": "rgb(17,17,17)"
             }
            },
            "header": {
             "fill": {
              "color": "#2a3f5f"
             },
             "line": {
              "color": "rgb(17,17,17)"
             }
            },
            "type": "table"
           }
          ]
         },
         "layout": {
          "annotationdefaults": {
           "arrowcolor": "#f2f5fa",
           "arrowhead": 0,
           "arrowwidth": 1
          },
          "autotypenumbers": "strict",
          "coloraxis": {
           "colorbar": {
            "outlinewidth": 0,
            "ticks": ""
           }
          },
          "colorscale": {
           "diverging": [
            [
             0,
             "#8e0152"
            ],
            [
             0.1,
             "#c51b7d"
            ],
            [
             0.2,
             "#de77ae"
            ],
            [
             0.3,
             "#f1b6da"
            ],
            [
             0.4,
             "#fde0ef"
            ],
            [
             0.5,
             "#f7f7f7"
            ],
            [
             0.6,
             "#e6f5d0"
            ],
            [
             0.7,
             "#b8e186"
            ],
            [
             0.8,
             "#7fbc41"
            ],
            [
             0.9,
             "#4d9221"
            ],
            [
             1,
             "#276419"
            ]
           ],
           "sequential": [
            [
             0,
             "#0d0887"
            ],
            [
             0.1111111111111111,
             "#46039f"
            ],
            [
             0.2222222222222222,
             "#7201a8"
            ],
            [
             0.3333333333333333,
             "#9c179e"
            ],
            [
             0.4444444444444444,
             "#bd3786"
            ],
            [
             0.5555555555555556,
             "#d8576b"
            ],
            [
             0.6666666666666666,
             "#ed7953"
            ],
            [
             0.7777777777777778,
             "#fb9f3a"
            ],
            [
             0.8888888888888888,
             "#fdca26"
            ],
            [
             1,
             "#f0f921"
            ]
           ],
           "sequentialminus": [
            [
             0,
             "#0d0887"
            ],
            [
             0.1111111111111111,
             "#46039f"
            ],
            [
             0.2222222222222222,
             "#7201a8"
            ],
            [
             0.3333333333333333,
             "#9c179e"
            ],
            [
             0.4444444444444444,
             "#bd3786"
            ],
            [
             0.5555555555555556,
             "#d8576b"
            ],
            [
             0.6666666666666666,
             "#ed7953"
            ],
            [
             0.7777777777777778,
             "#fb9f3a"
            ],
            [
             0.8888888888888888,
             "#fdca26"
            ],
            [
             1,
             "#f0f921"
            ]
           ]
          },
          "colorway": [
           "#636efa",
           "#EF553B",
           "#00cc96",
           "#ab63fa",
           "#FFA15A",
           "#19d3f3",
           "#FF6692",
           "#B6E880",
           "#FF97FF",
           "#FECB52"
          ],
          "font": {
           "color": "#f2f5fa"
          },
          "geo": {
           "bgcolor": "rgb(17,17,17)",
           "lakecolor": "rgb(17,17,17)",
           "landcolor": "rgb(17,17,17)",
           "showlakes": true,
           "showland": true,
           "subunitcolor": "#506784"
          },
          "hoverlabel": {
           "align": "left"
          },
          "hovermode": "closest",
          "mapbox": {
           "style": "dark"
          },
          "paper_bgcolor": "rgb(17,17,17)",
          "plot_bgcolor": "rgb(17,17,17)",
          "polar": {
           "angularaxis": {
            "gridcolor": "#506784",
            "linecolor": "#506784",
            "ticks": ""
           },
           "bgcolor": "rgb(17,17,17)",
           "radialaxis": {
            "gridcolor": "#506784",
            "linecolor": "#506784",
            "ticks": ""
           }
          },
          "scene": {
           "xaxis": {
            "backgroundcolor": "rgb(17,17,17)",
            "gridcolor": "#506784",
            "gridwidth": 2,
            "linecolor": "#506784",
            "showbackground": true,
            "ticks": "",
            "zerolinecolor": "#C8D4E3"
           },
           "yaxis": {
            "backgroundcolor": "rgb(17,17,17)",
            "gridcolor": "#506784",
            "gridwidth": 2,
            "linecolor": "#506784",
            "showbackground": true,
            "ticks": "",
            "zerolinecolor": "#C8D4E3"
           },
           "zaxis": {
            "backgroundcolor": "rgb(17,17,17)",
            "gridcolor": "#506784",
            "gridwidth": 2,
            "linecolor": "#506784",
            "showbackground": true,
            "ticks": "",
            "zerolinecolor": "#C8D4E3"
           }
          },
          "shapedefaults": {
           "line": {
            "color": "#f2f5fa"
           }
          },
          "sliderdefaults": {
           "bgcolor": "#C8D4E3",
           "bordercolor": "rgb(17,17,17)",
           "borderwidth": 1,
           "tickwidth": 0
          },
          "ternary": {
           "aaxis": {
            "gridcolor": "#506784",
            "linecolor": "#506784",
            "ticks": ""
           },
           "baxis": {
            "gridcolor": "#506784",
            "linecolor": "#506784",
            "ticks": ""
           },
           "bgcolor": "rgb(17,17,17)",
           "caxis": {
            "gridcolor": "#506784",
            "linecolor": "#506784",
            "ticks": ""
           }
          },
          "title": {
           "x": 0.05
          },
          "updatemenudefaults": {
           "bgcolor": "#506784",
           "borderwidth": 0
          },
          "xaxis": {
           "automargin": true,
           "gridcolor": "#283442",
           "linecolor": "#506784",
           "ticks": "",
           "title": {
            "standoff": 15
           },
           "zerolinecolor": "#283442",
           "zerolinewidth": 2
          },
          "yaxis": {
           "automargin": true,
           "gridcolor": "#283442",
           "linecolor": "#506784",
           "ticks": "",
           "title": {
            "standoff": 15
           },
           "zerolinecolor": "#283442",
           "zerolinewidth": 2
          }
         }
        },
        "width": 800,
        "xaxis": {
         "anchor": "y",
         "domain": [
          0,
          1
         ],
         "title": {
          "text": "category"
         }
        },
        "yaxis": {
         "anchor": "x",
         "domain": [
          0,
          1
         ],
         "title": {
          "text": "count"
         }
        }
       }
      }
     },
     "metadata": {},
     "output_type": "display_data"
    }
   ],
   "source": [
    "fig = px.histogram(df_clicked, x='category',nbins=20,\n",
    "                   template='plotly_dark', width=800, height=500)\n",
    "fig.show()"
   ]
  },
  {
   "attachments": {},
   "cell_type": "markdown",
   "metadata": {},
   "source": [
    "### Bivariate"
   ]
  },
  {
   "cell_type": "code",
   "execution_count": 14,
   "metadata": {},
   "outputs": [
    {
     "data": {
      "application/vnd.plotly.v1+json": {
       "config": {
        "plotlyServerURL": "https://plot.ly"
       },
       "data": [
        {
         "hovertemplate": "Clicked on Ad=No<br>Daily Time Spent on Site=%{x}<br>Age=%{y}<extra></extra>",
         "legendgroup": "No",
         "marker": {
          "color": "#636efa",
          "symbol": "circle"
         },
         "mode": "markers",
         "name": "No",
         "orientation": "v",
         "showlegend": true,
         "type": "scatter",
         "x": [
          68.95,
          80.23,
          69.47,
          74.15,
          68.37,
          59.99,
          88.91,
          74.53,
          69.88,
          83.07,
          79.52,
          82.03,
          77.22,
          84.59,
          87.29,
          null,
          76.02,
          67.64,
          86.41,
          84.37,
          65.82,
          84.98,
          64.24,
          82.52,
          81.38,
          80.47,
          69.62,
          85.4,
          73.18,
          79.94,
          80.6,
          77.63,
          85.61,
          85.84,
          72.08,
          null,
          62.42,
          75.74,
          69.01,
          64.1,
          82.73,
          78.11,
          73.46,
          70.79,
          77.51,
          70.03,
          72.84,
          79.71,
          63.6,
          89.91,
          68.18,
          66.49,
          80.49,
          72.23,
          74.02,
          71,
          69,
          76.99,
          86.19,
          49.58,
          77.65,
          79.57,
          89.05,
          70.41,
          67.36,
          75.7,
          71.89,
          75.8,
          83.86,
          83.67,
          69.08,
          58.18,
          null,
          65.4,
          79.52,
          87.98,
          80.46,
          76.32,
          82.68,
          72.01,
          75.83,
          86.06,
          86.69,
          71.84,
          80.23,
          74.41,
          71.74,
          72.04,
          85.86,
          67.58,
          85.56,
          77.95,
          77.2,
          78.57,
          73.41,
          77.05,
          66.4,
          69.35,
          70.04,
          69.78,
          76.9,
          84.08,
          76.81,
          76.87,
          81.98,
          77.88,
          75.83,
          89.15,
          70.68,
          76.06,
          66.67,
          65.65,
          73.27,
          85.84,
          85.03,
          70.44,
          81.22,
          76.7,
          84.54,
          81.03,
          null,
          83.47,
          74.65,
          84.04,
          72.44,
          79.15,
          73.04,
          76.28,
          68.88,
          73.1,
          87.3,
          89.34,
          81.37,
          81.67,
          71.76,
          75.15,
          82.87,
          84.71,
          81.61,
          71.55,
          82.4,
          73.95,
          72.07,
          80.39,
          65.8,
          69.97,
          84.79,
          82.7,
          84.88,
          76.56,
          69.74,
          72.19,
          84.29,
          75.84,
          73.38,
          80.72,
          90.97,
          86.78,
          66.18,
          84.33,
          76.84,
          67.05,
          80.71,
          80.09,
          79.36,
          86.38,
          87.26,
          75.32,
          74.38,
          65.9,
          88.12,
          83.97,
          65.77,
          81.58,
          76.2,
          74.49,
          73.71,
          78.19,
          79.54,
          87.09,
          83.4,
          79.72,
          null,
          72.45,
          77.07,
          74.62,
          82.07,
          79.44,
          73.19,
          77.6,
          89,
          81.11,
          80.22,
          77.66,
          74.63,
          80.59,
          83.49,
          68.1,
          78.83,
          79.97,
          80.51,
          62.26,
          71.05,
          76.24,
          77.29,
          84.95,
          87.23,
          81.58,
          78.68,
          68.82,
          86.63,
          72.92,
          77.14,
          60.7,
          83.71,
          81.99,
          84.69,
          88.72,
          88.89,
          85.23,
          83.55,
          56.39,
          76.24,
          78.18,
          79.4,
          73.72,
          73.93,
          77.69,
          80.67,
          83.42,
          66.17,
          80.05,
          79.82,
          74.88,
          88.04,
          65.65,
          67.69,
          78.37,
          81.46,
          75.15,
          78.76,
          57.11,
          83.26,
          69.42,
          83.97,
          76.56,
          80.29,
          59.88,
          81.59,
          81.1,
          73.94,
          79.81,
          66.17,
          80.47,
          77.05,
          79.36,
          70.29,
          84.53,
          81.51,
          84.81,
          79.16,
          79.91,
          66.14,
          59.61,
          89.37,
          79.53,
          91.43,
          73.57,
          78.76,
          76.49,
          61.72,
          84.53,
          72.03,
          77.47,
          75.65,
          78.15,
          76.59,
          78.77,
          83.4,
          79.53,
          73.89,
          75.8,
          81.95,
          72.53,
          79.67,
          75.42,
          78.64,
          59.52,
          62.26,
          79.97,
          80.38,
          64.51,
          71.28,
          72.76,
          72.8,
          81.21,
          66.89,
          68.11,
          78.6,
          78.29,
          77.31,
          73.15,
          82.07,
          77.25,
          74.84,
          83.53,
          78.36,
          69.5,
          65.22,
          75.19,
          76.21,
          67.76,
          68.41,
          74.54,
          81.75,
          87.85,
          87.97,
          78.17,
          85.77,
          73.94,
          63.43,
          84.59,
          70.13,
          91.1,
          74.06,
          81.29,
          76.07,
          75.92,
          78.35,
          66.04,
          84.31,
          83.66,
          81.25,
          85.26,
          86.53,
          null,
          85.24,
          74.71,
          82.95,
          76.42,
          81.37,
          75,
          79.61,
          77.89,
          89.21,
          77.44,
          82.58,
          87.85,
          78.01,
          76.83,
          76.27,
          74.27,
          73.27,
          74.58,
          77.5,
          87.16,
          87.16,
          68.25,
          73.49,
          80.15,
          null,
          73.88,
          58.6,
          77.65,
          76.02,
          78.84,
          81.9,
          69.96,
          87.35,
          71.27,
          85.01,
          68.95,
          75.71,
          48.22,
          76.76,
          78.74,
          67.47,
          81.17,
          89.66,
          79.6,
          65.53,
          61.87,
          83.16,
          83.91,
          79.8,
          82.37,
          70.9,
          71.9,
          54.35,
          77.75,
          70.61,
          82.72,
          76.87,
          65.07,
          75.81,
          72.94,
          85.54,
          71.14,
          64.38,
          88.85,
          72.18,
          80.55,
          80.46,
          82.69,
          74.07,
          85.62,
          56.56,
          75.64,
          79.22,
          77.05,
          66.83,
          76.2,
          83.89,
          79.89,
          84.25,
          74.18,
          85.78,
          80.96,
          81.98,
          79.6,
          82.3,
          79.09,
          68.47,
          83.69,
          83.48,
          68.72,
          63.11,
          78.24,
          74.61,
          89.18,
          88.82,
          70.39,
          78.58,
          81.56,
          82.8,
          78.51,
          83.17,
          68.25,
          81.32,
          76.64,
          74.06,
          86.58,
          90.75,
          67.71,
          82.41,
          76.79,
          70.05,
          72.19,
          77.35,
          68.68,
          81.75,
          66.03,
          79.18,
          86.81,
          70.92,
          81.45,
          76.65,
          69.86,
          85.37,
          80.99,
          78.84,
          84.76,
          80.64,
          75.94,
          87.18,
          75.24,
          87.46,
          87.14,
          78.79,
          65.56,
          81.05,
          72.55,
          null,
          80.53,
          80.94,
          78.41,
          83.98,
          60.83,
          89.8,
          72.82,
          51.65,
          69.95,
          79.83,
          85.35,
          78.67,
          70.09,
          60.75,
          65.07,
          68.01,
          80.87,
          71.4,
          70.29,
          76.58,
          82.79,
          66.47,
          76.44,
          89.71,
          70.96,
          64.2,
          55.55
         ],
         "xaxis": "x",
         "y": [
          35,
          31,
          26,
          29,
          35,
          23,
          33,
          30,
          20,
          37,
          24,
          41,
          30,
          35,
          36,
          28,
          22,
          35,
          28,
          30,
          39,
          29,
          30,
          32,
          31,
          25,
          20,
          43,
          23,
          28,
          31,
          29,
          27,
          34,
          29,
          32,
          29,
          25,
          46,
          22,
          33,
          27,
          28,
          31,
          36,
          26,
          26,
          34,
          23,
          40,
          21,
          20,
          40,
          25,
          32,
          22,
          32,
          31,
          31,
          26,
          27,
          31,
          45,
          27,
          37,
          29,
          23,
          38,
          31,
          44,
          41,
          25,
          35,
          33,
          27,
          38,
          27,
          35,
          33,
          31,
          24,
          31,
          34,
          47,
          31,
          26,
          35,
          22,
          34,
          41,
          29,
          31,
          33,
          36,
          31,
          27,
          40,
          29,
          31,
          29,
          28,
          30,
          28,
          27,
          40,
          37,
          27,
          42,
          31,
          23,
          33,
          30,
          32,
          32,
          30,
          24,
          53,
          36,
          33,
          28,
          32,
          39,
          28,
          38,
          34,
          26,
          37,
          33,
          37,
          28,
          35,
          32,
          26,
          28,
          35,
          22,
          37,
          32,
          33,
          36,
          36,
          35,
          31,
          31,
          25,
          28,
          33,
          35,
          32,
          34,
          49,
          33,
          41,
          21,
          25,
          31,
          37,
          30,
          35,
          41,
          32,
          25,
          26,
          31,
          34,
          40,
          35,
          28,
          40,
          22,
          38,
          28,
          21,
          25,
          37,
          28,
          23,
          30,
          44,
          36,
          34,
          28,
          42,
          29,
          40,
          36,
          25,
          26,
          25,
          24,
          37,
          39,
          30,
          29,
          26,
          37,
          33,
          40,
          36,
          44,
          28,
          26,
          20,
          40,
          27,
          34,
          29,
          41,
          29,
          20,
          39,
          29,
          24,
          43,
          45,
          33,
          31,
          32,
          35,
          36,
          39,
          27,
          27,
          23,
          35,
          32,
          44,
          22,
          34,
          25,
          33,
          25,
          26,
          27,
          45,
          25,
          37,
          24,
          29,
          33,
          24,
          22,
          40,
          25,
          40,
          30,
          31,
          30,
          35,
          29,
          27,
          37,
          26,
          42,
          31,
          33,
          26,
          33,
          41,
          32,
          32,
          32,
          41,
          21,
          34,
          51,
          39,
          30,
          32,
          23,
          26,
          35,
          34,
          36,
          39,
          33,
          29,
          28,
          39,
          33,
          35,
          36,
          31,
          37,
          28,
          26,
          31,
          44,
          37,
          26,
          30,
          42,
          37,
          33,
          35,
          36,
          23,
          38,
          46,
          38,
          32,
          25,
          24,
          27,
          37,
          36,
          24,
          26,
          30,
          31,
          31,
          31,
          38,
          24,
          24,
          31,
          35,
          27,
          27,
          26,
          29,
          36,
          31,
          40,
          23,
          28,
          36,
          22,
          46,
          27,
          29,
          38,
          33,
          32,
          46,
          26,
          31,
          46,
          39,
          26,
          33,
          29,
          31,
          26,
          33,
          28,
          38,
          34,
          26,
          28,
          27,
          37,
          28,
          36,
          28,
          33,
          37,
          33,
          38,
          25,
          28,
          29,
          19,
          28,
          40,
          26,
          41,
          31,
          35,
          21,
          29,
          51,
          34,
          40,
          25,
          27,
          24,
          30,
          34,
          28,
          19,
          35,
          41,
          29,
          28,
          30,
          28,
          29,
          42,
          31,
          28,
          31,
          36,
          34,
          40,
          31,
          27,
          30,
          19,
          40,
          30,
          35,
          29,
          29,
          22,
          29,
          26,
          29,
          27,
          34,
          46,
          24,
          28,
          30,
          32,
          28,
          34,
          39,
          34,
          39,
          31,
          32,
          28,
          36,
          31,
          27,
          34,
          23,
          38,
          37,
          36,
          32,
          33,
          26,
          30,
          25,
          43,
          29,
          25,
          39,
          50,
          32,
          40,
          25,
          36,
          27,
          33,
          32,
          34,
          34,
          43,
          22,
          31,
          29,
          39,
          31,
          31,
          25,
          36,
          26,
          32,
          30,
          26,
          27,
          31,
          24,
          37,
          31,
          32,
          25,
          34,
          22,
          38,
          29,
          36,
          33,
          36,
          19,
          36,
          34,
          31,
          28,
          29,
          37,
          26,
          21,
          42,
          24,
          25,
          28,
          30,
          31,
          46,
          32,
          31,
          28,
          48,
          31,
          27,
          19
         ],
         "yaxis": "y"
        },
        {
         "hovertemplate": "Clicked on Ad=Yes<br>Daily Time Spent on Site=%{x}<br>Age=%{y}<extra></extra>",
         "legendgroup": "Yes",
         "marker": {
          "color": "#EF553B",
          "symbol": "circle"
         },
         "mode": "markers",
         "name": "Yes",
         "orientation": "v",
         "showlegend": true,
         "type": "scatter",
         "x": [
          66,
          47.64,
          69.57,
          42.95,
          63.45,
          55.39,
          54.7,
          74.58,
          41.49,
          41.39,
          48.53,
          51.95,
          70.2,
          59.05,
          55.6,
          57.64,
          62.26,
          50.43,
          null,
          37.68,
          44.33,
          48.01,
          33.33,
          50.33,
          62.31,
          65.19,
          44.98,
          41.82,
          45.96,
          63.89,
          35.33,
          78.53,
          46.13,
          55.35,
          33.21,
          38.46,
          49.81,
          56.14,
          55.13,
          56.64,
          68.94,
          57.76,
          52.7,
          57.7,
          56.89,
          69.9,
          55.79,
          50.08,
          43.67,
          45.72,
          39.94,
          35.61,
          41.49,
          42.39,
          47.53,
          null,
          63.24,
          46.13,
          72.6,
          61.88,
          84.45,
          88.97,
          37.75,
          62.33,
          80.31,
          46.98,
          41.67,
          51.24,
          43.49,
          49.89,
          38.37,
          38.52,
          37.51,
          55.6,
          37.47,
          56.04,
          70.92,
          49.78,
          68.61,
          37,
          44.64,
          41.73,
          75.55,
          41.28,
          34.66,
          66.18,
          59.59,
          43.77,
          63.36,
          60.72,
          44.57,
          39.85,
          84.53,
          62.95,
          46.88,
          46.31,
          84.73,
          39.86,
          50.08,
          60.23,
          60.7,
          43.67,
          71.86,
          44.78,
          35.65,
          58.22,
          59.51,
          40.15,
          41.89,
          67.28,
          66.01,
          61.57,
          53.3,
          34.87,
          43.6,
          49.95,
          60.94,
          78.7,
          57.35,
          34.86,
          46.77,
          62.42,
          78.32,
          37.32,
          40.42,
          76.77,
          74.32,
          80.03,
          53.68,
          39.96,
          57.05,
          42.44,
          62.2,
          61.22,
          46.08,
          56.7,
          40.06,
          73.84,
          60.25,
          59.21,
          43.02,
          70.66,
          70.58,
          40.17,
          44.49,
          47.66,
          46.37,
          54.88,
          40.67,
          47.51,
          56.01,
          45.05,
          60.53,
          50.52,
          55.2,
          52.62,
          39.25,
          77.56,
          33.52,
          79.81,
          54.92,
          75.55,
          73.89,
          62.06,
          51.5,
          36.87,
          34.78,
          41.47,
          56.3,
          38.94,
          36.31,
          72.23,
          61.09,
          37.87,
          60.91,
          74.87,
          37.45,
          49.84,
          51.38,
          38.91,
          62.14,
          73.3,
          71.9,
          58.6,
          36.08,
          41.73,
          69.2,
          67.56,
          43.63,
          49.67,
          44.46,
          63.88,
          66.99,
          42.05,
          50.52,
          35.98,
          39.34,
          57.24,
          56.34,
          48.73,
          51.68,
          35.34,
          48.09,
          56.99,
          41.18,
          71.03,
          34.3,
          53.38,
          58.03,
          43.59,
          60.07,
          54.43,
          60.53,
          69.58,
          56.66,
          57.64,
          46.04,
          36.44,
          53.14,
          32.84,
          38.1,
          51.87,
          43.41,
          55.92,
          82.12,
          43.01,
          64.88,
          48.03,
          32.99,
          36.49,
          45.7,
          82.38,
          52.68,
          65.59,
          43.84,
          47.48,
          44.96,
          39.56,
          39.76,
          50.6,
          46.2,
          66.88,
          35.49,
          50.19,
          59.12,
          59.7,
          67.8,
          41.7,
          58.35,
          51.56,
          58.21,
          66.12,
          49.99,
          80.3,
          57.86,
          59.13,
          42.94,
          82.79,
          59.22,
          35,
          46.61,
          63.26,
          67.94,
          43.65,
          46.61,
          65.1,
          53.44,
          63.8,
          42.6,
          56.39,
          44.73,
          38.35,
          56.2,
          67.69,
          38.35,
          64.75,
          47.9,
          50.32,
          74.59,
          46.66,
          48.86,
          37.05,
          69.15,
          65.72,
          40.04,
          68.6,
          56.16,
          43.83,
          39.86,
          66.77,
          57.2,
          49.84,
          43.97,
          38.63,
          84,
          52.13,
          71.83,
          50.18,
          64.67,
          62.06,
          84.29,
          32.91,
          39.5,
          40.01,
          52.7,
          35.55,
          60.23,
          67.91,
          41.16,
          53.54,
          40.19,
          58.95,
          35.76,
          59.36,
          61.04,
          64.63,
          46.14,
          44.33,
          46.43,
          52.84,
          42.04,
          46.28,
          48.26,
          71.03,
          58.05,
          52.56,
          62.18,
          66.08,
          49.96,
          39.36,
          47.23,
          65.57,
          44.15,
          43.57,
          42.06,
          66.26,
          65.15,
          39.19,
          69.77,
          87.27,
          71.33,
          46.89,
          77.8,
          45.44,
          49.42,
          49.19,
          39.96,
          67.59,
          43.07,
          39.47,
          44.11,
          56.57,
          71.23,
          47.23,
          43.63,
          null,
          67.35,
          57.99,
          66.8,
          49.13,
          45.11,
          61.82,
          56.93,
          48.86,
          36.56,
          85.73,
          53.63,
          52.35,
          52.84,
          51.58,
          42.32,
          55.04,
          68.58,
          66.79,
          32.6,
          43.88,
          56.46,
          52.67,
          67.85,
          75.55,
          35.21,
          36.37,
          59.96,
          40.88,
          36.98,
          35.49,
          36.62,
          49.35,
          56.64,
          53.33,
          50.63,
          41.84,
          53.92,
          55.32,
          53.22,
          43.16,
          67.51,
          43.16,
          36.91,
          54.47,
          57.51,
          73.21,
          43.49,
          66.69,
          48.46,
          42.51,
          42.83,
          41.46,
          45.99,
          49.21,
          55.77,
          44.13,
          57.82,
          72.46,
          61.88,
          44.16,
          55.74,
          59.05,
          35.11,
          60.39,
          75.03,
          50.87,
          37.65,
          91.37,
          39.53,
          45.82,
          40.34,
          67.39,
          null,
          41.53,
          46.84,
          44.4,
          52.17,
          54.08,
          54.39,
          37.74,
          77.36,
          55.46,
          35.66,
          50.78,
          40.47,
          45.62,
          37.01,
          56.91,
          42.84,
          67.56,
          34.96,
          41.86,
          34.04,
          54.96,
          55.71,
          45.48,
          47,
          59.64,
          35.98,
          82.49,
          61.76,
          63.3,
          36.73,
          63.18,
          50.6,
          32.6,
          44.72,
          78.76,
          79.51,
          39.3,
          64.79,
          38.65,
          59.01,
          78.96,
          63.99,
          41.35,
          62.79,
          45.53,
          54.55,
          35.66,
          56.78,
          35.25,
          37.58,
          45.08,
          63.04,
          40.18,
          45.17,
          50.48,
          41.88,
          39.87,
          61.84,
          54.97,
          67.26,
          54.37,
          72.88,
          63.37,
          35.79,
          38.96,
          69.17,
          43.7,
          72.97,
          51.3,
          null,
          45.01
         ],
         "xaxis": "x",
         "y": [
          48,
          49,
          48,
          33,
          23,
          37,
          36,
          40,
          52,
          41,
          28,
          52,
          34,
          57,
          23,
          57,
          53,
          46,
          39,
          52,
          37,
          46,
          45,
          50,
          47,
          36,
          49,
          41,
          45,
          40,
          32,
          34,
          31,
          39,
          43,
          42,
          35,
          38,
          45,
          38,
          54,
          41,
          34,
          34,
          37,
          43,
          24,
          40,
          31,
          36,
          41,
          46,
          53,
          42,
          30,
          60,
          53,
          46,
          55,
          42,
          50,
          45,
          36,
          43,
          44,
          50,
          36,
          36,
          47,
          39,
          36,
          38,
          30,
          44,
          44,
          49,
          41,
          46,
          57,
          48,
          36,
          28,
          36,
          50,
          32,
          55,
          42,
          52,
          48,
          44,
          31,
          38,
          27,
          60,
          54,
          57,
          30,
          36,
          30,
          35,
          49,
          53,
          32,
          45,
          40,
          29,
          58,
          38,
          38,
          43,
          23,
          53,
          34,
          40,
          38,
          39,
          41,
          30,
          29,
          38,
          32,
          38,
          28,
          50,
          45,
          36,
          33,
          44,
          47,
          45,
          41,
          56,
          25,
          45,
          30,
          48,
          38,
          31,
          35,
          35,
          44,
          43,
          26,
          26,
          53,
          29,
          52,
          24,
          35,
          51,
          26,
          42,
          24,
          31,
          39,
          50,
          39,
          38,
          43,
          24,
          54,
          22,
          39,
          44,
          34,
          36,
          48,
          31,
          49,
          41,
          47,
          48,
          26,
          52,
          19,
          52,
          47,
          39,
          59,
          33,
          41,
          36,
          54,
          50,
          45,
          47,
          42,
          31,
          41,
          27,
          42,
          38,
          47,
          51,
          28,
          47,
          43,
          52,
          50,
          27,
          49,
          45,
          33,
          40,
          43,
          32,
          41,
          35,
          31,
          36,
          42,
          37,
          29,
          43,
          42,
          36,
          32,
          39,
          38,
          40,
          34,
          50,
          28,
          24,
          52,
          35,
          42,
          40,
          45,
          52,
          33,
          35,
          23,
          47,
          36,
          31,
          50,
          41,
          28,
          30,
          37,
          35,
          48,
          40,
          33,
          28,
          30,
          39,
          37,
          46,
          37,
          49,
          41,
          58,
          30,
          44,
          37,
          34,
          55,
          40,
          42,
          29,
          43,
          39,
          52,
          49,
          42,
          38,
          55,
          58,
          35,
          33,
          49,
          44,
          41,
          36,
          42,
          40,
          23,
          45,
          54,
          39,
          46,
          36,
          27,
          33,
          25,
          45,
          28,
          25,
          42,
          38,
          36,
          48,
          48,
          50,
          40,
          35,
          51,
          40,
          30,
          37,
          31,
          53,
          41,
          39,
          60,
          23,
          49,
          39,
          37,
          55,
          51,
          49,
          41,
          45,
          28,
          41,
          28,
          43,
          49,
          26,
          50,
          55,
          32,
          31,
          33,
          61,
          55,
          29,
          38,
          46,
          28,
          36,
          34,
          47,
          29,
          54,
          54,
          30,
          23,
          48,
          57,
          43,
          53,
          38,
          35,
          45,
          36,
          43,
          41,
          26,
          52,
          43,
          38,
          37,
          29,
          50,
          29,
          32,
          58,
          59,
          37,
          35,
          29,
          32,
          54,
          25,
          51,
          33,
          29,
          42,
          41,
          60,
          45,
          54,
          26,
          44,
          41,
          36,
          39,
          40,
          33,
          33,
          31,
          47,
          32,
          49,
          29,
          34,
          50,
          49,
          41,
          43,
          44,
          35,
          43,
          29,
          48,
          23,
          38,
          30,
          45,
          35,
          49,
          30,
          34,
          42,
          33,
          46,
          49,
          40,
          46,
          40,
          45,
          42,
          37,
          52,
          35,
          45,
          34,
          24,
          51,
          45,
          33,
          27,
          29,
          44,
          33,
          42,
          45,
          53,
          44,
          36,
          20,
          40,
          41,
          37,
          45,
          51,
          38,
          43,
          50,
          50,
          52,
          47,
          42,
          39,
          34,
          42,
          37,
          49,
          56,
          51,
          45,
          45,
          34,
          38,
          34,
          45,
          48,
          38,
          46,
          51,
          39,
          32,
          30,
          31,
          30,
          50,
          43,
          27,
          36,
          29,
          44,
          36,
          28,
          50,
          52,
          38,
          27,
          29,
          48,
          50,
          40,
          48,
          45,
          31,
          57,
          38,
          44,
          43,
          44,
          38,
          40,
          28,
          30,
          45,
          51,
          26
         ],
         "yaxis": "y"
        }
       ],
       "layout": {
        "height": 500,
        "legend": {
         "title": {
          "text": "Clicked on Ad"
         },
         "tracegroupgap": 0
        },
        "margin": {
         "t": 60
        },
        "template": {
         "data": {
          "bar": [
           {
            "error_x": {
             "color": "#f2f5fa"
            },
            "error_y": {
             "color": "#f2f5fa"
            },
            "marker": {
             "line": {
              "color": "rgb(17,17,17)",
              "width": 0.5
             },
             "pattern": {
              "fillmode": "overlay",
              "size": 10,
              "solidity": 0.2
             }
            },
            "type": "bar"
           }
          ],
          "barpolar": [
           {
            "marker": {
             "line": {
              "color": "rgb(17,17,17)",
              "width": 0.5
             },
             "pattern": {
              "fillmode": "overlay",
              "size": 10,
              "solidity": 0.2
             }
            },
            "type": "barpolar"
           }
          ],
          "carpet": [
           {
            "aaxis": {
             "endlinecolor": "#A2B1C6",
             "gridcolor": "#506784",
             "linecolor": "#506784",
             "minorgridcolor": "#506784",
             "startlinecolor": "#A2B1C6"
            },
            "baxis": {
             "endlinecolor": "#A2B1C6",
             "gridcolor": "#506784",
             "linecolor": "#506784",
             "minorgridcolor": "#506784",
             "startlinecolor": "#A2B1C6"
            },
            "type": "carpet"
           }
          ],
          "choropleth": [
           {
            "colorbar": {
             "outlinewidth": 0,
             "ticks": ""
            },
            "type": "choropleth"
           }
          ],
          "contour": [
           {
            "colorbar": {
             "outlinewidth": 0,
             "ticks": ""
            },
            "colorscale": [
             [
              0,
              "#0d0887"
             ],
             [
              0.1111111111111111,
              "#46039f"
             ],
             [
              0.2222222222222222,
              "#7201a8"
             ],
             [
              0.3333333333333333,
              "#9c179e"
             ],
             [
              0.4444444444444444,
              "#bd3786"
             ],
             [
              0.5555555555555556,
              "#d8576b"
             ],
             [
              0.6666666666666666,
              "#ed7953"
             ],
             [
              0.7777777777777778,
              "#fb9f3a"
             ],
             [
              0.8888888888888888,
              "#fdca26"
             ],
             [
              1,
              "#f0f921"
             ]
            ],
            "type": "contour"
           }
          ],
          "contourcarpet": [
           {
            "colorbar": {
             "outlinewidth": 0,
             "ticks": ""
            },
            "type": "contourcarpet"
           }
          ],
          "heatmap": [
           {
            "colorbar": {
             "outlinewidth": 0,
             "ticks": ""
            },
            "colorscale": [
             [
              0,
              "#0d0887"
             ],
             [
              0.1111111111111111,
              "#46039f"
             ],
             [
              0.2222222222222222,
              "#7201a8"
             ],
             [
              0.3333333333333333,
              "#9c179e"
             ],
             [
              0.4444444444444444,
              "#bd3786"
             ],
             [
              0.5555555555555556,
              "#d8576b"
             ],
             [
              0.6666666666666666,
              "#ed7953"
             ],
             [
              0.7777777777777778,
              "#fb9f3a"
             ],
             [
              0.8888888888888888,
              "#fdca26"
             ],
             [
              1,
              "#f0f921"
             ]
            ],
            "type": "heatmap"
           }
          ],
          "heatmapgl": [
           {
            "colorbar": {
             "outlinewidth": 0,
             "ticks": ""
            },
            "colorscale": [
             [
              0,
              "#0d0887"
             ],
             [
              0.1111111111111111,
              "#46039f"
             ],
             [
              0.2222222222222222,
              "#7201a8"
             ],
             [
              0.3333333333333333,
              "#9c179e"
             ],
             [
              0.4444444444444444,
              "#bd3786"
             ],
             [
              0.5555555555555556,
              "#d8576b"
             ],
             [
              0.6666666666666666,
              "#ed7953"
             ],
             [
              0.7777777777777778,
              "#fb9f3a"
             ],
             [
              0.8888888888888888,
              "#fdca26"
             ],
             [
              1,
              "#f0f921"
             ]
            ],
            "type": "heatmapgl"
           }
          ],
          "histogram": [
           {
            "marker": {
             "pattern": {
              "fillmode": "overlay",
              "size": 10,
              "solidity": 0.2
             }
            },
            "type": "histogram"
           }
          ],
          "histogram2d": [
           {
            "colorbar": {
             "outlinewidth": 0,
             "ticks": ""
            },
            "colorscale": [
             [
              0,
              "#0d0887"
             ],
             [
              0.1111111111111111,
              "#46039f"
             ],
             [
              0.2222222222222222,
              "#7201a8"
             ],
             [
              0.3333333333333333,
              "#9c179e"
             ],
             [
              0.4444444444444444,
              "#bd3786"
             ],
             [
              0.5555555555555556,
              "#d8576b"
             ],
             [
              0.6666666666666666,
              "#ed7953"
             ],
             [
              0.7777777777777778,
              "#fb9f3a"
             ],
             [
              0.8888888888888888,
              "#fdca26"
             ],
             [
              1,
              "#f0f921"
             ]
            ],
            "type": "histogram2d"
           }
          ],
          "histogram2dcontour": [
           {
            "colorbar": {
             "outlinewidth": 0,
             "ticks": ""
            },
            "colorscale": [
             [
              0,
              "#0d0887"
             ],
             [
              0.1111111111111111,
              "#46039f"
             ],
             [
              0.2222222222222222,
              "#7201a8"
             ],
             [
              0.3333333333333333,
              "#9c179e"
             ],
             [
              0.4444444444444444,
              "#bd3786"
             ],
             [
              0.5555555555555556,
              "#d8576b"
             ],
             [
              0.6666666666666666,
              "#ed7953"
             ],
             [
              0.7777777777777778,
              "#fb9f3a"
             ],
             [
              0.8888888888888888,
              "#fdca26"
             ],
             [
              1,
              "#f0f921"
             ]
            ],
            "type": "histogram2dcontour"
           }
          ],
          "mesh3d": [
           {
            "colorbar": {
             "outlinewidth": 0,
             "ticks": ""
            },
            "type": "mesh3d"
           }
          ],
          "parcoords": [
           {
            "line": {
             "colorbar": {
              "outlinewidth": 0,
              "ticks": ""
             }
            },
            "type": "parcoords"
           }
          ],
          "pie": [
           {
            "automargin": true,
            "type": "pie"
           }
          ],
          "scatter": [
           {
            "marker": {
             "line": {
              "color": "#283442"
             }
            },
            "type": "scatter"
           }
          ],
          "scatter3d": [
           {
            "line": {
             "colorbar": {
              "outlinewidth": 0,
              "ticks": ""
             }
            },
            "marker": {
             "colorbar": {
              "outlinewidth": 0,
              "ticks": ""
             }
            },
            "type": "scatter3d"
           }
          ],
          "scattercarpet": [
           {
            "marker": {
             "colorbar": {
              "outlinewidth": 0,
              "ticks": ""
             }
            },
            "type": "scattercarpet"
           }
          ],
          "scattergeo": [
           {
            "marker": {
             "colorbar": {
              "outlinewidth": 0,
              "ticks": ""
             }
            },
            "type": "scattergeo"
           }
          ],
          "scattergl": [
           {
            "marker": {
             "line": {
              "color": "#283442"
             }
            },
            "type": "scattergl"
           }
          ],
          "scattermapbox": [
           {
            "marker": {
             "colorbar": {
              "outlinewidth": 0,
              "ticks": ""
             }
            },
            "type": "scattermapbox"
           }
          ],
          "scatterpolar": [
           {
            "marker": {
             "colorbar": {
              "outlinewidth": 0,
              "ticks": ""
             }
            },
            "type": "scatterpolar"
           }
          ],
          "scatterpolargl": [
           {
            "marker": {
             "colorbar": {
              "outlinewidth": 0,
              "ticks": ""
             }
            },
            "type": "scatterpolargl"
           }
          ],
          "scatterternary": [
           {
            "marker": {
             "colorbar": {
              "outlinewidth": 0,
              "ticks": ""
             }
            },
            "type": "scatterternary"
           }
          ],
          "surface": [
           {
            "colorbar": {
             "outlinewidth": 0,
             "ticks": ""
            },
            "colorscale": [
             [
              0,
              "#0d0887"
             ],
             [
              0.1111111111111111,
              "#46039f"
             ],
             [
              0.2222222222222222,
              "#7201a8"
             ],
             [
              0.3333333333333333,
              "#9c179e"
             ],
             [
              0.4444444444444444,
              "#bd3786"
             ],
             [
              0.5555555555555556,
              "#d8576b"
             ],
             [
              0.6666666666666666,
              "#ed7953"
             ],
             [
              0.7777777777777778,
              "#fb9f3a"
             ],
             [
              0.8888888888888888,
              "#fdca26"
             ],
             [
              1,
              "#f0f921"
             ]
            ],
            "type": "surface"
           }
          ],
          "table": [
           {
            "cells": {
             "fill": {
              "color": "#506784"
             },
             "line": {
              "color": "rgb(17,17,17)"
             }
            },
            "header": {
             "fill": {
              "color": "#2a3f5f"
             },
             "line": {
              "color": "rgb(17,17,17)"
             }
            },
            "type": "table"
           }
          ]
         },
         "layout": {
          "annotationdefaults": {
           "arrowcolor": "#f2f5fa",
           "arrowhead": 0,
           "arrowwidth": 1
          },
          "autotypenumbers": "strict",
          "coloraxis": {
           "colorbar": {
            "outlinewidth": 0,
            "ticks": ""
           }
          },
          "colorscale": {
           "diverging": [
            [
             0,
             "#8e0152"
            ],
            [
             0.1,
             "#c51b7d"
            ],
            [
             0.2,
             "#de77ae"
            ],
            [
             0.3,
             "#f1b6da"
            ],
            [
             0.4,
             "#fde0ef"
            ],
            [
             0.5,
             "#f7f7f7"
            ],
            [
             0.6,
             "#e6f5d0"
            ],
            [
             0.7,
             "#b8e186"
            ],
            [
             0.8,
             "#7fbc41"
            ],
            [
             0.9,
             "#4d9221"
            ],
            [
             1,
             "#276419"
            ]
           ],
           "sequential": [
            [
             0,
             "#0d0887"
            ],
            [
             0.1111111111111111,
             "#46039f"
            ],
            [
             0.2222222222222222,
             "#7201a8"
            ],
            [
             0.3333333333333333,
             "#9c179e"
            ],
            [
             0.4444444444444444,
             "#bd3786"
            ],
            [
             0.5555555555555556,
             "#d8576b"
            ],
            [
             0.6666666666666666,
             "#ed7953"
            ],
            [
             0.7777777777777778,
             "#fb9f3a"
            ],
            [
             0.8888888888888888,
             "#fdca26"
            ],
            [
             1,
             "#f0f921"
            ]
           ],
           "sequentialminus": [
            [
             0,
             "#0d0887"
            ],
            [
             0.1111111111111111,
             "#46039f"
            ],
            [
             0.2222222222222222,
             "#7201a8"
            ],
            [
             0.3333333333333333,
             "#9c179e"
            ],
            [
             0.4444444444444444,
             "#bd3786"
            ],
            [
             0.5555555555555556,
             "#d8576b"
            ],
            [
             0.6666666666666666,
             "#ed7953"
            ],
            [
             0.7777777777777778,
             "#fb9f3a"
            ],
            [
             0.8888888888888888,
             "#fdca26"
            ],
            [
             1,
             "#f0f921"
            ]
           ]
          },
          "colorway": [
           "#636efa",
           "#EF553B",
           "#00cc96",
           "#ab63fa",
           "#FFA15A",
           "#19d3f3",
           "#FF6692",
           "#B6E880",
           "#FF97FF",
           "#FECB52"
          ],
          "font": {
           "color": "#f2f5fa"
          },
          "geo": {
           "bgcolor": "rgb(17,17,17)",
           "lakecolor": "rgb(17,17,17)",
           "landcolor": "rgb(17,17,17)",
           "showlakes": true,
           "showland": true,
           "subunitcolor": "#506784"
          },
          "hoverlabel": {
           "align": "left"
          },
          "hovermode": "closest",
          "mapbox": {
           "style": "dark"
          },
          "paper_bgcolor": "rgb(17,17,17)",
          "plot_bgcolor": "rgb(17,17,17)",
          "polar": {
           "angularaxis": {
            "gridcolor": "#506784",
            "linecolor": "#506784",
            "ticks": ""
           },
           "bgcolor": "rgb(17,17,17)",
           "radialaxis": {
            "gridcolor": "#506784",
            "linecolor": "#506784",
            "ticks": ""
           }
          },
          "scene": {
           "xaxis": {
            "backgroundcolor": "rgb(17,17,17)",
            "gridcolor": "#506784",
            "gridwidth": 2,
            "linecolor": "#506784",
            "showbackground": true,
            "ticks": "",
            "zerolinecolor": "#C8D4E3"
           },
           "yaxis": {
            "backgroundcolor": "rgb(17,17,17)",
            "gridcolor": "#506784",
            "gridwidth": 2,
            "linecolor": "#506784",
            "showbackground": true,
            "ticks": "",
            "zerolinecolor": "#C8D4E3"
           },
           "zaxis": {
            "backgroundcolor": "rgb(17,17,17)",
            "gridcolor": "#506784",
            "gridwidth": 2,
            "linecolor": "#506784",
            "showbackground": true,
            "ticks": "",
            "zerolinecolor": "#C8D4E3"
           }
          },
          "shapedefaults": {
           "line": {
            "color": "#f2f5fa"
           }
          },
          "sliderdefaults": {
           "bgcolor": "#C8D4E3",
           "bordercolor": "rgb(17,17,17)",
           "borderwidth": 1,
           "tickwidth": 0
          },
          "ternary": {
           "aaxis": {
            "gridcolor": "#506784",
            "linecolor": "#506784",
            "ticks": ""
           },
           "baxis": {
            "gridcolor": "#506784",
            "linecolor": "#506784",
            "ticks": ""
           },
           "bgcolor": "rgb(17,17,17)",
           "caxis": {
            "gridcolor": "#506784",
            "linecolor": "#506784",
            "ticks": ""
           }
          },
          "title": {
           "x": 0.05
          },
          "updatemenudefaults": {
           "bgcolor": "#506784",
           "borderwidth": 0
          },
          "xaxis": {
           "automargin": true,
           "gridcolor": "#283442",
           "linecolor": "#506784",
           "ticks": "",
           "title": {
            "standoff": 15
           },
           "zerolinecolor": "#283442",
           "zerolinewidth": 2
          },
          "yaxis": {
           "automargin": true,
           "gridcolor": "#283442",
           "linecolor": "#506784",
           "ticks": "",
           "title": {
            "standoff": 15
           },
           "zerolinecolor": "#283442",
           "zerolinewidth": 2
          }
         }
        },
        "width": 500,
        "xaxis": {
         "anchor": "y",
         "domain": [
          0,
          1
         ],
         "title": {
          "text": "Daily Time Spent on Site"
         }
        },
        "yaxis": {
         "anchor": "x",
         "domain": [
          0,
          1
         ],
         "title": {
          "text": "Age"
         }
        }
       }
      }
     },
     "metadata": {},
     "output_type": "display_data"
    }
   ],
   "source": [
    "fig = px.scatter(df, x='Daily Time Spent on Site', y='Age', color='Clicked on Ad',\n",
    "                 template='plotly_dark', width=500, height=500)\n",
    "fig.show()"
   ]
  },
  {
   "cell_type": "code",
   "execution_count": 15,
   "metadata": {},
   "outputs": [
    {
     "data": {
      "application/vnd.plotly.v1+json": {
       "config": {
        "plotlyServerURL": "https://plot.ly"
       },
       "data": [
        {
         "hovertemplate": "Clicked on Ad=No<br>Daily Time Spent on Site=%{x}<br>Daily Internet Usage=%{y}<extra></extra>",
         "legendgroup": "No",
         "marker": {
          "color": "#636efa",
          "symbol": "circle"
         },
         "mode": "markers",
         "name": "No",
         "orientation": "v",
         "showlegend": true,
         "type": "scatter",
         "x": [
          68.95,
          80.23,
          69.47,
          74.15,
          68.37,
          59.99,
          88.91,
          74.53,
          69.88,
          83.07,
          79.52,
          82.03,
          77.22,
          84.59,
          87.29,
          null,
          76.02,
          67.64,
          86.41,
          84.37,
          65.82,
          84.98,
          64.24,
          82.52,
          81.38,
          80.47,
          69.62,
          85.4,
          73.18,
          79.94,
          80.6,
          77.63,
          85.61,
          85.84,
          72.08,
          null,
          62.42,
          75.74,
          69.01,
          64.1,
          82.73,
          78.11,
          73.46,
          70.79,
          77.51,
          70.03,
          72.84,
          79.71,
          63.6,
          89.91,
          68.18,
          66.49,
          80.49,
          72.23,
          74.02,
          71,
          69,
          76.99,
          86.19,
          49.58,
          77.65,
          79.57,
          89.05,
          70.41,
          67.36,
          75.7,
          71.89,
          75.8,
          83.86,
          83.67,
          69.08,
          58.18,
          null,
          65.4,
          79.52,
          87.98,
          80.46,
          76.32,
          82.68,
          72.01,
          75.83,
          86.06,
          86.69,
          71.84,
          80.23,
          74.41,
          71.74,
          72.04,
          85.86,
          67.58,
          85.56,
          77.95,
          77.2,
          78.57,
          73.41,
          77.05,
          66.4,
          69.35,
          70.04,
          69.78,
          76.9,
          84.08,
          76.81,
          76.87,
          81.98,
          77.88,
          75.83,
          89.15,
          70.68,
          76.06,
          66.67,
          65.65,
          73.27,
          85.84,
          85.03,
          70.44,
          81.22,
          76.7,
          84.54,
          81.03,
          null,
          83.47,
          74.65,
          84.04,
          72.44,
          79.15,
          73.04,
          76.28,
          68.88,
          73.1,
          87.3,
          89.34,
          81.37,
          81.67,
          71.76,
          75.15,
          82.87,
          84.71,
          81.61,
          71.55,
          82.4,
          73.95,
          72.07,
          80.39,
          65.8,
          69.97,
          84.79,
          82.7,
          84.88,
          76.56,
          69.74,
          72.19,
          84.29,
          75.84,
          73.38,
          80.72,
          90.97,
          86.78,
          66.18,
          84.33,
          76.84,
          67.05,
          80.71,
          80.09,
          79.36,
          86.38,
          87.26,
          75.32,
          74.38,
          65.9,
          88.12,
          83.97,
          65.77,
          81.58,
          76.2,
          74.49,
          73.71,
          78.19,
          79.54,
          87.09,
          83.4,
          79.72,
          null,
          72.45,
          77.07,
          74.62,
          82.07,
          79.44,
          73.19,
          77.6,
          89,
          81.11,
          80.22,
          77.66,
          74.63,
          80.59,
          83.49,
          68.1,
          78.83,
          79.97,
          80.51,
          62.26,
          71.05,
          76.24,
          77.29,
          84.95,
          87.23,
          81.58,
          78.68,
          68.82,
          86.63,
          72.92,
          77.14,
          60.7,
          83.71,
          81.99,
          84.69,
          88.72,
          88.89,
          85.23,
          83.55,
          56.39,
          76.24,
          78.18,
          79.4,
          73.72,
          73.93,
          77.69,
          80.67,
          83.42,
          66.17,
          80.05,
          79.82,
          74.88,
          88.04,
          65.65,
          67.69,
          78.37,
          81.46,
          75.15,
          78.76,
          57.11,
          83.26,
          69.42,
          83.97,
          76.56,
          80.29,
          59.88,
          81.59,
          81.1,
          73.94,
          79.81,
          66.17,
          80.47,
          77.05,
          79.36,
          70.29,
          84.53,
          81.51,
          84.81,
          79.16,
          79.91,
          66.14,
          59.61,
          89.37,
          79.53,
          91.43,
          73.57,
          78.76,
          76.49,
          61.72,
          84.53,
          72.03,
          77.47,
          75.65,
          78.15,
          76.59,
          78.77,
          83.4,
          79.53,
          73.89,
          75.8,
          81.95,
          72.53,
          79.67,
          75.42,
          78.64,
          59.52,
          62.26,
          79.97,
          80.38,
          64.51,
          71.28,
          72.76,
          72.8,
          81.21,
          66.89,
          68.11,
          78.6,
          78.29,
          77.31,
          73.15,
          82.07,
          77.25,
          74.84,
          83.53,
          78.36,
          69.5,
          65.22,
          75.19,
          76.21,
          67.76,
          68.41,
          74.54,
          81.75,
          87.85,
          87.97,
          78.17,
          85.77,
          73.94,
          63.43,
          84.59,
          70.13,
          91.1,
          74.06,
          81.29,
          76.07,
          75.92,
          78.35,
          66.04,
          84.31,
          83.66,
          81.25,
          85.26,
          86.53,
          null,
          85.24,
          74.71,
          82.95,
          76.42,
          81.37,
          75,
          79.61,
          77.89,
          89.21,
          77.44,
          82.58,
          87.85,
          78.01,
          76.83,
          76.27,
          74.27,
          73.27,
          74.58,
          77.5,
          87.16,
          87.16,
          68.25,
          73.49,
          80.15,
          null,
          73.88,
          58.6,
          77.65,
          76.02,
          78.84,
          81.9,
          69.96,
          87.35,
          71.27,
          85.01,
          68.95,
          75.71,
          48.22,
          76.76,
          78.74,
          67.47,
          81.17,
          89.66,
          79.6,
          65.53,
          61.87,
          83.16,
          83.91,
          79.8,
          82.37,
          70.9,
          71.9,
          54.35,
          77.75,
          70.61,
          82.72,
          76.87,
          65.07,
          75.81,
          72.94,
          85.54,
          71.14,
          64.38,
          88.85,
          72.18,
          80.55,
          80.46,
          82.69,
          74.07,
          85.62,
          56.56,
          75.64,
          79.22,
          77.05,
          66.83,
          76.2,
          83.89,
          79.89,
          84.25,
          74.18,
          85.78,
          80.96,
          81.98,
          79.6,
          82.3,
          79.09,
          68.47,
          83.69,
          83.48,
          68.72,
          63.11,
          78.24,
          74.61,
          89.18,
          88.82,
          70.39,
          78.58,
          81.56,
          82.8,
          78.51,
          83.17,
          68.25,
          81.32,
          76.64,
          74.06,
          86.58,
          90.75,
          67.71,
          82.41,
          76.79,
          70.05,
          72.19,
          77.35,
          68.68,
          81.75,
          66.03,
          79.18,
          86.81,
          70.92,
          81.45,
          76.65,
          69.86,
          85.37,
          80.99,
          78.84,
          84.76,
          80.64,
          75.94,
          87.18,
          75.24,
          87.46,
          87.14,
          78.79,
          65.56,
          81.05,
          72.55,
          null,
          80.53,
          80.94,
          78.41,
          83.98,
          60.83,
          89.8,
          72.82,
          51.65,
          69.95,
          79.83,
          85.35,
          78.67,
          70.09,
          60.75,
          65.07,
          68.01,
          80.87,
          71.4,
          70.29,
          76.58,
          82.79,
          66.47,
          76.44,
          89.71,
          70.96,
          64.2,
          55.55
         ],
         "xaxis": "x",
         "y": [
          256.09,
          193.77,
          236.5,
          245.89,
          225.58,
          226.74,
          208.36,
          221.51,
          183.82,
          230.87,
          214.23,
          187.53,
          224.44,
          226.54,
          209.93,
          204.79,
          209.82,
          267.01,
          207.48,
          201.58,
          221.94,
          202.61,
          252.36,
          198.11,
          212.3,
          204.86,
          202.25,
          198.72,
          196.71,
          225.29,
          177.55,
          239.22,
          183.43,
          192.93,
          169.5,
          null,
          198.5,
          215.25,
          222.63,
          215.93,
          238.99,
          209.25,
          222.75,
          184.1,
          200.55,
          227.72,
          238.63,
          null,
          235.28,
          194.23,
          218.17,
          202.16,
          229.12,
          241.03,
          210.54,
          211.87,
          221.21,
          244.34,
          210.26,
          231.94,
          212.79,
          230.93,
          206.98,
          223.03,
          233.56,
          215.44,
          172.81,
          146.19,
          190.25,
          234.26,
          210.6,
          176.28,
          172.1,
          247.31,
          183.48,
          222.11,
          null,
          195.31,
          222.77,
          251,
          162.44,
          219.72,
          198.56,
          199.79,
          196.23,
          163.05,
          227.56,
          199.43,
          208.23,
          255.61,
          210.46,
          233.65,
          254.05,
          239.32,
          201.26,
          191.14,
          214.42,
          252.77,
          183.85,
          218.79,
          212.67,
          187.36,
          217.85,
          235.35,
          229.22,
          254.57,
          200.59,
          171.07,
          199.08,
          201.04,
          228.03,
          158.05,
          234.75,
          192.85,
          204.52,
          178.75,
          223.09,
          222.25,
          204.02,
          201.15,
          231.42,
          226.11,
          212.56,
          244.55,
          230.14,
          203.23,
          221.79,
          254.34,
          179.58,
          242.37,
          216.87,
          177.78,
          156.48,
          196.76,
          237.39,
          212.87,
          213.36,
          210.23,
          228.76,
          163.99,
          218.97,
          238.58,
          226.45,
          214.74,
          231.49,
          250,
          214.53,
          231.07,
          186.48,
          221.53,
          243.37,
          250.35,
          232.54,
          186.98,
          236.19,
          186.37,
          180.77,
          170.13,
          243.61,
          240.95,
          231.59,
          220.92,
          200.58,
          214.08,
          245.78,
          188.27,
          184.03,
          233.6,
          220.05,
          211.39,
          230.91,
          205.5,
          218.61,
          199.39,
          178.51,
          237.34,
          211.38,
          228.81,
          217.68,
          221.98,
          207.87,
          193.8,
          231.48,
          195.36,
          261.02,
          217.79,
          205.38,
          206.79,
          203.74,
          197.33,
          222.26,
          248.19,
          224.58,
          168.15,
          235.99,
          224.23,
          190.75,
          227.73,
          234.64,
          216,
          200.28,
          202.77,
          204.22,
          198.32,
          201.24,
          230.36,
          202.12,
          248.16,
          208.05,
          205.64,
          209.64,
          217.1,
          184.88,
          192.6,
          220.48,
          230.9,
          231.85,
          211.87,
          218.8,
          212.92,
          221.18,
          248.12,
          214.42,
          167.67,
          236.87,
          256.4,
          218.22,
          169.88,
          239.76,
          183.42,
          238.45,
          219.94,
          223.28,
          175.17,
          191.17,
          224.92,
          216.57,
          207.27,
          231.54,
          219.49,
          219.98,
          207.17,
          187.76,
          213.38,
          158.42,
          213.75,
          244.87,
          193.63,
          223.16,
          216.49,
          173.49,
          253.17,
          228.7,
          215.18,
          236.64,
          234.72,
          231.37,
          215.18,
          250.03,
          233.93,
          202.9,
          230.18,
          165.27,
          198.45,
          162.03,
          244.91,
          209.91,
          212.38,
          208.02,
          181.11,
          218.49,
          236.29,
          230.95,
          222.91,
          247.9,
          194.37,
          211.64,
          211.83,
          235.01,
          236.72,
          229.99,
          224.9,
          208.76,
          223.93,
          226.79,
          164.25,
          235.28,
          251.08,
          166.19,
          185.45,
          238.06,
          190.71,
          246.72,
          240.63,
          249.54,
          233.04,
          208.24,
          231.21,
          254.59,
          252.07,
          238.1,
          211.12,
          193.97,
          231.38,
          246.44,
          204.56,
          196.77,
          203.84,
          240.09,
          245.76,
          228.94,
          242.59,
          259.76,
          null,
          190.08,
          210.27,
          149.25,
          192.27,
          191.78,
          236.15,
          236.75,
          241.8,
          224.98,
          198.13,
          225.99,
          219.72,
          235.56,
          182.65,
          253.48,
          199.76,
          225.87,
          175.14,
          222.35,
          224.07,
          null,
          224.2,
          182.84,
          258.06,
          201.29,
          223.16,
          215.04,
          230.36,
          235.97,
          201.54,
          210.53,
          210.39,
          225.23,
          153.01,
          200.71,
          192.81,
          226.69,
          247.05,
          216.24,
          230.52,
          225.34,
          197.15,
          231.95,
          198.86,
          244.23,
          214.49,
          189.91,
          233.61,
          197.93,
          208.01,
          219.55,
          217.66,
          225.47,
          214.06,
          158.29,
          216.03,
          192.5,
          185.85,
          246.06,
          214.33,
          230.77,
          234.75,
          225.05,
          231.91,
          171.23,
          227.37,
          190.17,
          250.2,
          194.95,
          222.87,
          229.88,
          null,
          190.95,
          193.29,
          164.02,
          240.64,
          190.12,
          179.82,
          212.59,
          227.53,
          229.19,
          190.84,
          175.43,
          224.82,
          180.47,
          213.96,
          225.02,
          219.91,
          230.78,
          167.41,
          165.43,
          195.68,
          204.47,
          204.82,
          198.79,
          236.08,
          196.17,
          228.81,
          180.88,
          241.38,
          170.9,
          203.87,
          232.78,
          225,
          212.88,
          194.23,
          232.21,
          209.72,
          226.64,
          192.57,
          222.72,
          225.97,
          254.94,
          199.29,
          231.28,
          224.01,
          169.1,
          261.52,
          250.11,
          213.7,
          223.2,
          205.71,
          244.4,
          220.08,
          165.65,
          241.5,
          246.29,
          195.93,
          216.5,
          225.76,
          222.08,
          235.94,
          203.44,
          250.32,
          167.26,
          187.03,
          249.45,
          217.37,
          236.96,
          199.62,
          249.81,
          205.84,
          238.43,
          241.36,
          194.56,
          207.53,
          235.29,
          178.69,
          221.59,
          236.96,
          193.6,
          226.49,
          211.56,
          199.4,
          215.29,
          181.25,
          245.5,
          null,
          184.98,
          187.64,
          239.94,
          248.23,
          194.62,
          185.46,
          198.24,
          191.82,
          249.99,
          247.01,
          234.23,
          161.42,
          195.56,
          211.17,
          247.05,
          233.85,
          188.32,
          203.3,
          166.31,
          254.65,
          258.26,
          234.81,
          256.39,
          232.68,
          204.4,
          256.4,
          227.63,
          187.95
         ],
         "yaxis": "y"
        },
        {
         "hovertemplate": "Clicked on Ad=Yes<br>Daily Time Spent on Site=%{x}<br>Daily Internet Usage=%{y}<extra></extra>",
         "legendgroup": "Yes",
         "marker": {
          "color": "#EF553B",
          "symbol": "circle"
         },
         "mode": "markers",
         "name": "Yes",
         "orientation": "v",
         "showlegend": true,
         "type": "scatter",
         "x": [
          66,
          47.64,
          69.57,
          42.95,
          63.45,
          55.39,
          54.7,
          74.58,
          41.49,
          41.39,
          48.53,
          51.95,
          70.2,
          59.05,
          55.6,
          57.64,
          62.26,
          50.43,
          null,
          37.68,
          44.33,
          48.01,
          33.33,
          50.33,
          62.31,
          65.19,
          44.98,
          41.82,
          45.96,
          63.89,
          35.33,
          78.53,
          46.13,
          55.35,
          33.21,
          38.46,
          49.81,
          56.14,
          55.13,
          56.64,
          68.94,
          57.76,
          52.7,
          57.7,
          56.89,
          69.9,
          55.79,
          50.08,
          43.67,
          45.72,
          39.94,
          35.61,
          41.49,
          42.39,
          47.53,
          null,
          63.24,
          46.13,
          72.6,
          61.88,
          84.45,
          88.97,
          37.75,
          62.33,
          80.31,
          46.98,
          41.67,
          51.24,
          43.49,
          49.89,
          38.37,
          38.52,
          37.51,
          55.6,
          37.47,
          56.04,
          70.92,
          49.78,
          68.61,
          37,
          44.64,
          41.73,
          75.55,
          41.28,
          34.66,
          66.18,
          59.59,
          43.77,
          63.36,
          60.72,
          44.57,
          39.85,
          84.53,
          62.95,
          46.88,
          46.31,
          84.73,
          39.86,
          50.08,
          60.23,
          60.7,
          43.67,
          71.86,
          44.78,
          35.65,
          58.22,
          59.51,
          40.15,
          41.89,
          67.28,
          66.01,
          61.57,
          53.3,
          34.87,
          43.6,
          49.95,
          60.94,
          78.7,
          57.35,
          34.86,
          46.77,
          62.42,
          78.32,
          37.32,
          40.42,
          76.77,
          74.32,
          80.03,
          53.68,
          39.96,
          57.05,
          42.44,
          62.2,
          61.22,
          46.08,
          56.7,
          40.06,
          73.84,
          60.25,
          59.21,
          43.02,
          70.66,
          70.58,
          40.17,
          44.49,
          47.66,
          46.37,
          54.88,
          40.67,
          47.51,
          56.01,
          45.05,
          60.53,
          50.52,
          55.2,
          52.62,
          39.25,
          77.56,
          33.52,
          79.81,
          54.92,
          75.55,
          73.89,
          62.06,
          51.5,
          36.87,
          34.78,
          41.47,
          56.3,
          38.94,
          36.31,
          72.23,
          61.09,
          37.87,
          60.91,
          74.87,
          37.45,
          49.84,
          51.38,
          38.91,
          62.14,
          73.3,
          71.9,
          58.6,
          36.08,
          41.73,
          69.2,
          67.56,
          43.63,
          49.67,
          44.46,
          63.88,
          66.99,
          42.05,
          50.52,
          35.98,
          39.34,
          57.24,
          56.34,
          48.73,
          51.68,
          35.34,
          48.09,
          56.99,
          41.18,
          71.03,
          34.3,
          53.38,
          58.03,
          43.59,
          60.07,
          54.43,
          60.53,
          69.58,
          56.66,
          57.64,
          46.04,
          36.44,
          53.14,
          32.84,
          38.1,
          51.87,
          43.41,
          55.92,
          82.12,
          43.01,
          64.88,
          48.03,
          32.99,
          36.49,
          45.7,
          82.38,
          52.68,
          65.59,
          43.84,
          47.48,
          44.96,
          39.56,
          39.76,
          50.6,
          46.2,
          66.88,
          35.49,
          50.19,
          59.12,
          59.7,
          67.8,
          41.7,
          58.35,
          51.56,
          58.21,
          66.12,
          49.99,
          80.3,
          57.86,
          59.13,
          42.94,
          82.79,
          59.22,
          35,
          46.61,
          63.26,
          67.94,
          43.65,
          46.61,
          65.1,
          53.44,
          63.8,
          42.6,
          56.39,
          44.73,
          38.35,
          56.2,
          67.69,
          38.35,
          64.75,
          47.9,
          50.32,
          74.59,
          46.66,
          48.86,
          37.05,
          69.15,
          65.72,
          40.04,
          68.6,
          56.16,
          43.83,
          39.86,
          66.77,
          57.2,
          49.84,
          43.97,
          38.63,
          84,
          52.13,
          71.83,
          50.18,
          64.67,
          62.06,
          84.29,
          32.91,
          39.5,
          40.01,
          52.7,
          35.55,
          60.23,
          67.91,
          41.16,
          53.54,
          40.19,
          58.95,
          35.76,
          59.36,
          61.04,
          64.63,
          46.14,
          44.33,
          46.43,
          52.84,
          42.04,
          46.28,
          48.26,
          71.03,
          58.05,
          52.56,
          62.18,
          66.08,
          49.96,
          39.36,
          47.23,
          65.57,
          44.15,
          43.57,
          42.06,
          66.26,
          65.15,
          39.19,
          69.77,
          87.27,
          71.33,
          46.89,
          77.8,
          45.44,
          49.42,
          49.19,
          39.96,
          67.59,
          43.07,
          39.47,
          44.11,
          56.57,
          71.23,
          47.23,
          43.63,
          null,
          67.35,
          57.99,
          66.8,
          49.13,
          45.11,
          61.82,
          56.93,
          48.86,
          36.56,
          85.73,
          53.63,
          52.35,
          52.84,
          51.58,
          42.32,
          55.04,
          68.58,
          66.79,
          32.6,
          43.88,
          56.46,
          52.67,
          67.85,
          75.55,
          35.21,
          36.37,
          59.96,
          40.88,
          36.98,
          35.49,
          36.62,
          49.35,
          56.64,
          53.33,
          50.63,
          41.84,
          53.92,
          55.32,
          53.22,
          43.16,
          67.51,
          43.16,
          36.91,
          54.47,
          57.51,
          73.21,
          43.49,
          66.69,
          48.46,
          42.51,
          42.83,
          41.46,
          45.99,
          49.21,
          55.77,
          44.13,
          57.82,
          72.46,
          61.88,
          44.16,
          55.74,
          59.05,
          35.11,
          60.39,
          75.03,
          50.87,
          37.65,
          91.37,
          39.53,
          45.82,
          40.34,
          67.39,
          null,
          41.53,
          46.84,
          44.4,
          52.17,
          54.08,
          54.39,
          37.74,
          77.36,
          55.46,
          35.66,
          50.78,
          40.47,
          45.62,
          37.01,
          56.91,
          42.84,
          67.56,
          34.96,
          41.86,
          34.04,
          54.96,
          55.71,
          45.48,
          47,
          59.64,
          35.98,
          82.49,
          61.76,
          63.3,
          36.73,
          63.18,
          50.6,
          32.6,
          44.72,
          78.76,
          79.51,
          39.3,
          64.79,
          38.65,
          59.01,
          78.96,
          63.99,
          41.35,
          62.79,
          45.53,
          54.55,
          35.66,
          56.78,
          35.25,
          37.58,
          45.08,
          63.04,
          40.18,
          45.17,
          50.48,
          41.88,
          39.87,
          61.84,
          54.97,
          67.26,
          54.37,
          72.88,
          63.37,
          35.79,
          38.96,
          69.17,
          43.7,
          72.97,
          51.3,
          null,
          45.01
         ],
         "xaxis": "x",
         "y": [
          131.76,
          122.02,
          113.12,
          143.56,
          140.64,
          129.41,
          null,
          135.51,
          164.83,
          167.22,
          134.14,
          129.23,
          119.2,
          169.23,
          212.58,
          133.81,
          125.45,
          119.32,
          162.08,
          172.83,
          123.72,
          119.93,
          193.58,
          133.2,
          119.3,
          150.61,
          129.31,
          156.36,
          141.22,
          105.22,
          200.22,
          131.72,
          139.01,
          153.17,
          167.07,
          145.98,
          120.06,
          113.53,
          111.71,
          115.91,
          138.71,
          105.15,
          118.6,
          109.07,
          109.29,
          138.35,
          149.67,
          125.85,
          166.29,
          154.02,
          156.3,
          158.22,
          169.18,
          150.99,
          135.18,
          176.98,
          235.78,
          123.64,
          162.95,
          112.19,
          207.18,
          152.49,
          225.24,
          127.11,
          127.07,
          175.37,
          132.55,
          176.73,
          127.83,
          160.03,
          140.46,
          137.28,
          163,
          124.38,
          141.89,
          128.95,
          108.16,
          152.24,
          150.29,
          158.22,
          127.01,
          202.18,
          159.24,
          140.39,
          194.83,
          143.42,
          104.78,
          138.55,
          137.43,
          105.69,
          133.17,
          145.96,
          168.34,
          157.04,
          136.64,
          153.98,
          153.76,
          145.85,
          123.91,
          106.86,
          110.57,
          143.79,
          116.53,
          137.24,
          172.58,
          120.9,
          140.83,
          134.88,
          163.38,
          155.8,
          151.95,
          125.94,
          111.94,
          200.23,
          170.49,
          136.59,
          154.97,
          133.99,
          119.84,
          154.75,
          136.4,
          143.94,
          239.52,
          199.25,
          133.9,
          123.51,
          128.17,
          150.84,
          115.26,
          146.13,
          null,
          168.27,
          161.16,
          119.03,
          164.63,
          123.13,
          138.68,
          121.05,
          109.77,
          144.62,
          125.22,
          120.95,
          136.94,
          171.31,
          168,
          156.54,
          144.27,
          148.61,
          133.18,
          130.41,
          127.26,
          141.36,
          167.22,
          171.62,
          159.46,
          176.52,
          152.36,
          130.83,
          165.56,
          178.85,
          161.16,
          169.4,
          110.68,
          105,
          135.31,
          195.91,
          208.21,
          219.79,
          135.24,
          142.67,
          168.92,
          115.35,
          131.68,
          188.56,
          184.94,
          126.97,
          167.86,
          111.59,
          158.56,
          150.8,
          110.93,
          135.72,
          140.15,
          113.7,
          151.47,
          144.71,
          123.8,
          125.45,
          123.25,
          153.69,
          132.66,
          136.85,
          124.44,
          174.55,
          219.69,
          165.52,
          148.93,
          117.35,
          139.02,
          142.04,
          258.62,
          152.86,
          180.42,
          108.15,
          129.25,
          120.85,
          160.74,
          120.06,
          129.33,
          132.31,
          120.75,
          154.74,
          123.28,
          255.07,
          139.42,
          110.25,
          147.92,
          147.64,
          109,
          171.72,
          214.38,
          119.65,
          160.73,
          145.08,
          201.15,
          127.37,
          129.8,
          134.6,
          177.46,
          196.61,
          151.12,
          159.6,
          149.2,
          121.81,
          167.42,
          141.34,
          132.71,
          143.13,
          196.83,
          129.88,
          119.3,
          119.47,
          159.77,
          117.3,
          null,
          120.25,
          117.75,
          126.95,
          132.63,
          124.85,
          105.94,
          113.8,
          121.07,
          173.43,
          166.86,
          106.04,
          130.4,
          132.08,
          126.39,
          151.25,
          136.18,
          120.46,
          128.16,
          138.87,
          156.99,
          118.1,
          108.17,
          108.7,
          168.29,
          154.23,
          127.56,
          145.48,
          114.85,
          109.22,
          144.69,
          117.66,
          114.53,
          125.65,
          158.35,
          118.16,
          134.46,
          142.81,
          112.72,
          120.12,
          161.58,
          135.08,
          164.25,
          129.01,
          161.24,
          141.13,
          110.66,
          135.24,
          156.97,
          222.11,
          136.21,
          118.27,
          135.48,
          127.82,
          138.35,
          116.27,
          160.33,
          181.02,
          148.19,
          161.77,
          109.34,
          151.18,
          151.54,
          146.8,
          150.83,
          108.03,
          136.99,
          131.29,
          195.07,
          110.84,
          149.21,
          158.8,
          137.97,
          120.63,
          137.2,
          122.31,
          182.11,
          228.78,
          122.45,
          150.77,
          195.54,
          250.36,
          126.44,
          184.23,
          151.94,
          161.79,
          149.8,
          130.86,
          141.96,
          125.2,
          131.55,
          179.04,
          117.3,
          173.05,
          132.27,
          204.27,
          169.4,
          176.78,
          152.94,
          119.27,
          128,
          123.08,
          138.52,
          113.69,
          137.63,
          163.48,
          121.24,
          131.98,
          122.59,
          210.87,
          135.25,
          105.86,
          118.69,
          124.58,
          248.51,
          120.49,
          195.69,
          151.93,
          111.8,
          128.37,
          195.89,
          147.75,
          126.29,
          147.61,
          121.57,
          115.91,
          187.09,
          106.96,
          171.54,
          198.3,
          185.47,
          166.85,
          151.63,
          191.26,
          202.7,
          123.71,
          154,
          144.53,
          197.66,
          136.18,
          167.87,
          170.04,
          162.44,
          119.86,
          123.24,
          111.63,
          142.23,
          139.32,
          125.46,
          127.65,
          108.85,
          156.11,
          127.2,
          143.04,
          159.69,
          141.52,
          105.71,
          252.6,
          124.67,
          108.27,
          132.38,
          144.77,
          132.38,
          128.98,
          124.61,
          115.6,
          117.33,
          128.48,
          107.56,
          113.53,
          108.18,
          133.42,
          124.34,
          118.45,
          158.03,
          108.25,
          255.57,
          190.41,
          161.29,
          182.65,
          142.21,
          171.24,
          173.75,
          107.19,
          154.93,
          158.81,
          123.22,
          140.95,
          115.37,
          111.02,
          171.9,
          190.95,
          115.79,
          108.1,
          151.72,
          122.04,
          203.9,
          121.28,
          216.01,
          146.44,
          182.2,
          109.98,
          160.49,
          128.62,
          174.88,
          113.75,
          112.52,
          129.16,
          149.53,
          153.12,
          150.79,
          130.84,
          114.69,
          116.19,
          149.79,
          107.92,
          135.67,
          190.05,
          123.86,
          162.05,
          125.11,
          145.73,
          116.07,
          154.77,
          178.75,
          193.15,
          138.46,
          162.46,
          231.87,
          141.58,
          109.04,
          172.57,
          124.32,
          194.44,
          176.7,
          125.27,
          159.05,
          151.96,
          132.07,
          162.43,
          126.11,
          139.34,
          105.63,
          116.38,
          168.41,
          140.77,
          125.12,
          105.04,
          165.62,
          null,
          123.62,
          173.01,
          208.58,
          134.42,
          120.37,
          178.35
         ],
         "yaxis": "y"
        }
       ],
       "layout": {
        "height": 500,
        "legend": {
         "title": {
          "text": "Clicked on Ad"
         },
         "tracegroupgap": 0
        },
        "margin": {
         "t": 60
        },
        "template": {
         "data": {
          "bar": [
           {
            "error_x": {
             "color": "#f2f5fa"
            },
            "error_y": {
             "color": "#f2f5fa"
            },
            "marker": {
             "line": {
              "color": "rgb(17,17,17)",
              "width": 0.5
             },
             "pattern": {
              "fillmode": "overlay",
              "size": 10,
              "solidity": 0.2
             }
            },
            "type": "bar"
           }
          ],
          "barpolar": [
           {
            "marker": {
             "line": {
              "color": "rgb(17,17,17)",
              "width": 0.5
             },
             "pattern": {
              "fillmode": "overlay",
              "size": 10,
              "solidity": 0.2
             }
            },
            "type": "barpolar"
           }
          ],
          "carpet": [
           {
            "aaxis": {
             "endlinecolor": "#A2B1C6",
             "gridcolor": "#506784",
             "linecolor": "#506784",
             "minorgridcolor": "#506784",
             "startlinecolor": "#A2B1C6"
            },
            "baxis": {
             "endlinecolor": "#A2B1C6",
             "gridcolor": "#506784",
             "linecolor": "#506784",
             "minorgridcolor": "#506784",
             "startlinecolor": "#A2B1C6"
            },
            "type": "carpet"
           }
          ],
          "choropleth": [
           {
            "colorbar": {
             "outlinewidth": 0,
             "ticks": ""
            },
            "type": "choropleth"
           }
          ],
          "contour": [
           {
            "colorbar": {
             "outlinewidth": 0,
             "ticks": ""
            },
            "colorscale": [
             [
              0,
              "#0d0887"
             ],
             [
              0.1111111111111111,
              "#46039f"
             ],
             [
              0.2222222222222222,
              "#7201a8"
             ],
             [
              0.3333333333333333,
              "#9c179e"
             ],
             [
              0.4444444444444444,
              "#bd3786"
             ],
             [
              0.5555555555555556,
              "#d8576b"
             ],
             [
              0.6666666666666666,
              "#ed7953"
             ],
             [
              0.7777777777777778,
              "#fb9f3a"
             ],
             [
              0.8888888888888888,
              "#fdca26"
             ],
             [
              1,
              "#f0f921"
             ]
            ],
            "type": "contour"
           }
          ],
          "contourcarpet": [
           {
            "colorbar": {
             "outlinewidth": 0,
             "ticks": ""
            },
            "type": "contourcarpet"
           }
          ],
          "heatmap": [
           {
            "colorbar": {
             "outlinewidth": 0,
             "ticks": ""
            },
            "colorscale": [
             [
              0,
              "#0d0887"
             ],
             [
              0.1111111111111111,
              "#46039f"
             ],
             [
              0.2222222222222222,
              "#7201a8"
             ],
             [
              0.3333333333333333,
              "#9c179e"
             ],
             [
              0.4444444444444444,
              "#bd3786"
             ],
             [
              0.5555555555555556,
              "#d8576b"
             ],
             [
              0.6666666666666666,
              "#ed7953"
             ],
             [
              0.7777777777777778,
              "#fb9f3a"
             ],
             [
              0.8888888888888888,
              "#fdca26"
             ],
             [
              1,
              "#f0f921"
             ]
            ],
            "type": "heatmap"
           }
          ],
          "heatmapgl": [
           {
            "colorbar": {
             "outlinewidth": 0,
             "ticks": ""
            },
            "colorscale": [
             [
              0,
              "#0d0887"
             ],
             [
              0.1111111111111111,
              "#46039f"
             ],
             [
              0.2222222222222222,
              "#7201a8"
             ],
             [
              0.3333333333333333,
              "#9c179e"
             ],
             [
              0.4444444444444444,
              "#bd3786"
             ],
             [
              0.5555555555555556,
              "#d8576b"
             ],
             [
              0.6666666666666666,
              "#ed7953"
             ],
             [
              0.7777777777777778,
              "#fb9f3a"
             ],
             [
              0.8888888888888888,
              "#fdca26"
             ],
             [
              1,
              "#f0f921"
             ]
            ],
            "type": "heatmapgl"
           }
          ],
          "histogram": [
           {
            "marker": {
             "pattern": {
              "fillmode": "overlay",
              "size": 10,
              "solidity": 0.2
             }
            },
            "type": "histogram"
           }
          ],
          "histogram2d": [
           {
            "colorbar": {
             "outlinewidth": 0,
             "ticks": ""
            },
            "colorscale": [
             [
              0,
              "#0d0887"
             ],
             [
              0.1111111111111111,
              "#46039f"
             ],
             [
              0.2222222222222222,
              "#7201a8"
             ],
             [
              0.3333333333333333,
              "#9c179e"
             ],
             [
              0.4444444444444444,
              "#bd3786"
             ],
             [
              0.5555555555555556,
              "#d8576b"
             ],
             [
              0.6666666666666666,
              "#ed7953"
             ],
             [
              0.7777777777777778,
              "#fb9f3a"
             ],
             [
              0.8888888888888888,
              "#fdca26"
             ],
             [
              1,
              "#f0f921"
             ]
            ],
            "type": "histogram2d"
           }
          ],
          "histogram2dcontour": [
           {
            "colorbar": {
             "outlinewidth": 0,
             "ticks": ""
            },
            "colorscale": [
             [
              0,
              "#0d0887"
             ],
             [
              0.1111111111111111,
              "#46039f"
             ],
             [
              0.2222222222222222,
              "#7201a8"
             ],
             [
              0.3333333333333333,
              "#9c179e"
             ],
             [
              0.4444444444444444,
              "#bd3786"
             ],
             [
              0.5555555555555556,
              "#d8576b"
             ],
             [
              0.6666666666666666,
              "#ed7953"
             ],
             [
              0.7777777777777778,
              "#fb9f3a"
             ],
             [
              0.8888888888888888,
              "#fdca26"
             ],
             [
              1,
              "#f0f921"
             ]
            ],
            "type": "histogram2dcontour"
           }
          ],
          "mesh3d": [
           {
            "colorbar": {
             "outlinewidth": 0,
             "ticks": ""
            },
            "type": "mesh3d"
           }
          ],
          "parcoords": [
           {
            "line": {
             "colorbar": {
              "outlinewidth": 0,
              "ticks": ""
             }
            },
            "type": "parcoords"
           }
          ],
          "pie": [
           {
            "automargin": true,
            "type": "pie"
           }
          ],
          "scatter": [
           {
            "marker": {
             "line": {
              "color": "#283442"
             }
            },
            "type": "scatter"
           }
          ],
          "scatter3d": [
           {
            "line": {
             "colorbar": {
              "outlinewidth": 0,
              "ticks": ""
             }
            },
            "marker": {
             "colorbar": {
              "outlinewidth": 0,
              "ticks": ""
             }
            },
            "type": "scatter3d"
           }
          ],
          "scattercarpet": [
           {
            "marker": {
             "colorbar": {
              "outlinewidth": 0,
              "ticks": ""
             }
            },
            "type": "scattercarpet"
           }
          ],
          "scattergeo": [
           {
            "marker": {
             "colorbar": {
              "outlinewidth": 0,
              "ticks": ""
             }
            },
            "type": "scattergeo"
           }
          ],
          "scattergl": [
           {
            "marker": {
             "line": {
              "color": "#283442"
             }
            },
            "type": "scattergl"
           }
          ],
          "scattermapbox": [
           {
            "marker": {
             "colorbar": {
              "outlinewidth": 0,
              "ticks": ""
             }
            },
            "type": "scattermapbox"
           }
          ],
          "scatterpolar": [
           {
            "marker": {
             "colorbar": {
              "outlinewidth": 0,
              "ticks": ""
             }
            },
            "type": "scatterpolar"
           }
          ],
          "scatterpolargl": [
           {
            "marker": {
             "colorbar": {
              "outlinewidth": 0,
              "ticks": ""
             }
            },
            "type": "scatterpolargl"
           }
          ],
          "scatterternary": [
           {
            "marker": {
             "colorbar": {
              "outlinewidth": 0,
              "ticks": ""
             }
            },
            "type": "scatterternary"
           }
          ],
          "surface": [
           {
            "colorbar": {
             "outlinewidth": 0,
             "ticks": ""
            },
            "colorscale": [
             [
              0,
              "#0d0887"
             ],
             [
              0.1111111111111111,
              "#46039f"
             ],
             [
              0.2222222222222222,
              "#7201a8"
             ],
             [
              0.3333333333333333,
              "#9c179e"
             ],
             [
              0.4444444444444444,
              "#bd3786"
             ],
             [
              0.5555555555555556,
              "#d8576b"
             ],
             [
              0.6666666666666666,
              "#ed7953"
             ],
             [
              0.7777777777777778,
              "#fb9f3a"
             ],
             [
              0.8888888888888888,
              "#fdca26"
             ],
             [
              1,
              "#f0f921"
             ]
            ],
            "type": "surface"
           }
          ],
          "table": [
           {
            "cells": {
             "fill": {
              "color": "#506784"
             },
             "line": {
              "color": "rgb(17,17,17)"
             }
            },
            "header": {
             "fill": {
              "color": "#2a3f5f"
             },
             "line": {
              "color": "rgb(17,17,17)"
             }
            },
            "type": "table"
           }
          ]
         },
         "layout": {
          "annotationdefaults": {
           "arrowcolor": "#f2f5fa",
           "arrowhead": 0,
           "arrowwidth": 1
          },
          "autotypenumbers": "strict",
          "coloraxis": {
           "colorbar": {
            "outlinewidth": 0,
            "ticks": ""
           }
          },
          "colorscale": {
           "diverging": [
            [
             0,
             "#8e0152"
            ],
            [
             0.1,
             "#c51b7d"
            ],
            [
             0.2,
             "#de77ae"
            ],
            [
             0.3,
             "#f1b6da"
            ],
            [
             0.4,
             "#fde0ef"
            ],
            [
             0.5,
             "#f7f7f7"
            ],
            [
             0.6,
             "#e6f5d0"
            ],
            [
             0.7,
             "#b8e186"
            ],
            [
             0.8,
             "#7fbc41"
            ],
            [
             0.9,
             "#4d9221"
            ],
            [
             1,
             "#276419"
            ]
           ],
           "sequential": [
            [
             0,
             "#0d0887"
            ],
            [
             0.1111111111111111,
             "#46039f"
            ],
            [
             0.2222222222222222,
             "#7201a8"
            ],
            [
             0.3333333333333333,
             "#9c179e"
            ],
            [
             0.4444444444444444,
             "#bd3786"
            ],
            [
             0.5555555555555556,
             "#d8576b"
            ],
            [
             0.6666666666666666,
             "#ed7953"
            ],
            [
             0.7777777777777778,
             "#fb9f3a"
            ],
            [
             0.8888888888888888,
             "#fdca26"
            ],
            [
             1,
             "#f0f921"
            ]
           ],
           "sequentialminus": [
            [
             0,
             "#0d0887"
            ],
            [
             0.1111111111111111,
             "#46039f"
            ],
            [
             0.2222222222222222,
             "#7201a8"
            ],
            [
             0.3333333333333333,
             "#9c179e"
            ],
            [
             0.4444444444444444,
             "#bd3786"
            ],
            [
             0.5555555555555556,
             "#d8576b"
            ],
            [
             0.6666666666666666,
             "#ed7953"
            ],
            [
             0.7777777777777778,
             "#fb9f3a"
            ],
            [
             0.8888888888888888,
             "#fdca26"
            ],
            [
             1,
             "#f0f921"
            ]
           ]
          },
          "colorway": [
           "#636efa",
           "#EF553B",
           "#00cc96",
           "#ab63fa",
           "#FFA15A",
           "#19d3f3",
           "#FF6692",
           "#B6E880",
           "#FF97FF",
           "#FECB52"
          ],
          "font": {
           "color": "#f2f5fa"
          },
          "geo": {
           "bgcolor": "rgb(17,17,17)",
           "lakecolor": "rgb(17,17,17)",
           "landcolor": "rgb(17,17,17)",
           "showlakes": true,
           "showland": true,
           "subunitcolor": "#506784"
          },
          "hoverlabel": {
           "align": "left"
          },
          "hovermode": "closest",
          "mapbox": {
           "style": "dark"
          },
          "paper_bgcolor": "rgb(17,17,17)",
          "plot_bgcolor": "rgb(17,17,17)",
          "polar": {
           "angularaxis": {
            "gridcolor": "#506784",
            "linecolor": "#506784",
            "ticks": ""
           },
           "bgcolor": "rgb(17,17,17)",
           "radialaxis": {
            "gridcolor": "#506784",
            "linecolor": "#506784",
            "ticks": ""
           }
          },
          "scene": {
           "xaxis": {
            "backgroundcolor": "rgb(17,17,17)",
            "gridcolor": "#506784",
            "gridwidth": 2,
            "linecolor": "#506784",
            "showbackground": true,
            "ticks": "",
            "zerolinecolor": "#C8D4E3"
           },
           "yaxis": {
            "backgroundcolor": "rgb(17,17,17)",
            "gridcolor": "#506784",
            "gridwidth": 2,
            "linecolor": "#506784",
            "showbackground": true,
            "ticks": "",
            "zerolinecolor": "#C8D4E3"
           },
           "zaxis": {
            "backgroundcolor": "rgb(17,17,17)",
            "gridcolor": "#506784",
            "gridwidth": 2,
            "linecolor": "#506784",
            "showbackground": true,
            "ticks": "",
            "zerolinecolor": "#C8D4E3"
           }
          },
          "shapedefaults": {
           "line": {
            "color": "#f2f5fa"
           }
          },
          "sliderdefaults": {
           "bgcolor": "#C8D4E3",
           "bordercolor": "rgb(17,17,17)",
           "borderwidth": 1,
           "tickwidth": 0
          },
          "ternary": {
           "aaxis": {
            "gridcolor": "#506784",
            "linecolor": "#506784",
            "ticks": ""
           },
           "baxis": {
            "gridcolor": "#506784",
            "linecolor": "#506784",
            "ticks": ""
           },
           "bgcolor": "rgb(17,17,17)",
           "caxis": {
            "gridcolor": "#506784",
            "linecolor": "#506784",
            "ticks": ""
           }
          },
          "title": {
           "x": 0.05
          },
          "updatemenudefaults": {
           "bgcolor": "#506784",
           "borderwidth": 0
          },
          "xaxis": {
           "automargin": true,
           "gridcolor": "#283442",
           "linecolor": "#506784",
           "ticks": "",
           "title": {
            "standoff": 15
           },
           "zerolinecolor": "#283442",
           "zerolinewidth": 2
          },
          "yaxis": {
           "automargin": true,
           "gridcolor": "#283442",
           "linecolor": "#506784",
           "ticks": "",
           "title": {
            "standoff": 15
           },
           "zerolinecolor": "#283442",
           "zerolinewidth": 2
          }
         }
        },
        "width": 500,
        "xaxis": {
         "anchor": "y",
         "domain": [
          0,
          1
         ],
         "title": {
          "text": "Daily Time Spent on Site"
         }
        },
        "yaxis": {
         "anchor": "x",
         "domain": [
          0,
          1
         ],
         "title": {
          "text": "Daily Internet Usage"
         }
        }
       }
      }
     },
     "metadata": {},
     "output_type": "display_data"
    }
   ],
   "source": [
    "fig = px.scatter(df, x='Daily Time Spent on Site', y='Daily Internet Usage', color='Clicked on Ad',\n",
    "                 template='plotly_dark', width=500, height=500)\n",
    "fig.show()"
   ]
  },
  {
   "cell_type": "code",
   "execution_count": 16,
   "metadata": {},
   "outputs": [
    {
     "data": {
      "application/vnd.plotly.v1+json": {
       "config": {
        "plotlyServerURL": "https://plot.ly"
       },
       "data": [
        {
         "hovertemplate": "Clicked on Ad=No<br>Age=%{x}<br>Daily Internet Usage=%{y}<extra></extra>",
         "legendgroup": "No",
         "marker": {
          "color": "#636efa",
          "symbol": "circle"
         },
         "mode": "markers",
         "name": "No",
         "orientation": "v",
         "showlegend": true,
         "type": "scatter",
         "x": [
          35,
          31,
          26,
          29,
          35,
          23,
          33,
          30,
          20,
          37,
          24,
          41,
          30,
          35,
          36,
          28,
          22,
          35,
          28,
          30,
          39,
          29,
          30,
          32,
          31,
          25,
          20,
          43,
          23,
          28,
          31,
          29,
          27,
          34,
          29,
          32,
          29,
          25,
          46,
          22,
          33,
          27,
          28,
          31,
          36,
          26,
          26,
          34,
          23,
          40,
          21,
          20,
          40,
          25,
          32,
          22,
          32,
          31,
          31,
          26,
          27,
          31,
          45,
          27,
          37,
          29,
          23,
          38,
          31,
          44,
          41,
          25,
          35,
          33,
          27,
          38,
          27,
          35,
          33,
          31,
          24,
          31,
          34,
          47,
          31,
          26,
          35,
          22,
          34,
          41,
          29,
          31,
          33,
          36,
          31,
          27,
          40,
          29,
          31,
          29,
          28,
          30,
          28,
          27,
          40,
          37,
          27,
          42,
          31,
          23,
          33,
          30,
          32,
          32,
          30,
          24,
          53,
          36,
          33,
          28,
          32,
          39,
          28,
          38,
          34,
          26,
          37,
          33,
          37,
          28,
          35,
          32,
          26,
          28,
          35,
          22,
          37,
          32,
          33,
          36,
          36,
          35,
          31,
          31,
          25,
          28,
          33,
          35,
          32,
          34,
          49,
          33,
          41,
          21,
          25,
          31,
          37,
          30,
          35,
          41,
          32,
          25,
          26,
          31,
          34,
          40,
          35,
          28,
          40,
          22,
          38,
          28,
          21,
          25,
          37,
          28,
          23,
          30,
          44,
          36,
          34,
          28,
          42,
          29,
          40,
          36,
          25,
          26,
          25,
          24,
          37,
          39,
          30,
          29,
          26,
          37,
          33,
          40,
          36,
          44,
          28,
          26,
          20,
          40,
          27,
          34,
          29,
          41,
          29,
          20,
          39,
          29,
          24,
          43,
          45,
          33,
          31,
          32,
          35,
          36,
          39,
          27,
          27,
          23,
          35,
          32,
          44,
          22,
          34,
          25,
          33,
          25,
          26,
          27,
          45,
          25,
          37,
          24,
          29,
          33,
          24,
          22,
          40,
          25,
          40,
          30,
          31,
          30,
          35,
          29,
          27,
          37,
          26,
          42,
          31,
          33,
          26,
          33,
          41,
          32,
          32,
          32,
          41,
          21,
          34,
          51,
          39,
          30,
          32,
          23,
          26,
          35,
          34,
          36,
          39,
          33,
          29,
          28,
          39,
          33,
          35,
          36,
          31,
          37,
          28,
          26,
          31,
          44,
          37,
          26,
          30,
          42,
          37,
          33,
          35,
          36,
          23,
          38,
          46,
          38,
          32,
          25,
          24,
          27,
          37,
          36,
          24,
          26,
          30,
          31,
          31,
          31,
          38,
          24,
          24,
          31,
          35,
          27,
          27,
          26,
          29,
          36,
          31,
          40,
          23,
          28,
          36,
          22,
          46,
          27,
          29,
          38,
          33,
          32,
          46,
          26,
          31,
          46,
          39,
          26,
          33,
          29,
          31,
          26,
          33,
          28,
          38,
          34,
          26,
          28,
          27,
          37,
          28,
          36,
          28,
          33,
          37,
          33,
          38,
          25,
          28,
          29,
          19,
          28,
          40,
          26,
          41,
          31,
          35,
          21,
          29,
          51,
          34,
          40,
          25,
          27,
          24,
          30,
          34,
          28,
          19,
          35,
          41,
          29,
          28,
          30,
          28,
          29,
          42,
          31,
          28,
          31,
          36,
          34,
          40,
          31,
          27,
          30,
          19,
          40,
          30,
          35,
          29,
          29,
          22,
          29,
          26,
          29,
          27,
          34,
          46,
          24,
          28,
          30,
          32,
          28,
          34,
          39,
          34,
          39,
          31,
          32,
          28,
          36,
          31,
          27,
          34,
          23,
          38,
          37,
          36,
          32,
          33,
          26,
          30,
          25,
          43,
          29,
          25,
          39,
          50,
          32,
          40,
          25,
          36,
          27,
          33,
          32,
          34,
          34,
          43,
          22,
          31,
          29,
          39,
          31,
          31,
          25,
          36,
          26,
          32,
          30,
          26,
          27,
          31,
          24,
          37,
          31,
          32,
          25,
          34,
          22,
          38,
          29,
          36,
          33,
          36,
          19,
          36,
          34,
          31,
          28,
          29,
          37,
          26,
          21,
          42,
          24,
          25,
          28,
          30,
          31,
          46,
          32,
          31,
          28,
          48,
          31,
          27,
          19
         ],
         "xaxis": "x",
         "y": [
          256.09,
          193.77,
          236.5,
          245.89,
          225.58,
          226.74,
          208.36,
          221.51,
          183.82,
          230.87,
          214.23,
          187.53,
          224.44,
          226.54,
          209.93,
          204.79,
          209.82,
          267.01,
          207.48,
          201.58,
          221.94,
          202.61,
          252.36,
          198.11,
          212.3,
          204.86,
          202.25,
          198.72,
          196.71,
          225.29,
          177.55,
          239.22,
          183.43,
          192.93,
          169.5,
          null,
          198.5,
          215.25,
          222.63,
          215.93,
          238.99,
          209.25,
          222.75,
          184.1,
          200.55,
          227.72,
          238.63,
          null,
          235.28,
          194.23,
          218.17,
          202.16,
          229.12,
          241.03,
          210.54,
          211.87,
          221.21,
          244.34,
          210.26,
          231.94,
          212.79,
          230.93,
          206.98,
          223.03,
          233.56,
          215.44,
          172.81,
          146.19,
          190.25,
          234.26,
          210.6,
          176.28,
          172.1,
          247.31,
          183.48,
          222.11,
          null,
          195.31,
          222.77,
          251,
          162.44,
          219.72,
          198.56,
          199.79,
          196.23,
          163.05,
          227.56,
          199.43,
          208.23,
          255.61,
          210.46,
          233.65,
          254.05,
          239.32,
          201.26,
          191.14,
          214.42,
          252.77,
          183.85,
          218.79,
          212.67,
          187.36,
          217.85,
          235.35,
          229.22,
          254.57,
          200.59,
          171.07,
          199.08,
          201.04,
          228.03,
          158.05,
          234.75,
          192.85,
          204.52,
          178.75,
          223.09,
          222.25,
          204.02,
          201.15,
          231.42,
          226.11,
          212.56,
          244.55,
          230.14,
          203.23,
          221.79,
          254.34,
          179.58,
          242.37,
          216.87,
          177.78,
          156.48,
          196.76,
          237.39,
          212.87,
          213.36,
          210.23,
          228.76,
          163.99,
          218.97,
          238.58,
          226.45,
          214.74,
          231.49,
          250,
          214.53,
          231.07,
          186.48,
          221.53,
          243.37,
          250.35,
          232.54,
          186.98,
          236.19,
          186.37,
          180.77,
          170.13,
          243.61,
          240.95,
          231.59,
          220.92,
          200.58,
          214.08,
          245.78,
          188.27,
          184.03,
          233.6,
          220.05,
          211.39,
          230.91,
          205.5,
          218.61,
          199.39,
          178.51,
          237.34,
          211.38,
          228.81,
          217.68,
          221.98,
          207.87,
          193.8,
          231.48,
          195.36,
          261.02,
          217.79,
          205.38,
          206.79,
          203.74,
          197.33,
          222.26,
          248.19,
          224.58,
          168.15,
          235.99,
          224.23,
          190.75,
          227.73,
          234.64,
          216,
          200.28,
          202.77,
          204.22,
          198.32,
          201.24,
          230.36,
          202.12,
          248.16,
          208.05,
          205.64,
          209.64,
          217.1,
          184.88,
          192.6,
          220.48,
          230.9,
          231.85,
          211.87,
          218.8,
          212.92,
          221.18,
          248.12,
          214.42,
          167.67,
          236.87,
          256.4,
          218.22,
          169.88,
          239.76,
          183.42,
          238.45,
          219.94,
          223.28,
          175.17,
          191.17,
          224.92,
          216.57,
          207.27,
          231.54,
          219.49,
          219.98,
          207.17,
          187.76,
          213.38,
          158.42,
          213.75,
          244.87,
          193.63,
          223.16,
          216.49,
          173.49,
          253.17,
          228.7,
          215.18,
          236.64,
          234.72,
          231.37,
          215.18,
          250.03,
          233.93,
          202.9,
          230.18,
          165.27,
          198.45,
          162.03,
          244.91,
          209.91,
          212.38,
          208.02,
          181.11,
          218.49,
          236.29,
          230.95,
          222.91,
          247.9,
          194.37,
          211.64,
          211.83,
          235.01,
          236.72,
          229.99,
          224.9,
          208.76,
          223.93,
          226.79,
          164.25,
          235.28,
          251.08,
          166.19,
          185.45,
          238.06,
          190.71,
          246.72,
          240.63,
          249.54,
          233.04,
          208.24,
          231.21,
          254.59,
          252.07,
          238.1,
          211.12,
          193.97,
          231.38,
          246.44,
          204.56,
          196.77,
          203.84,
          240.09,
          245.76,
          228.94,
          242.59,
          259.76,
          null,
          190.08,
          210.27,
          149.25,
          192.27,
          191.78,
          236.15,
          236.75,
          241.8,
          224.98,
          198.13,
          225.99,
          219.72,
          235.56,
          182.65,
          253.48,
          199.76,
          225.87,
          175.14,
          222.35,
          224.07,
          null,
          224.2,
          182.84,
          258.06,
          201.29,
          223.16,
          215.04,
          230.36,
          235.97,
          201.54,
          210.53,
          210.39,
          225.23,
          153.01,
          200.71,
          192.81,
          226.69,
          247.05,
          216.24,
          230.52,
          225.34,
          197.15,
          231.95,
          198.86,
          244.23,
          214.49,
          189.91,
          233.61,
          197.93,
          208.01,
          219.55,
          217.66,
          225.47,
          214.06,
          158.29,
          216.03,
          192.5,
          185.85,
          246.06,
          214.33,
          230.77,
          234.75,
          225.05,
          231.91,
          171.23,
          227.37,
          190.17,
          250.2,
          194.95,
          222.87,
          229.88,
          null,
          190.95,
          193.29,
          164.02,
          240.64,
          190.12,
          179.82,
          212.59,
          227.53,
          229.19,
          190.84,
          175.43,
          224.82,
          180.47,
          213.96,
          225.02,
          219.91,
          230.78,
          167.41,
          165.43,
          195.68,
          204.47,
          204.82,
          198.79,
          236.08,
          196.17,
          228.81,
          180.88,
          241.38,
          170.9,
          203.87,
          232.78,
          225,
          212.88,
          194.23,
          232.21,
          209.72,
          226.64,
          192.57,
          222.72,
          225.97,
          254.94,
          199.29,
          231.28,
          224.01,
          169.1,
          261.52,
          250.11,
          213.7,
          223.2,
          205.71,
          244.4,
          220.08,
          165.65,
          241.5,
          246.29,
          195.93,
          216.5,
          225.76,
          222.08,
          235.94,
          203.44,
          250.32,
          167.26,
          187.03,
          249.45,
          217.37,
          236.96,
          199.62,
          249.81,
          205.84,
          238.43,
          241.36,
          194.56,
          207.53,
          235.29,
          178.69,
          221.59,
          236.96,
          193.6,
          226.49,
          211.56,
          199.4,
          215.29,
          181.25,
          245.5,
          null,
          184.98,
          187.64,
          239.94,
          248.23,
          194.62,
          185.46,
          198.24,
          191.82,
          249.99,
          247.01,
          234.23,
          161.42,
          195.56,
          211.17,
          247.05,
          233.85,
          188.32,
          203.3,
          166.31,
          254.65,
          258.26,
          234.81,
          256.39,
          232.68,
          204.4,
          256.4,
          227.63,
          187.95
         ],
         "yaxis": "y"
        },
        {
         "hovertemplate": "Clicked on Ad=Yes<br>Age=%{x}<br>Daily Internet Usage=%{y}<extra></extra>",
         "legendgroup": "Yes",
         "marker": {
          "color": "#EF553B",
          "symbol": "circle"
         },
         "mode": "markers",
         "name": "Yes",
         "orientation": "v",
         "showlegend": true,
         "type": "scatter",
         "x": [
          48,
          49,
          48,
          33,
          23,
          37,
          36,
          40,
          52,
          41,
          28,
          52,
          34,
          57,
          23,
          57,
          53,
          46,
          39,
          52,
          37,
          46,
          45,
          50,
          47,
          36,
          49,
          41,
          45,
          40,
          32,
          34,
          31,
          39,
          43,
          42,
          35,
          38,
          45,
          38,
          54,
          41,
          34,
          34,
          37,
          43,
          24,
          40,
          31,
          36,
          41,
          46,
          53,
          42,
          30,
          60,
          53,
          46,
          55,
          42,
          50,
          45,
          36,
          43,
          44,
          50,
          36,
          36,
          47,
          39,
          36,
          38,
          30,
          44,
          44,
          49,
          41,
          46,
          57,
          48,
          36,
          28,
          36,
          50,
          32,
          55,
          42,
          52,
          48,
          44,
          31,
          38,
          27,
          60,
          54,
          57,
          30,
          36,
          30,
          35,
          49,
          53,
          32,
          45,
          40,
          29,
          58,
          38,
          38,
          43,
          23,
          53,
          34,
          40,
          38,
          39,
          41,
          30,
          29,
          38,
          32,
          38,
          28,
          50,
          45,
          36,
          33,
          44,
          47,
          45,
          41,
          56,
          25,
          45,
          30,
          48,
          38,
          31,
          35,
          35,
          44,
          43,
          26,
          26,
          53,
          29,
          52,
          24,
          35,
          51,
          26,
          42,
          24,
          31,
          39,
          50,
          39,
          38,
          43,
          24,
          54,
          22,
          39,
          44,
          34,
          36,
          48,
          31,
          49,
          41,
          47,
          48,
          26,
          52,
          19,
          52,
          47,
          39,
          59,
          33,
          41,
          36,
          54,
          50,
          45,
          47,
          42,
          31,
          41,
          27,
          42,
          38,
          47,
          51,
          28,
          47,
          43,
          52,
          50,
          27,
          49,
          45,
          33,
          40,
          43,
          32,
          41,
          35,
          31,
          36,
          42,
          37,
          29,
          43,
          42,
          36,
          32,
          39,
          38,
          40,
          34,
          50,
          28,
          24,
          52,
          35,
          42,
          40,
          45,
          52,
          33,
          35,
          23,
          47,
          36,
          31,
          50,
          41,
          28,
          30,
          37,
          35,
          48,
          40,
          33,
          28,
          30,
          39,
          37,
          46,
          37,
          49,
          41,
          58,
          30,
          44,
          37,
          34,
          55,
          40,
          42,
          29,
          43,
          39,
          52,
          49,
          42,
          38,
          55,
          58,
          35,
          33,
          49,
          44,
          41,
          36,
          42,
          40,
          23,
          45,
          54,
          39,
          46,
          36,
          27,
          33,
          25,
          45,
          28,
          25,
          42,
          38,
          36,
          48,
          48,
          50,
          40,
          35,
          51,
          40,
          30,
          37,
          31,
          53,
          41,
          39,
          60,
          23,
          49,
          39,
          37,
          55,
          51,
          49,
          41,
          45,
          28,
          41,
          28,
          43,
          49,
          26,
          50,
          55,
          32,
          31,
          33,
          61,
          55,
          29,
          38,
          46,
          28,
          36,
          34,
          47,
          29,
          54,
          54,
          30,
          23,
          48,
          57,
          43,
          53,
          38,
          35,
          45,
          36,
          43,
          41,
          26,
          52,
          43,
          38,
          37,
          29,
          50,
          29,
          32,
          58,
          59,
          37,
          35,
          29,
          32,
          54,
          25,
          51,
          33,
          29,
          42,
          41,
          60,
          45,
          54,
          26,
          44,
          41,
          36,
          39,
          40,
          33,
          33,
          31,
          47,
          32,
          49,
          29,
          34,
          50,
          49,
          41,
          43,
          44,
          35,
          43,
          29,
          48,
          23,
          38,
          30,
          45,
          35,
          49,
          30,
          34,
          42,
          33,
          46,
          49,
          40,
          46,
          40,
          45,
          42,
          37,
          52,
          35,
          45,
          34,
          24,
          51,
          45,
          33,
          27,
          29,
          44,
          33,
          42,
          45,
          53,
          44,
          36,
          20,
          40,
          41,
          37,
          45,
          51,
          38,
          43,
          50,
          50,
          52,
          47,
          42,
          39,
          34,
          42,
          37,
          49,
          56,
          51,
          45,
          45,
          34,
          38,
          34,
          45,
          48,
          38,
          46,
          51,
          39,
          32,
          30,
          31,
          30,
          50,
          43,
          27,
          36,
          29,
          44,
          36,
          28,
          50,
          52,
          38,
          27,
          29,
          48,
          50,
          40,
          48,
          45,
          31,
          57,
          38,
          44,
          43,
          44,
          38,
          40,
          28,
          30,
          45,
          51,
          26
         ],
         "xaxis": "x",
         "y": [
          131.76,
          122.02,
          113.12,
          143.56,
          140.64,
          129.41,
          null,
          135.51,
          164.83,
          167.22,
          134.14,
          129.23,
          119.2,
          169.23,
          212.58,
          133.81,
          125.45,
          119.32,
          162.08,
          172.83,
          123.72,
          119.93,
          193.58,
          133.2,
          119.3,
          150.61,
          129.31,
          156.36,
          141.22,
          105.22,
          200.22,
          131.72,
          139.01,
          153.17,
          167.07,
          145.98,
          120.06,
          113.53,
          111.71,
          115.91,
          138.71,
          105.15,
          118.6,
          109.07,
          109.29,
          138.35,
          149.67,
          125.85,
          166.29,
          154.02,
          156.3,
          158.22,
          169.18,
          150.99,
          135.18,
          176.98,
          235.78,
          123.64,
          162.95,
          112.19,
          207.18,
          152.49,
          225.24,
          127.11,
          127.07,
          175.37,
          132.55,
          176.73,
          127.83,
          160.03,
          140.46,
          137.28,
          163,
          124.38,
          141.89,
          128.95,
          108.16,
          152.24,
          150.29,
          158.22,
          127.01,
          202.18,
          159.24,
          140.39,
          194.83,
          143.42,
          104.78,
          138.55,
          137.43,
          105.69,
          133.17,
          145.96,
          168.34,
          157.04,
          136.64,
          153.98,
          153.76,
          145.85,
          123.91,
          106.86,
          110.57,
          143.79,
          116.53,
          137.24,
          172.58,
          120.9,
          140.83,
          134.88,
          163.38,
          155.8,
          151.95,
          125.94,
          111.94,
          200.23,
          170.49,
          136.59,
          154.97,
          133.99,
          119.84,
          154.75,
          136.4,
          143.94,
          239.52,
          199.25,
          133.9,
          123.51,
          128.17,
          150.84,
          115.26,
          146.13,
          null,
          168.27,
          161.16,
          119.03,
          164.63,
          123.13,
          138.68,
          121.05,
          109.77,
          144.62,
          125.22,
          120.95,
          136.94,
          171.31,
          168,
          156.54,
          144.27,
          148.61,
          133.18,
          130.41,
          127.26,
          141.36,
          167.22,
          171.62,
          159.46,
          176.52,
          152.36,
          130.83,
          165.56,
          178.85,
          161.16,
          169.4,
          110.68,
          105,
          135.31,
          195.91,
          208.21,
          219.79,
          135.24,
          142.67,
          168.92,
          115.35,
          131.68,
          188.56,
          184.94,
          126.97,
          167.86,
          111.59,
          158.56,
          150.8,
          110.93,
          135.72,
          140.15,
          113.7,
          151.47,
          144.71,
          123.8,
          125.45,
          123.25,
          153.69,
          132.66,
          136.85,
          124.44,
          174.55,
          219.69,
          165.52,
          148.93,
          117.35,
          139.02,
          142.04,
          258.62,
          152.86,
          180.42,
          108.15,
          129.25,
          120.85,
          160.74,
          120.06,
          129.33,
          132.31,
          120.75,
          154.74,
          123.28,
          255.07,
          139.42,
          110.25,
          147.92,
          147.64,
          109,
          171.72,
          214.38,
          119.65,
          160.73,
          145.08,
          201.15,
          127.37,
          129.8,
          134.6,
          177.46,
          196.61,
          151.12,
          159.6,
          149.2,
          121.81,
          167.42,
          141.34,
          132.71,
          143.13,
          196.83,
          129.88,
          119.3,
          119.47,
          159.77,
          117.3,
          null,
          120.25,
          117.75,
          126.95,
          132.63,
          124.85,
          105.94,
          113.8,
          121.07,
          173.43,
          166.86,
          106.04,
          130.4,
          132.08,
          126.39,
          151.25,
          136.18,
          120.46,
          128.16,
          138.87,
          156.99,
          118.1,
          108.17,
          108.7,
          168.29,
          154.23,
          127.56,
          145.48,
          114.85,
          109.22,
          144.69,
          117.66,
          114.53,
          125.65,
          158.35,
          118.16,
          134.46,
          142.81,
          112.72,
          120.12,
          161.58,
          135.08,
          164.25,
          129.01,
          161.24,
          141.13,
          110.66,
          135.24,
          156.97,
          222.11,
          136.21,
          118.27,
          135.48,
          127.82,
          138.35,
          116.27,
          160.33,
          181.02,
          148.19,
          161.77,
          109.34,
          151.18,
          151.54,
          146.8,
          150.83,
          108.03,
          136.99,
          131.29,
          195.07,
          110.84,
          149.21,
          158.8,
          137.97,
          120.63,
          137.2,
          122.31,
          182.11,
          228.78,
          122.45,
          150.77,
          195.54,
          250.36,
          126.44,
          184.23,
          151.94,
          161.79,
          149.8,
          130.86,
          141.96,
          125.2,
          131.55,
          179.04,
          117.3,
          173.05,
          132.27,
          204.27,
          169.4,
          176.78,
          152.94,
          119.27,
          128,
          123.08,
          138.52,
          113.69,
          137.63,
          163.48,
          121.24,
          131.98,
          122.59,
          210.87,
          135.25,
          105.86,
          118.69,
          124.58,
          248.51,
          120.49,
          195.69,
          151.93,
          111.8,
          128.37,
          195.89,
          147.75,
          126.29,
          147.61,
          121.57,
          115.91,
          187.09,
          106.96,
          171.54,
          198.3,
          185.47,
          166.85,
          151.63,
          191.26,
          202.7,
          123.71,
          154,
          144.53,
          197.66,
          136.18,
          167.87,
          170.04,
          162.44,
          119.86,
          123.24,
          111.63,
          142.23,
          139.32,
          125.46,
          127.65,
          108.85,
          156.11,
          127.2,
          143.04,
          159.69,
          141.52,
          105.71,
          252.6,
          124.67,
          108.27,
          132.38,
          144.77,
          132.38,
          128.98,
          124.61,
          115.6,
          117.33,
          128.48,
          107.56,
          113.53,
          108.18,
          133.42,
          124.34,
          118.45,
          158.03,
          108.25,
          255.57,
          190.41,
          161.29,
          182.65,
          142.21,
          171.24,
          173.75,
          107.19,
          154.93,
          158.81,
          123.22,
          140.95,
          115.37,
          111.02,
          171.9,
          190.95,
          115.79,
          108.1,
          151.72,
          122.04,
          203.9,
          121.28,
          216.01,
          146.44,
          182.2,
          109.98,
          160.49,
          128.62,
          174.88,
          113.75,
          112.52,
          129.16,
          149.53,
          153.12,
          150.79,
          130.84,
          114.69,
          116.19,
          149.79,
          107.92,
          135.67,
          190.05,
          123.86,
          162.05,
          125.11,
          145.73,
          116.07,
          154.77,
          178.75,
          193.15,
          138.46,
          162.46,
          231.87,
          141.58,
          109.04,
          172.57,
          124.32,
          194.44,
          176.7,
          125.27,
          159.05,
          151.96,
          132.07,
          162.43,
          126.11,
          139.34,
          105.63,
          116.38,
          168.41,
          140.77,
          125.12,
          105.04,
          165.62,
          null,
          123.62,
          173.01,
          208.58,
          134.42,
          120.37,
          178.35
         ],
         "yaxis": "y"
        }
       ],
       "layout": {
        "height": 500,
        "legend": {
         "title": {
          "text": "Clicked on Ad"
         },
         "tracegroupgap": 0
        },
        "margin": {
         "t": 60
        },
        "template": {
         "data": {
          "bar": [
           {
            "error_x": {
             "color": "#f2f5fa"
            },
            "error_y": {
             "color": "#f2f5fa"
            },
            "marker": {
             "line": {
              "color": "rgb(17,17,17)",
              "width": 0.5
             },
             "pattern": {
              "fillmode": "overlay",
              "size": 10,
              "solidity": 0.2
             }
            },
            "type": "bar"
           }
          ],
          "barpolar": [
           {
            "marker": {
             "line": {
              "color": "rgb(17,17,17)",
              "width": 0.5
             },
             "pattern": {
              "fillmode": "overlay",
              "size": 10,
              "solidity": 0.2
             }
            },
            "type": "barpolar"
           }
          ],
          "carpet": [
           {
            "aaxis": {
             "endlinecolor": "#A2B1C6",
             "gridcolor": "#506784",
             "linecolor": "#506784",
             "minorgridcolor": "#506784",
             "startlinecolor": "#A2B1C6"
            },
            "baxis": {
             "endlinecolor": "#A2B1C6",
             "gridcolor": "#506784",
             "linecolor": "#506784",
             "minorgridcolor": "#506784",
             "startlinecolor": "#A2B1C6"
            },
            "type": "carpet"
           }
          ],
          "choropleth": [
           {
            "colorbar": {
             "outlinewidth": 0,
             "ticks": ""
            },
            "type": "choropleth"
           }
          ],
          "contour": [
           {
            "colorbar": {
             "outlinewidth": 0,
             "ticks": ""
            },
            "colorscale": [
             [
              0,
              "#0d0887"
             ],
             [
              0.1111111111111111,
              "#46039f"
             ],
             [
              0.2222222222222222,
              "#7201a8"
             ],
             [
              0.3333333333333333,
              "#9c179e"
             ],
             [
              0.4444444444444444,
              "#bd3786"
             ],
             [
              0.5555555555555556,
              "#d8576b"
             ],
             [
              0.6666666666666666,
              "#ed7953"
             ],
             [
              0.7777777777777778,
              "#fb9f3a"
             ],
             [
              0.8888888888888888,
              "#fdca26"
             ],
             [
              1,
              "#f0f921"
             ]
            ],
            "type": "contour"
           }
          ],
          "contourcarpet": [
           {
            "colorbar": {
             "outlinewidth": 0,
             "ticks": ""
            },
            "type": "contourcarpet"
           }
          ],
          "heatmap": [
           {
            "colorbar": {
             "outlinewidth": 0,
             "ticks": ""
            },
            "colorscale": [
             [
              0,
              "#0d0887"
             ],
             [
              0.1111111111111111,
              "#46039f"
             ],
             [
              0.2222222222222222,
              "#7201a8"
             ],
             [
              0.3333333333333333,
              "#9c179e"
             ],
             [
              0.4444444444444444,
              "#bd3786"
             ],
             [
              0.5555555555555556,
              "#d8576b"
             ],
             [
              0.6666666666666666,
              "#ed7953"
             ],
             [
              0.7777777777777778,
              "#fb9f3a"
             ],
             [
              0.8888888888888888,
              "#fdca26"
             ],
             [
              1,
              "#f0f921"
             ]
            ],
            "type": "heatmap"
           }
          ],
          "heatmapgl": [
           {
            "colorbar": {
             "outlinewidth": 0,
             "ticks": ""
            },
            "colorscale": [
             [
              0,
              "#0d0887"
             ],
             [
              0.1111111111111111,
              "#46039f"
             ],
             [
              0.2222222222222222,
              "#7201a8"
             ],
             [
              0.3333333333333333,
              "#9c179e"
             ],
             [
              0.4444444444444444,
              "#bd3786"
             ],
             [
              0.5555555555555556,
              "#d8576b"
             ],
             [
              0.6666666666666666,
              "#ed7953"
             ],
             [
              0.7777777777777778,
              "#fb9f3a"
             ],
             [
              0.8888888888888888,
              "#fdca26"
             ],
             [
              1,
              "#f0f921"
             ]
            ],
            "type": "heatmapgl"
           }
          ],
          "histogram": [
           {
            "marker": {
             "pattern": {
              "fillmode": "overlay",
              "size": 10,
              "solidity": 0.2
             }
            },
            "type": "histogram"
           }
          ],
          "histogram2d": [
           {
            "colorbar": {
             "outlinewidth": 0,
             "ticks": ""
            },
            "colorscale": [
             [
              0,
              "#0d0887"
             ],
             [
              0.1111111111111111,
              "#46039f"
             ],
             [
              0.2222222222222222,
              "#7201a8"
             ],
             [
              0.3333333333333333,
              "#9c179e"
             ],
             [
              0.4444444444444444,
              "#bd3786"
             ],
             [
              0.5555555555555556,
              "#d8576b"
             ],
             [
              0.6666666666666666,
              "#ed7953"
             ],
             [
              0.7777777777777778,
              "#fb9f3a"
             ],
             [
              0.8888888888888888,
              "#fdca26"
             ],
             [
              1,
              "#f0f921"
             ]
            ],
            "type": "histogram2d"
           }
          ],
          "histogram2dcontour": [
           {
            "colorbar": {
             "outlinewidth": 0,
             "ticks": ""
            },
            "colorscale": [
             [
              0,
              "#0d0887"
             ],
             [
              0.1111111111111111,
              "#46039f"
             ],
             [
              0.2222222222222222,
              "#7201a8"
             ],
             [
              0.3333333333333333,
              "#9c179e"
             ],
             [
              0.4444444444444444,
              "#bd3786"
             ],
             [
              0.5555555555555556,
              "#d8576b"
             ],
             [
              0.6666666666666666,
              "#ed7953"
             ],
             [
              0.7777777777777778,
              "#fb9f3a"
             ],
             [
              0.8888888888888888,
              "#fdca26"
             ],
             [
              1,
              "#f0f921"
             ]
            ],
            "type": "histogram2dcontour"
           }
          ],
          "mesh3d": [
           {
            "colorbar": {
             "outlinewidth": 0,
             "ticks": ""
            },
            "type": "mesh3d"
           }
          ],
          "parcoords": [
           {
            "line": {
             "colorbar": {
              "outlinewidth": 0,
              "ticks": ""
             }
            },
            "type": "parcoords"
           }
          ],
          "pie": [
           {
            "automargin": true,
            "type": "pie"
           }
          ],
          "scatter": [
           {
            "marker": {
             "line": {
              "color": "#283442"
             }
            },
            "type": "scatter"
           }
          ],
          "scatter3d": [
           {
            "line": {
             "colorbar": {
              "outlinewidth": 0,
              "ticks": ""
             }
            },
            "marker": {
             "colorbar": {
              "outlinewidth": 0,
              "ticks": ""
             }
            },
            "type": "scatter3d"
           }
          ],
          "scattercarpet": [
           {
            "marker": {
             "colorbar": {
              "outlinewidth": 0,
              "ticks": ""
             }
            },
            "type": "scattercarpet"
           }
          ],
          "scattergeo": [
           {
            "marker": {
             "colorbar": {
              "outlinewidth": 0,
              "ticks": ""
             }
            },
            "type": "scattergeo"
           }
          ],
          "scattergl": [
           {
            "marker": {
             "line": {
              "color": "#283442"
             }
            },
            "type": "scattergl"
           }
          ],
          "scattermapbox": [
           {
            "marker": {
             "colorbar": {
              "outlinewidth": 0,
              "ticks": ""
             }
            },
            "type": "scattermapbox"
           }
          ],
          "scatterpolar": [
           {
            "marker": {
             "colorbar": {
              "outlinewidth": 0,
              "ticks": ""
             }
            },
            "type": "scatterpolar"
           }
          ],
          "scatterpolargl": [
           {
            "marker": {
             "colorbar": {
              "outlinewidth": 0,
              "ticks": ""
             }
            },
            "type": "scatterpolargl"
           }
          ],
          "scatterternary": [
           {
            "marker": {
             "colorbar": {
              "outlinewidth": 0,
              "ticks": ""
             }
            },
            "type": "scatterternary"
           }
          ],
          "surface": [
           {
            "colorbar": {
             "outlinewidth": 0,
             "ticks": ""
            },
            "colorscale": [
             [
              0,
              "#0d0887"
             ],
             [
              0.1111111111111111,
              "#46039f"
             ],
             [
              0.2222222222222222,
              "#7201a8"
             ],
             [
              0.3333333333333333,
              "#9c179e"
             ],
             [
              0.4444444444444444,
              "#bd3786"
             ],
             [
              0.5555555555555556,
              "#d8576b"
             ],
             [
              0.6666666666666666,
              "#ed7953"
             ],
             [
              0.7777777777777778,
              "#fb9f3a"
             ],
             [
              0.8888888888888888,
              "#fdca26"
             ],
             [
              1,
              "#f0f921"
             ]
            ],
            "type": "surface"
           }
          ],
          "table": [
           {
            "cells": {
             "fill": {
              "color": "#506784"
             },
             "line": {
              "color": "rgb(17,17,17)"
             }
            },
            "header": {
             "fill": {
              "color": "#2a3f5f"
             },
             "line": {
              "color": "rgb(17,17,17)"
             }
            },
            "type": "table"
           }
          ]
         },
         "layout": {
          "annotationdefaults": {
           "arrowcolor": "#f2f5fa",
           "arrowhead": 0,
           "arrowwidth": 1
          },
          "autotypenumbers": "strict",
          "coloraxis": {
           "colorbar": {
            "outlinewidth": 0,
            "ticks": ""
           }
          },
          "colorscale": {
           "diverging": [
            [
             0,
             "#8e0152"
            ],
            [
             0.1,
             "#c51b7d"
            ],
            [
             0.2,
             "#de77ae"
            ],
            [
             0.3,
             "#f1b6da"
            ],
            [
             0.4,
             "#fde0ef"
            ],
            [
             0.5,
             "#f7f7f7"
            ],
            [
             0.6,
             "#e6f5d0"
            ],
            [
             0.7,
             "#b8e186"
            ],
            [
             0.8,
             "#7fbc41"
            ],
            [
             0.9,
             "#4d9221"
            ],
            [
             1,
             "#276419"
            ]
           ],
           "sequential": [
            [
             0,
             "#0d0887"
            ],
            [
             0.1111111111111111,
             "#46039f"
            ],
            [
             0.2222222222222222,
             "#7201a8"
            ],
            [
             0.3333333333333333,
             "#9c179e"
            ],
            [
             0.4444444444444444,
             "#bd3786"
            ],
            [
             0.5555555555555556,
             "#d8576b"
            ],
            [
             0.6666666666666666,
             "#ed7953"
            ],
            [
             0.7777777777777778,
             "#fb9f3a"
            ],
            [
             0.8888888888888888,
             "#fdca26"
            ],
            [
             1,
             "#f0f921"
            ]
           ],
           "sequentialminus": [
            [
             0,
             "#0d0887"
            ],
            [
             0.1111111111111111,
             "#46039f"
            ],
            [
             0.2222222222222222,
             "#7201a8"
            ],
            [
             0.3333333333333333,
             "#9c179e"
            ],
            [
             0.4444444444444444,
             "#bd3786"
            ],
            [
             0.5555555555555556,
             "#d8576b"
            ],
            [
             0.6666666666666666,
             "#ed7953"
            ],
            [
             0.7777777777777778,
             "#fb9f3a"
            ],
            [
             0.8888888888888888,
             "#fdca26"
            ],
            [
             1,
             "#f0f921"
            ]
           ]
          },
          "colorway": [
           "#636efa",
           "#EF553B",
           "#00cc96",
           "#ab63fa",
           "#FFA15A",
           "#19d3f3",
           "#FF6692",
           "#B6E880",
           "#FF97FF",
           "#FECB52"
          ],
          "font": {
           "color": "#f2f5fa"
          },
          "geo": {
           "bgcolor": "rgb(17,17,17)",
           "lakecolor": "rgb(17,17,17)",
           "landcolor": "rgb(17,17,17)",
           "showlakes": true,
           "showland": true,
           "subunitcolor": "#506784"
          },
          "hoverlabel": {
           "align": "left"
          },
          "hovermode": "closest",
          "mapbox": {
           "style": "dark"
          },
          "paper_bgcolor": "rgb(17,17,17)",
          "plot_bgcolor": "rgb(17,17,17)",
          "polar": {
           "angularaxis": {
            "gridcolor": "#506784",
            "linecolor": "#506784",
            "ticks": ""
           },
           "bgcolor": "rgb(17,17,17)",
           "radialaxis": {
            "gridcolor": "#506784",
            "linecolor": "#506784",
            "ticks": ""
           }
          },
          "scene": {
           "xaxis": {
            "backgroundcolor": "rgb(17,17,17)",
            "gridcolor": "#506784",
            "gridwidth": 2,
            "linecolor": "#506784",
            "showbackground": true,
            "ticks": "",
            "zerolinecolor": "#C8D4E3"
           },
           "yaxis": {
            "backgroundcolor": "rgb(17,17,17)",
            "gridcolor": "#506784",
            "gridwidth": 2,
            "linecolor": "#506784",
            "showbackground": true,
            "ticks": "",
            "zerolinecolor": "#C8D4E3"
           },
           "zaxis": {
            "backgroundcolor": "rgb(17,17,17)",
            "gridcolor": "#506784",
            "gridwidth": 2,
            "linecolor": "#506784",
            "showbackground": true,
            "ticks": "",
            "zerolinecolor": "#C8D4E3"
           }
          },
          "shapedefaults": {
           "line": {
            "color": "#f2f5fa"
           }
          },
          "sliderdefaults": {
           "bgcolor": "#C8D4E3",
           "bordercolor": "rgb(17,17,17)",
           "borderwidth": 1,
           "tickwidth": 0
          },
          "ternary": {
           "aaxis": {
            "gridcolor": "#506784",
            "linecolor": "#506784",
            "ticks": ""
           },
           "baxis": {
            "gridcolor": "#506784",
            "linecolor": "#506784",
            "ticks": ""
           },
           "bgcolor": "rgb(17,17,17)",
           "caxis": {
            "gridcolor": "#506784",
            "linecolor": "#506784",
            "ticks": ""
           }
          },
          "title": {
           "x": 0.05
          },
          "updatemenudefaults": {
           "bgcolor": "#506784",
           "borderwidth": 0
          },
          "xaxis": {
           "automargin": true,
           "gridcolor": "#283442",
           "linecolor": "#506784",
           "ticks": "",
           "title": {
            "standoff": 15
           },
           "zerolinecolor": "#283442",
           "zerolinewidth": 2
          },
          "yaxis": {
           "automargin": true,
           "gridcolor": "#283442",
           "linecolor": "#506784",
           "ticks": "",
           "title": {
            "standoff": 15
           },
           "zerolinecolor": "#283442",
           "zerolinewidth": 2
          }
         }
        },
        "width": 500,
        "xaxis": {
         "anchor": "y",
         "domain": [
          0,
          1
         ],
         "title": {
          "text": "Age"
         }
        },
        "yaxis": {
         "anchor": "x",
         "domain": [
          0,
          1
         ],
         "title": {
          "text": "Daily Internet Usage"
         }
        }
       }
      }
     },
     "metadata": {},
     "output_type": "display_data"
    }
   ],
   "source": [
    "fig = px.scatter(df, x='Age', y='Daily Internet Usage', color='Clicked on Ad',\n",
    "                 template='plotly_dark', width=500, height=500)\n",
    "fig.show()"
   ]
  },
  {
   "attachments": {},
   "cell_type": "markdown",
   "metadata": {},
   "source": [
    "#### Catego"
   ]
  },
  {
   "attachments": {},
   "cell_type": "markdown",
   "metadata": {},
   "source": [
    "### Multivariate"
   ]
  },
  {
   "cell_type": "code",
   "execution_count": 19,
   "metadata": {},
   "outputs": [
    {
     "data": {
      "application/vnd.plotly.v1+json": {
       "config": {
        "plotlyServerURL": "https://plot.ly"
       },
       "data": [
        {
         "coloraxis": "coloraxis",
         "hovertemplate": "x: %{x}<br>y: %{y}<br>color: %{z}<extra></extra>",
         "name": "0",
         "texttemplate": "%{z:.2f}",
         "type": "heatmap",
         "x": [
          "Daily Time Spent on Site",
          "Daily Internet Usage",
          "Age"
         ],
         "xaxis": "x",
         "y": [
          "Daily Time Spent on Site",
          "Daily Internet Usage",
          "Age"
         ],
         "yaxis": "y",
         "z": [
          [
           1,
           0.518294329378001,
           -0.33142358596034577
          ],
          [
           0.518294329378001,
           1,
           -0.37048122738914313
          ],
          [
           -0.33142358596034577,
           -0.37048122738914313,
           1
          ]
         ]
        }
       ],
       "layout": {
        "coloraxis": {
         "colorscale": [
          [
           0,
           "rgb(3, 5, 18)"
          ],
          [
           0.09090909090909091,
           "rgb(25, 25, 51)"
          ],
          [
           0.18181818181818182,
           "rgb(44, 42, 87)"
          ],
          [
           0.2727272727272727,
           "rgb(58, 60, 125)"
          ],
          [
           0.36363636363636365,
           "rgb(62, 83, 160)"
          ],
          [
           0.45454545454545453,
           "rgb(62, 109, 178)"
          ],
          [
           0.5454545454545454,
           "rgb(72, 134, 187)"
          ],
          [
           0.6363636363636364,
           "rgb(89, 159, 196)"
          ],
          [
           0.7272727272727273,
           "rgb(114, 184, 205)"
          ],
          [
           0.8181818181818182,
           "rgb(149, 207, 216)"
          ],
          [
           0.9090909090909091,
           "rgb(192, 229, 232)"
          ],
          [
           1,
           "rgb(234, 252, 253)"
          ]
         ]
        },
        "height": 500,
        "margin": {
         "t": 60
        },
        "template": {
         "data": {
          "bar": [
           {
            "error_x": {
             "color": "#f2f5fa"
            },
            "error_y": {
             "color": "#f2f5fa"
            },
            "marker": {
             "line": {
              "color": "rgb(17,17,17)",
              "width": 0.5
             },
             "pattern": {
              "fillmode": "overlay",
              "size": 10,
              "solidity": 0.2
             }
            },
            "type": "bar"
           }
          ],
          "barpolar": [
           {
            "marker": {
             "line": {
              "color": "rgb(17,17,17)",
              "width": 0.5
             },
             "pattern": {
              "fillmode": "overlay",
              "size": 10,
              "solidity": 0.2
             }
            },
            "type": "barpolar"
           }
          ],
          "carpet": [
           {
            "aaxis": {
             "endlinecolor": "#A2B1C6",
             "gridcolor": "#506784",
             "linecolor": "#506784",
             "minorgridcolor": "#506784",
             "startlinecolor": "#A2B1C6"
            },
            "baxis": {
             "endlinecolor": "#A2B1C6",
             "gridcolor": "#506784",
             "linecolor": "#506784",
             "minorgridcolor": "#506784",
             "startlinecolor": "#A2B1C6"
            },
            "type": "carpet"
           }
          ],
          "choropleth": [
           {
            "colorbar": {
             "outlinewidth": 0,
             "ticks": ""
            },
            "type": "choropleth"
           }
          ],
          "contour": [
           {
            "colorbar": {
             "outlinewidth": 0,
             "ticks": ""
            },
            "colorscale": [
             [
              0,
              "#0d0887"
             ],
             [
              0.1111111111111111,
              "#46039f"
             ],
             [
              0.2222222222222222,
              "#7201a8"
             ],
             [
              0.3333333333333333,
              "#9c179e"
             ],
             [
              0.4444444444444444,
              "#bd3786"
             ],
             [
              0.5555555555555556,
              "#d8576b"
             ],
             [
              0.6666666666666666,
              "#ed7953"
             ],
             [
              0.7777777777777778,
              "#fb9f3a"
             ],
             [
              0.8888888888888888,
              "#fdca26"
             ],
             [
              1,
              "#f0f921"
             ]
            ],
            "type": "contour"
           }
          ],
          "contourcarpet": [
           {
            "colorbar": {
             "outlinewidth": 0,
             "ticks": ""
            },
            "type": "contourcarpet"
           }
          ],
          "heatmap": [
           {
            "colorbar": {
             "outlinewidth": 0,
             "ticks": ""
            },
            "colorscale": [
             [
              0,
              "#0d0887"
             ],
             [
              0.1111111111111111,
              "#46039f"
             ],
             [
              0.2222222222222222,
              "#7201a8"
             ],
             [
              0.3333333333333333,
              "#9c179e"
             ],
             [
              0.4444444444444444,
              "#bd3786"
             ],
             [
              0.5555555555555556,
              "#d8576b"
             ],
             [
              0.6666666666666666,
              "#ed7953"
             ],
             [
              0.7777777777777778,
              "#fb9f3a"
             ],
             [
              0.8888888888888888,
              "#fdca26"
             ],
             [
              1,
              "#f0f921"
             ]
            ],
            "type": "heatmap"
           }
          ],
          "heatmapgl": [
           {
            "colorbar": {
             "outlinewidth": 0,
             "ticks": ""
            },
            "colorscale": [
             [
              0,
              "#0d0887"
             ],
             [
              0.1111111111111111,
              "#46039f"
             ],
             [
              0.2222222222222222,
              "#7201a8"
             ],
             [
              0.3333333333333333,
              "#9c179e"
             ],
             [
              0.4444444444444444,
              "#bd3786"
             ],
             [
              0.5555555555555556,
              "#d8576b"
             ],
             [
              0.6666666666666666,
              "#ed7953"
             ],
             [
              0.7777777777777778,
              "#fb9f3a"
             ],
             [
              0.8888888888888888,
              "#fdca26"
             ],
             [
              1,
              "#f0f921"
             ]
            ],
            "type": "heatmapgl"
           }
          ],
          "histogram": [
           {
            "marker": {
             "pattern": {
              "fillmode": "overlay",
              "size": 10,
              "solidity": 0.2
             }
            },
            "type": "histogram"
           }
          ],
          "histogram2d": [
           {
            "colorbar": {
             "outlinewidth": 0,
             "ticks": ""
            },
            "colorscale": [
             [
              0,
              "#0d0887"
             ],
             [
              0.1111111111111111,
              "#46039f"
             ],
             [
              0.2222222222222222,
              "#7201a8"
             ],
             [
              0.3333333333333333,
              "#9c179e"
             ],
             [
              0.4444444444444444,
              "#bd3786"
             ],
             [
              0.5555555555555556,
              "#d8576b"
             ],
             [
              0.6666666666666666,
              "#ed7953"
             ],
             [
              0.7777777777777778,
              "#fb9f3a"
             ],
             [
              0.8888888888888888,
              "#fdca26"
             ],
             [
              1,
              "#f0f921"
             ]
            ],
            "type": "histogram2d"
           }
          ],
          "histogram2dcontour": [
           {
            "colorbar": {
             "outlinewidth": 0,
             "ticks": ""
            },
            "colorscale": [
             [
              0,
              "#0d0887"
             ],
             [
              0.1111111111111111,
              "#46039f"
             ],
             [
              0.2222222222222222,
              "#7201a8"
             ],
             [
              0.3333333333333333,
              "#9c179e"
             ],
             [
              0.4444444444444444,
              "#bd3786"
             ],
             [
              0.5555555555555556,
              "#d8576b"
             ],
             [
              0.6666666666666666,
              "#ed7953"
             ],
             [
              0.7777777777777778,
              "#fb9f3a"
             ],
             [
              0.8888888888888888,
              "#fdca26"
             ],
             [
              1,
              "#f0f921"
             ]
            ],
            "type": "histogram2dcontour"
           }
          ],
          "mesh3d": [
           {
            "colorbar": {
             "outlinewidth": 0,
             "ticks": ""
            },
            "type": "mesh3d"
           }
          ],
          "parcoords": [
           {
            "line": {
             "colorbar": {
              "outlinewidth": 0,
              "ticks": ""
             }
            },
            "type": "parcoords"
           }
          ],
          "pie": [
           {
            "automargin": true,
            "type": "pie"
           }
          ],
          "scatter": [
           {
            "marker": {
             "line": {
              "color": "#283442"
             }
            },
            "type": "scatter"
           }
          ],
          "scatter3d": [
           {
            "line": {
             "colorbar": {
              "outlinewidth": 0,
              "ticks": ""
             }
            },
            "marker": {
             "colorbar": {
              "outlinewidth": 0,
              "ticks": ""
             }
            },
            "type": "scatter3d"
           }
          ],
          "scattercarpet": [
           {
            "marker": {
             "colorbar": {
              "outlinewidth": 0,
              "ticks": ""
             }
            },
            "type": "scattercarpet"
           }
          ],
          "scattergeo": [
           {
            "marker": {
             "colorbar": {
              "outlinewidth": 0,
              "ticks": ""
             }
            },
            "type": "scattergeo"
           }
          ],
          "scattergl": [
           {
            "marker": {
             "line": {
              "color": "#283442"
             }
            },
            "type": "scattergl"
           }
          ],
          "scattermapbox": [
           {
            "marker": {
             "colorbar": {
              "outlinewidth": 0,
              "ticks": ""
             }
            },
            "type": "scattermapbox"
           }
          ],
          "scatterpolar": [
           {
            "marker": {
             "colorbar": {
              "outlinewidth": 0,
              "ticks": ""
             }
            },
            "type": "scatterpolar"
           }
          ],
          "scatterpolargl": [
           {
            "marker": {
             "colorbar": {
              "outlinewidth": 0,
              "ticks": ""
             }
            },
            "type": "scatterpolargl"
           }
          ],
          "scatterternary": [
           {
            "marker": {
             "colorbar": {
              "outlinewidth": 0,
              "ticks": ""
             }
            },
            "type": "scatterternary"
           }
          ],
          "surface": [
           {
            "colorbar": {
             "outlinewidth": 0,
             "ticks": ""
            },
            "colorscale": [
             [
              0,
              "#0d0887"
             ],
             [
              0.1111111111111111,
              "#46039f"
             ],
             [
              0.2222222222222222,
              "#7201a8"
             ],
             [
              0.3333333333333333,
              "#9c179e"
             ],
             [
              0.4444444444444444,
              "#bd3786"
             ],
             [
              0.5555555555555556,
              "#d8576b"
             ],
             [
              0.6666666666666666,
              "#ed7953"
             ],
             [
              0.7777777777777778,
              "#fb9f3a"
             ],
             [
              0.8888888888888888,
              "#fdca26"
             ],
             [
              1,
              "#f0f921"
             ]
            ],
            "type": "surface"
           }
          ],
          "table": [
           {
            "cells": {
             "fill": {
              "color": "#506784"
             },
             "line": {
              "color": "rgb(17,17,17)"
             }
            },
            "header": {
             "fill": {
              "color": "#2a3f5f"
             },
             "line": {
              "color": "rgb(17,17,17)"
             }
            },
            "type": "table"
           }
          ]
         },
         "layout": {
          "annotationdefaults": {
           "arrowcolor": "#f2f5fa",
           "arrowhead": 0,
           "arrowwidth": 1
          },
          "autotypenumbers": "strict",
          "coloraxis": {
           "colorbar": {
            "outlinewidth": 0,
            "ticks": ""
           }
          },
          "colorscale": {
           "diverging": [
            [
             0,
             "#8e0152"
            ],
            [
             0.1,
             "#c51b7d"
            ],
            [
             0.2,
             "#de77ae"
            ],
            [
             0.3,
             "#f1b6da"
            ],
            [
             0.4,
             "#fde0ef"
            ],
            [
             0.5,
             "#f7f7f7"
            ],
            [
             0.6,
             "#e6f5d0"
            ],
            [
             0.7,
             "#b8e186"
            ],
            [
             0.8,
             "#7fbc41"
            ],
            [
             0.9,
             "#4d9221"
            ],
            [
             1,
             "#276419"
            ]
           ],
           "sequential": [
            [
             0,
             "#0d0887"
            ],
            [
             0.1111111111111111,
             "#46039f"
            ],
            [
             0.2222222222222222,
             "#7201a8"
            ],
            [
             0.3333333333333333,
             "#9c179e"
            ],
            [
             0.4444444444444444,
             "#bd3786"
            ],
            [
             0.5555555555555556,
             "#d8576b"
            ],
            [
             0.6666666666666666,
             "#ed7953"
            ],
            [
             0.7777777777777778,
             "#fb9f3a"
            ],
            [
             0.8888888888888888,
             "#fdca26"
            ],
            [
             1,
             "#f0f921"
            ]
           ],
           "sequentialminus": [
            [
             0,
             "#0d0887"
            ],
            [
             0.1111111111111111,
             "#46039f"
            ],
            [
             0.2222222222222222,
             "#7201a8"
            ],
            [
             0.3333333333333333,
             "#9c179e"
            ],
            [
             0.4444444444444444,
             "#bd3786"
            ],
            [
             0.5555555555555556,
             "#d8576b"
            ],
            [
             0.6666666666666666,
             "#ed7953"
            ],
            [
             0.7777777777777778,
             "#fb9f3a"
            ],
            [
             0.8888888888888888,
             "#fdca26"
            ],
            [
             1,
             "#f0f921"
            ]
           ]
          },
          "colorway": [
           "#636efa",
           "#EF553B",
           "#00cc96",
           "#ab63fa",
           "#FFA15A",
           "#19d3f3",
           "#FF6692",
           "#B6E880",
           "#FF97FF",
           "#FECB52"
          ],
          "font": {
           "color": "#f2f5fa"
          },
          "geo": {
           "bgcolor": "rgb(17,17,17)",
           "lakecolor": "rgb(17,17,17)",
           "landcolor": "rgb(17,17,17)",
           "showlakes": true,
           "showland": true,
           "subunitcolor": "#506784"
          },
          "hoverlabel": {
           "align": "left"
          },
          "hovermode": "closest",
          "mapbox": {
           "style": "dark"
          },
          "paper_bgcolor": "rgb(17,17,17)",
          "plot_bgcolor": "rgb(17,17,17)",
          "polar": {
           "angularaxis": {
            "gridcolor": "#506784",
            "linecolor": "#506784",
            "ticks": ""
           },
           "bgcolor": "rgb(17,17,17)",
           "radialaxis": {
            "gridcolor": "#506784",
            "linecolor": "#506784",
            "ticks": ""
           }
          },
          "scene": {
           "xaxis": {
            "backgroundcolor": "rgb(17,17,17)",
            "gridcolor": "#506784",
            "gridwidth": 2,
            "linecolor": "#506784",
            "showbackground": true,
            "ticks": "",
            "zerolinecolor": "#C8D4E3"
           },
           "yaxis": {
            "backgroundcolor": "rgb(17,17,17)",
            "gridcolor": "#506784",
            "gridwidth": 2,
            "linecolor": "#506784",
            "showbackground": true,
            "ticks": "",
            "zerolinecolor": "#C8D4E3"
           },
           "zaxis": {
            "backgroundcolor": "rgb(17,17,17)",
            "gridcolor": "#506784",
            "gridwidth": 2,
            "linecolor": "#506784",
            "showbackground": true,
            "ticks": "",
            "zerolinecolor": "#C8D4E3"
           }
          },
          "shapedefaults": {
           "line": {
            "color": "#f2f5fa"
           }
          },
          "sliderdefaults": {
           "bgcolor": "#C8D4E3",
           "bordercolor": "rgb(17,17,17)",
           "borderwidth": 1,
           "tickwidth": 0
          },
          "ternary": {
           "aaxis": {
            "gridcolor": "#506784",
            "linecolor": "#506784",
            "ticks": ""
           },
           "baxis": {
            "gridcolor": "#506784",
            "linecolor": "#506784",
            "ticks": ""
           },
           "bgcolor": "rgb(17,17,17)",
           "caxis": {
            "gridcolor": "#506784",
            "linecolor": "#506784",
            "ticks": ""
           }
          },
          "title": {
           "x": 0.05
          },
          "updatemenudefaults": {
           "bgcolor": "#506784",
           "borderwidth": 0
          },
          "xaxis": {
           "automargin": true,
           "gridcolor": "#283442",
           "linecolor": "#506784",
           "ticks": "",
           "title": {
            "standoff": 15
           },
           "zerolinecolor": "#283442",
           "zerolinewidth": 2
          },
          "yaxis": {
           "automargin": true,
           "gridcolor": "#283442",
           "linecolor": "#506784",
           "ticks": "",
           "title": {
            "standoff": 15
           },
           "zerolinecolor": "#283442",
           "zerolinewidth": 2
          }
         }
        },
        "width": 500,
        "xaxis": {
         "anchor": "y",
         "constrain": "domain",
         "domain": [
          0,
          1
         ],
         "scaleanchor": "y"
        },
        "yaxis": {
         "anchor": "x",
         "autorange": "reversed",
         "constrain": "domain",
         "domain": [
          0,
          1
         ]
        }
       }
      }
     },
     "metadata": {},
     "output_type": "display_data"
    }
   ],
   "source": [
    "hm = df[to_plot].corr()\n",
    "fig = px.imshow(hm, text_auto=\".2f\", color_continuous_scale='ice',\n",
    "                template='plotly_dark',width=500,height=500)\n",
    "fig.show()"
   ]
  },
  {
   "attachments": {},
   "cell_type": "markdown",
   "metadata": {},
   "source": [
    "## Preprocessing"
   ]
  },
  {
   "attachments": {},
   "cell_type": "markdown",
   "metadata": {},
   "source": [
    "### Duplicate Data"
   ]
  },
  {
   "cell_type": "code",
   "execution_count": 65,
   "metadata": {},
   "outputs": [
    {
     "data": {
      "text/plain": [
       "0"
      ]
     },
     "execution_count": 65,
     "metadata": {},
     "output_type": "execute_result"
    }
   ],
   "source": [
    "df.duplicated().sum()"
   ]
  },
  {
   "attachments": {},
   "cell_type": "markdown",
   "metadata": {},
   "source": [
    "### Missing Value"
   ]
  },
  {
   "cell_type": "code",
   "execution_count": 66,
   "metadata": {},
   "outputs": [
    {
     "data": {
      "text/html": [
       "<div>\n",
       "<style scoped>\n",
       "    .dataframe tbody tr th:only-of-type {\n",
       "        vertical-align: middle;\n",
       "    }\n",
       "\n",
       "    .dataframe tbody tr th {\n",
       "        vertical-align: top;\n",
       "    }\n",
       "\n",
       "    .dataframe thead th {\n",
       "        text-align: right;\n",
       "    }\n",
       "</style>\n",
       "<table border=\"1\" class=\"dataframe\">\n",
       "  <thead>\n",
       "    <tr style=\"text-align: right;\">\n",
       "      <th></th>\n",
       "      <th>column_name</th>\n",
       "      <th>sum_missing</th>\n",
       "      <th>percent_missing</th>\n",
       "    </tr>\n",
       "  </thead>\n",
       "  <tbody>\n",
       "    <tr>\n",
       "      <th>0</th>\n",
       "      <td>Daily Time Spent on Site</td>\n",
       "      <td>13</td>\n",
       "      <td>1.3</td>\n",
       "    </tr>\n",
       "    <tr>\n",
       "      <th>2</th>\n",
       "      <td>Area Income</td>\n",
       "      <td>13</td>\n",
       "      <td>1.3</td>\n",
       "    </tr>\n",
       "    <tr>\n",
       "      <th>3</th>\n",
       "      <td>Daily Internet Usage</td>\n",
       "      <td>11</td>\n",
       "      <td>1.1</td>\n",
       "    </tr>\n",
       "    <tr>\n",
       "      <th>4</th>\n",
       "      <td>Male</td>\n",
       "      <td>3</td>\n",
       "      <td>0.3</td>\n",
       "    </tr>\n",
       "    <tr>\n",
       "      <th>1</th>\n",
       "      <td>Age</td>\n",
       "      <td>0</td>\n",
       "      <td>0.0</td>\n",
       "    </tr>\n",
       "    <tr>\n",
       "      <th>5</th>\n",
       "      <td>Timestamp</td>\n",
       "      <td>0</td>\n",
       "      <td>0.0</td>\n",
       "    </tr>\n",
       "    <tr>\n",
       "      <th>6</th>\n",
       "      <td>Clicked on Ad</td>\n",
       "      <td>0</td>\n",
       "      <td>0.0</td>\n",
       "    </tr>\n",
       "    <tr>\n",
       "      <th>7</th>\n",
       "      <td>city</td>\n",
       "      <td>0</td>\n",
       "      <td>0.0</td>\n",
       "    </tr>\n",
       "    <tr>\n",
       "      <th>8</th>\n",
       "      <td>province</td>\n",
       "      <td>0</td>\n",
       "      <td>0.0</td>\n",
       "    </tr>\n",
       "    <tr>\n",
       "      <th>9</th>\n",
       "      <td>category</td>\n",
       "      <td>0</td>\n",
       "      <td>0.0</td>\n",
       "    </tr>\n",
       "  </tbody>\n",
       "</table>\n",
       "</div>"
      ],
      "text/plain": [
       "                column_name  sum_missing  percent_missing\n",
       "0  Daily Time Spent on Site           13              1.3\n",
       "2               Area Income           13              1.3\n",
       "3      Daily Internet Usage           11              1.1\n",
       "4                      Male            3              0.3\n",
       "1                       Age            0              0.0\n",
       "5                 Timestamp            0              0.0\n",
       "6             Clicked on Ad            0              0.0\n",
       "7                      city            0              0.0\n",
       "8                  province            0              0.0\n",
       "9                  category            0              0.0"
      ]
     },
     "execution_count": 66,
     "metadata": {},
     "output_type": "execute_result"
    }
   ],
   "source": [
    "sum_missing = df.isna().sum()\n",
    "percent_missing = round(df.isnull().sum() *100 / len(df),2)\n",
    "missing_value_df = pd.DataFrame({'column_name': df.columns,\n",
    "                                 'sum_missing': sum_missing,\n",
    "                                 'percent_missing': percent_missing}).reset_index(drop=True).sort_values(by='sum_missing', ascending=False)\n",
    "missing_value_df"
   ]
  },
  {
   "cell_type": "code",
   "execution_count": 67,
   "metadata": {},
   "outputs": [],
   "source": [
    "from sklearn.impute import SimpleImputer"
   ]
  },
  {
   "cell_type": "code",
   "execution_count": 70,
   "metadata": {},
   "outputs": [],
   "source": [
    "miss_col = ['Daily Time Spent on Site','Daily Internet Usage','Area Income']\n",
    "df2 = df.copy()"
   ]
  },
  {
   "cell_type": "code",
   "execution_count": 71,
   "metadata": {},
   "outputs": [],
   "source": [
    "imputer = SimpleImputer(strategy= 'median')      \n",
    "imputer.fit(df2[miss_col])\n",
    "df2[miss_col] = imputer.transform(df2[miss_col])"
   ]
  },
  {
   "cell_type": "code",
   "execution_count": 72,
   "metadata": {},
   "outputs": [],
   "source": [
    "df2.dropna(subset=['Male'], inplace=True)"
   ]
  },
  {
   "cell_type": "code",
   "execution_count": 73,
   "metadata": {},
   "outputs": [
    {
     "data": {
      "text/plain": [
       "Daily Time Spent on Site    0\n",
       "Age                         0\n",
       "Area Income                 0\n",
       "Daily Internet Usage        0\n",
       "Male                        0\n",
       "Timestamp                   0\n",
       "Clicked on Ad               0\n",
       "city                        0\n",
       "province                    0\n",
       "category                    0\n",
       "dtype: int64"
      ]
     },
     "execution_count": 73,
     "metadata": {},
     "output_type": "execute_result"
    }
   ],
   "source": [
    "df2.isnull().sum()"
   ]
  },
  {
   "attachments": {},
   "cell_type": "markdown",
   "metadata": {},
   "source": [
    "### Feature Encoding"
   ]
  },
  {
   "cell_type": "code",
   "execution_count": 90,
   "metadata": {},
   "outputs": [],
   "source": [
    "df3 = df2.copy()"
   ]
  },
  {
   "cell_type": "code",
   "execution_count": 91,
   "metadata": {},
   "outputs": [],
   "source": [
    "object3 = df3.dtypes[df3.dtypes == \"object\"].index"
   ]
  },
  {
   "cell_type": "code",
   "execution_count": 93,
   "metadata": {},
   "outputs": [
    {
     "name": "stdout",
     "output_type": "stream",
     "text": [
      "Value count feature Male:\n",
      "Perempuan    518\n",
      "Laki-Laki    479\n",
      "Name: Male, dtype: int64\n",
      "\n",
      "Value count feature Clicked on Ad:\n",
      "Yes    499\n",
      "No     498\n",
      "Name: Clicked on Ad, dtype: int64\n",
      "\n",
      "Value count feature province:\n",
      "Daerah Khusus Ibukota Jakarta    253\n",
      "Jawa Barat                       209\n",
      "Jawa Timur                        90\n",
      "Banten                            76\n",
      "Jawa Tengah                       53\n",
      "Sumatra Utara                     47\n",
      "Sumatra Selatan                   42\n",
      "Kepulauan Riau                    34\n",
      "Kalimantan Timur                  34\n",
      "Sulawesi Selatan                  33\n",
      "Lampung                           29\n",
      "Kalimantan Selatan                23\n",
      "Riau                              23\n",
      "Bali                              20\n",
      "Sumatra Barat                     19\n",
      "Kalimantan Barat                  12\n",
      "Name: province, dtype: int64\n",
      "\n",
      "Value count feature category:\n",
      "Otomotif      111\n",
      "House         108\n",
      "Health        104\n",
      "Fashion       102\n",
      "Food           99\n",
      "Furniture      98\n",
      "Travel         98\n",
      "Electronic     96\n",
      "Finance        91\n",
      "Bank           90\n",
      "Name: category, dtype: int64\n",
      "\n"
     ]
    }
   ],
   "source": [
    "for col in object3:\n",
    "    print(f'''Value count feature {col}:''')\n",
    "    print(df3[col].value_counts())\n",
    "    print()"
   ]
  },
  {
   "cell_type": "code",
   "execution_count": 94,
   "metadata": {},
   "outputs": [],
   "source": [
    "from sklearn.preprocessing import LabelEncoder"
   ]
  },
  {
   "cell_type": "code",
   "execution_count": 95,
   "metadata": {},
   "outputs": [],
   "source": [
    "# Label Enconding\n",
    "le = LabelEncoder()\n",
    "to_label = ['Male','Clicked on Ad']\n",
    "for label in to_label:\n",
    "    df3[label]=df3[[label]].apply(le.fit_transform)"
   ]
  },
  {
   "cell_type": "code",
   "execution_count": 97,
   "metadata": {},
   "outputs": [],
   "source": [
    "# One-Hot Encoding\n",
    "to_onehot = ['province','category']\n",
    "for onehot in to_onehot:\n",
    "    onehots = pd.get_dummies(df3[onehot], prefix=onehot)\n",
    "    df3 = df3.join(onehots)\n",
    "# Drop feature yang sudah di encode\n",
    "df3 = df3.drop(columns=to_onehot).copy()"
   ]
  },
  {
   "attachments": {},
   "cell_type": "markdown",
   "metadata": {},
   "source": [
    "### Feature Scaling"
   ]
  },
  {
   "cell_type": "code",
   "execution_count": 98,
   "metadata": {},
   "outputs": [
    {
     "data": {
      "text/html": [
       "<div>\n",
       "<style scoped>\n",
       "    .dataframe tbody tr th:only-of-type {\n",
       "        vertical-align: middle;\n",
       "    }\n",
       "\n",
       "    .dataframe tbody tr th {\n",
       "        vertical-align: top;\n",
       "    }\n",
       "\n",
       "    .dataframe thead th {\n",
       "        text-align: right;\n",
       "    }\n",
       "</style>\n",
       "<table border=\"1\" class=\"dataframe\">\n",
       "  <thead>\n",
       "    <tr style=\"text-align: right;\">\n",
       "      <th></th>\n",
       "      <th>Daily Time Spent on Site</th>\n",
       "      <th>Age</th>\n",
       "      <th>Area Income</th>\n",
       "      <th>Daily Internet Usage</th>\n",
       "      <th>Male</th>\n",
       "      <th>Clicked on Ad</th>\n",
       "      <th>province_Bali</th>\n",
       "      <th>province_Banten</th>\n",
       "      <th>province_Daerah Khusus Ibukota Jakarta</th>\n",
       "      <th>province_Jawa Barat</th>\n",
       "      <th>province_Jawa Tengah</th>\n",
       "      <th>province_Jawa Timur</th>\n",
       "      <th>province_Kalimantan Barat</th>\n",
       "      <th>province_Kalimantan Selatan</th>\n",
       "      <th>province_Kalimantan Timur</th>\n",
       "      <th>province_Kepulauan Riau</th>\n",
       "      <th>province_Lampung</th>\n",
       "      <th>province_Riau</th>\n",
       "      <th>province_Sulawesi Selatan</th>\n",
       "      <th>province_Sumatra Barat</th>\n",
       "      <th>province_Sumatra Selatan</th>\n",
       "      <th>province_Sumatra Utara</th>\n",
       "      <th>category_Bank</th>\n",
       "      <th>category_Electronic</th>\n",
       "      <th>category_Fashion</th>\n",
       "      <th>category_Finance</th>\n",
       "      <th>category_Food</th>\n",
       "      <th>category_Furniture</th>\n",
       "      <th>category_Health</th>\n",
       "      <th>category_House</th>\n",
       "      <th>category_Otomotif</th>\n",
       "      <th>category_Travel</th>\n",
       "    </tr>\n",
       "  </thead>\n",
       "  <tbody>\n",
       "    <tr>\n",
       "      <th>216</th>\n",
       "      <td>61.57</td>\n",
       "      <td>53</td>\n",
       "      <td>246777860.0</td>\n",
       "      <td>125.94</td>\n",
       "      <td>0</td>\n",
       "      <td>1</td>\n",
       "      <td>0</td>\n",
       "      <td>0</td>\n",
       "      <td>0</td>\n",
       "      <td>1</td>\n",
       "      <td>0</td>\n",
       "      <td>0</td>\n",
       "      <td>0</td>\n",
       "      <td>0</td>\n",
       "      <td>0</td>\n",
       "      <td>0</td>\n",
       "      <td>0</td>\n",
       "      <td>0</td>\n",
       "      <td>0</td>\n",
       "      <td>0</td>\n",
       "      <td>0</td>\n",
       "      <td>0</td>\n",
       "      <td>0</td>\n",
       "      <td>0</td>\n",
       "      <td>0</td>\n",
       "      <td>0</td>\n",
       "      <td>0</td>\n",
       "      <td>0</td>\n",
       "      <td>1</td>\n",
       "      <td>0</td>\n",
       "      <td>0</td>\n",
       "      <td>0</td>\n",
       "    </tr>\n",
       "  </tbody>\n",
       "</table>\n",
       "</div>"
      ],
      "text/plain": [
       "     Daily Time Spent on Site  Age  Area Income  Daily Internet Usage  Male  \\\n",
       "216                     61.57   53  246777860.0                125.94     0   \n",
       "\n",
       "     Clicked on Ad  province_Bali  province_Banten  \\\n",
       "216              1              0                0   \n",
       "\n",
       "     province_Daerah Khusus Ibukota Jakarta  province_Jawa Barat  \\\n",
       "216                                       0                    1   \n",
       "\n",
       "     province_Jawa Tengah  province_Jawa Timur  province_Kalimantan Barat  \\\n",
       "216                     0                    0                          0   \n",
       "\n",
       "     province_Kalimantan Selatan  province_Kalimantan Timur  \\\n",
       "216                            0                          0   \n",
       "\n",
       "     province_Kepulauan Riau  province_Lampung  province_Riau  \\\n",
       "216                        0                 0              0   \n",
       "\n",
       "     province_Sulawesi Selatan  province_Sumatra Barat  \\\n",
       "216                          0                       0   \n",
       "\n",
       "     province_Sumatra Selatan  province_Sumatra Utara  category_Bank  \\\n",
       "216                         0                       0              0   \n",
       "\n",
       "     category_Electronic  category_Fashion  category_Finance  category_Food  \\\n",
       "216                    0                 0                 0              0   \n",
       "\n",
       "     category_Furniture  category_Health  category_House  category_Otomotif  \\\n",
       "216                   0                1               0                  0   \n",
       "\n",
       "     category_Travel  \n",
       "216                0  "
      ]
     },
     "execution_count": 98,
     "metadata": {},
     "output_type": "execute_result"
    }
   ],
   "source": [
    "df4 = df3.copy()\n",
    "df4.sample()"
   ]
  },
  {
   "cell_type": "code",
   "execution_count": 111,
   "metadata": {},
   "outputs": [],
   "source": [
    "from sklearn.preprocessing import StandardScaler\n",
    "from sklearn.preprocessing import MinMaxScaler"
   ]
  },
  {
   "cell_type": "code",
   "execution_count": 112,
   "metadata": {},
   "outputs": [],
   "source": [
    "scaler = MinMaxScaler()\n",
    "scaler.fit(df4)\n",
    "df4 = pd.DataFrame(scaler.transform(df4),columns= df4.columns)"
   ]
  },
  {
   "cell_type": "code",
   "execution_count": 113,
   "metadata": {},
   "outputs": [
    {
     "data": {
      "text/html": [
       "<div>\n",
       "<style scoped>\n",
       "    .dataframe tbody tr th:only-of-type {\n",
       "        vertical-align: middle;\n",
       "    }\n",
       "\n",
       "    .dataframe tbody tr th {\n",
       "        vertical-align: top;\n",
       "    }\n",
       "\n",
       "    .dataframe thead th {\n",
       "        text-align: right;\n",
       "    }\n",
       "</style>\n",
       "<table border=\"1\" class=\"dataframe\">\n",
       "  <thead>\n",
       "    <tr style=\"text-align: right;\">\n",
       "      <th></th>\n",
       "      <th>Daily Time Spent on Site</th>\n",
       "      <th>Age</th>\n",
       "      <th>Area Income</th>\n",
       "      <th>Daily Internet Usage</th>\n",
       "      <th>Male</th>\n",
       "      <th>Clicked on Ad</th>\n",
       "      <th>province_Bali</th>\n",
       "      <th>province_Banten</th>\n",
       "      <th>province_Daerah Khusus Ibukota Jakarta</th>\n",
       "      <th>province_Jawa Barat</th>\n",
       "      <th>province_Jawa Tengah</th>\n",
       "      <th>province_Jawa Timur</th>\n",
       "      <th>province_Kalimantan Barat</th>\n",
       "      <th>province_Kalimantan Selatan</th>\n",
       "      <th>province_Kalimantan Timur</th>\n",
       "      <th>province_Kepulauan Riau</th>\n",
       "      <th>province_Lampung</th>\n",
       "      <th>province_Riau</th>\n",
       "      <th>province_Sulawesi Selatan</th>\n",
       "      <th>province_Sumatra Barat</th>\n",
       "      <th>province_Sumatra Selatan</th>\n",
       "      <th>province_Sumatra Utara</th>\n",
       "      <th>category_Bank</th>\n",
       "      <th>category_Electronic</th>\n",
       "      <th>category_Fashion</th>\n",
       "      <th>category_Finance</th>\n",
       "      <th>category_Food</th>\n",
       "      <th>category_Furniture</th>\n",
       "      <th>category_Health</th>\n",
       "      <th>category_House</th>\n",
       "      <th>category_Otomotif</th>\n",
       "      <th>category_Travel</th>\n",
       "    </tr>\n",
       "  </thead>\n",
       "  <tbody>\n",
       "    <tr>\n",
       "      <th>240</th>\n",
       "      <td>0.806221</td>\n",
       "      <td>0.595238</td>\n",
       "      <td>0.153211</td>\n",
       "      <td>0.283918</td>\n",
       "      <td>1.0</td>\n",
       "      <td>1.0</td>\n",
       "      <td>0.0</td>\n",
       "      <td>1.0</td>\n",
       "      <td>0.0</td>\n",
       "      <td>0.0</td>\n",
       "      <td>0.0</td>\n",
       "      <td>0.0</td>\n",
       "      <td>0.0</td>\n",
       "      <td>0.0</td>\n",
       "      <td>0.0</td>\n",
       "      <td>0.0</td>\n",
       "      <td>0.0</td>\n",
       "      <td>0.0</td>\n",
       "      <td>0.0</td>\n",
       "      <td>0.0</td>\n",
       "      <td>0.0</td>\n",
       "      <td>0.0</td>\n",
       "      <td>0.0</td>\n",
       "      <td>0.0</td>\n",
       "      <td>0.0</td>\n",
       "      <td>0.0</td>\n",
       "      <td>0.0</td>\n",
       "      <td>0.0</td>\n",
       "      <td>1.0</td>\n",
       "      <td>0.0</td>\n",
       "      <td>0.0</td>\n",
       "      <td>0.0</td>\n",
       "    </tr>\n",
       "  </tbody>\n",
       "</table>\n",
       "</div>"
      ],
      "text/plain": [
       "     Daily Time Spent on Site       Age  Area Income  Daily Internet Usage  \\\n",
       "240                  0.806221  0.595238     0.153211              0.283918   \n",
       "\n",
       "     Male  Clicked on Ad  province_Bali  province_Banten  \\\n",
       "240   1.0            1.0            0.0              1.0   \n",
       "\n",
       "     province_Daerah Khusus Ibukota Jakarta  province_Jawa Barat  \\\n",
       "240                                     0.0                  0.0   \n",
       "\n",
       "     province_Jawa Tengah  province_Jawa Timur  province_Kalimantan Barat  \\\n",
       "240                   0.0                  0.0                        0.0   \n",
       "\n",
       "     province_Kalimantan Selatan  province_Kalimantan Timur  \\\n",
       "240                          0.0                        0.0   \n",
       "\n",
       "     province_Kepulauan Riau  province_Lampung  province_Riau  \\\n",
       "240                      0.0               0.0            0.0   \n",
       "\n",
       "     province_Sulawesi Selatan  province_Sumatra Barat  \\\n",
       "240                        0.0                     0.0   \n",
       "\n",
       "     province_Sumatra Selatan  province_Sumatra Utara  category_Bank  \\\n",
       "240                       0.0                     0.0            0.0   \n",
       "\n",
       "     category_Electronic  category_Fashion  category_Finance  category_Food  \\\n",
       "240                  0.0               0.0               0.0            0.0   \n",
       "\n",
       "     category_Furniture  category_Health  category_House  category_Otomotif  \\\n",
       "240                 0.0              1.0             0.0                0.0   \n",
       "\n",
       "     category_Travel  \n",
       "240              0.0  "
      ]
     },
     "execution_count": 113,
     "metadata": {},
     "output_type": "execute_result"
    }
   ],
   "source": [
    "df4.sample()"
   ]
  },
  {
   "attachments": {},
   "cell_type": "markdown",
   "metadata": {},
   "source": [
    "### Feature Selection"
   ]
  },
  {
   "cell_type": "code",
   "execution_count": 114,
   "metadata": {},
   "outputs": [
    {
     "data": {
      "application/vnd.plotly.v1+json": {
       "config": {
        "plotlyServerURL": "https://plot.ly"
       },
       "data": [
        {
         "coloraxis": "coloraxis",
         "hovertemplate": "x: %{x}<br>y: %{y}<br>color: %{z}<extra></extra>",
         "name": "0",
         "texttemplate": "%{z:.2f}",
         "type": "heatmap",
         "x": [
          "Daily Time Spent on Site",
          "Age",
          "Area Income",
          "Daily Internet Usage",
          "Male",
          "Clicked on Ad",
          "province_Bali",
          "province_Banten",
          "province_Daerah Khusus Ibukota Jakarta",
          "province_Jawa Barat",
          "province_Jawa Tengah",
          "province_Jawa Timur",
          "province_Kalimantan Barat",
          "province_Kalimantan Selatan",
          "province_Kalimantan Timur",
          "province_Kepulauan Riau",
          "province_Lampung",
          "province_Riau",
          "province_Sulawesi Selatan",
          "province_Sumatra Barat",
          "province_Sumatra Selatan",
          "province_Sumatra Utara",
          "category_Bank",
          "category_Electronic",
          "category_Fashion",
          "category_Finance",
          "category_Food",
          "category_Furniture",
          "category_Health",
          "category_House",
          "category_Otomotif",
          "category_Travel"
         ],
         "xaxis": "x",
         "y": [
          "Daily Time Spent on Site",
          "Age",
          "Area Income",
          "Daily Internet Usage",
          "Male",
          "Clicked on Ad",
          "province_Bali",
          "province_Banten",
          "province_Daerah Khusus Ibukota Jakarta",
          "province_Jawa Barat",
          "province_Jawa Tengah",
          "province_Jawa Timur",
          "province_Kalimantan Barat",
          "province_Kalimantan Selatan",
          "province_Kalimantan Timur",
          "province_Kepulauan Riau",
          "province_Lampung",
          "province_Riau",
          "province_Sulawesi Selatan",
          "province_Sumatra Barat",
          "province_Sumatra Selatan",
          "province_Sumatra Utara",
          "category_Bank",
          "category_Electronic",
          "category_Fashion",
          "category_Finance",
          "category_Food",
          "category_Furniture",
          "category_Health",
          "category_House",
          "category_Otomotif",
          "category_Travel"
         ],
         "yaxis": "y",
         "z": [
          [
           1,
           -0.32866955996227415,
           0.30427986685891417,
           0.5136129796982715,
           0.01981225805578365,
           -0.7413456794685143,
           -0.019996669274758277,
           -0.04727272818009097,
           0.07283675719560204,
           -0.028850726162350564,
           0.00939143142791934,
           0.0016655845333189473,
           0.016132540519462214,
           -0.05122193884793356,
           0.046807485058018065,
           0.005407106873443706,
           0.031142973989059075,
           -0.03410657307283283,
           -0.0010475387771855585,
           -0.02306310822589926,
           -0.013961282287582,
           -0.022189178258500336,
           0.054621538851740835,
           -0.013586658791457292,
           0.01834877626985535,
           -0.05628006485869504,
           -0.005166473096439812,
           -0.001073897957519967,
           0.0024187211744117463,
           -0.00030932653606999147,
           -0.00802700646215522,
           0.009235188716577108
          ],
          [
           -0.32866955996227415,
           1,
           -0.1794699726547223,
           -0.37114935292879403,
           0.020530202339066557,
           0.4938996180543105,
           -0.04140032828247318,
           -0.0258328230895179,
           -0.011267572215648192,
           0.04207264381726483,
           -0.009717473700686685,
           0.001786701317482747,
           -0.046612876830042206,
           0.03738471314723442,
           -0.038625453104587294,
           -0.028548698649277608,
           0.025074823610313837,
           0.0008377633714485026,
           0.00556458077906052,
           0.037834728817186615,
           0.006462392227466672,
           0.00925544735929832,
           -0.027729476425741768,
           0.05240535269343454,
           0.033195090836763266,
           -0.028004324221659018,
           -0.054606775471744425,
           0.028091355080887576,
           -0.037046329815922964,
           0.0058018818349517085,
           0.02567651780316699,
           -0.00032001200970859883
          ],
          [
           0.30427986685891417,
           -0.1794699726547223,
           1,
           0.33339121176923164,
           -0.004672825167857195,
           -0.4750722589434773,
           0.08629429754013143,
           -0.07635053043272508,
           -0.0007829248222123433,
           -0.03964290093830692,
           -0.003723160106735946,
           0.049478138810629235,
           -0.006932600227824917,
           0.02880023569210948,
           0.04817120701211291,
           -0.02947042366620298,
           0.002182680751245847,
           -0.01938269547993489,
           0.007760234816406355,
           0.03526610536351544,
           0.025564988754728037,
           -0.0210861140378995,
           0.09153646832692361,
           0.012446990265722447,
           -0.049235113704864435,
           -0.04989254688532891,
           0.031129723394933074,
           0.02705500862954075,
           -0.01483778288243711,
           -0.016905859099596417,
           -0.0011382414963765583,
           -0.026301268256183247
          ],
          [
           0.5136129796982715,
           -0.37114935292879403,
           0.33339121176923164,
           1,
           -0.027967103153146784,
           -0.7858348733547801,
           0.04363272310248537,
           -0.046292606049721165,
           0.03597262889306489,
           -0.080305784642174,
           0.06154729218193641,
           0.05027278180535224,
           0.019193627272132596,
           -0.05564074871108381,
           0.035494141253934276,
           0.007420278230534932,
           0.013326448789963228,
           -0.022733859542660155,
           -0.014698679696257056,
           -0.014329556105629615,
           0.01975518059309143,
           -0.022406896670935494,
           0.029220057099442347,
           0.023572925494380975,
           -0.02788946809074709,
           0.0009547449853616461,
           0.011212236795857368,
           -0.0030129029571301807,
           0.014686402461975908,
           -0.016266045970400378,
           -0.01566856867350556,
           -0.013811279776353548
          ],
          [
           0.01981225805578365,
           0.020530202339066557,
           -0.004672825167857195,
           -0.027967103153146784,
           1,
           0.03509295785518154,
           -0.005601053110303529,
           -0.0036802090653869396,
           -0.015908400186108524,
           -0.03249108809814557,
           -0.013749984125442838,
           0.06472862691697112,
           0.03249909691435769,
           -0.026074754465778928,
           -0.06266274986867389,
           -0.007355772514683165,
           0.046981570265888284,
           0.027416048419779838,
           -0.024075907223440527,
           0.016568136273877175,
           0.021772126718781235,
           0.024445358910132175,
           -0.012331604454980875,
           0.04847176836005178,
           -0.006591244653112286,
           -0.0019506833258185713,
           -0.01635456934483481,
           -0.04664141661250266,
           0.01947943198659971,
           0.031571921664447264,
           0.046776542796815285,
           -0.06687118417166686
          ],
          [
           -0.7413456794685143,
           0.4938996180543105,
           -0.4750722589434773,
           -0.7858348733547801,
           0.03509295785518154,
           1,
           -0.014451144600291217,
           0.0526284390329869,
           -0.048987952548144774,
           0.066015010449885,
           -0.03153261514337583,
           -0.028316422232446917,
           -0.01850662609168658,
           0.0332520499056755,
           -0.06650607467858938,
           -0.00018846528913749695,
           -0.006142083882571081,
           0.006527105322073354,
           0.005421089871860726,
           0.02186792810334698,
           0.009775940339168725,
           0.004509391416392751,
           -0.04231665678030194,
           -0.0003273997030512438,
           0.03275839365012792,
           0.04495715415619219,
           -0.0036868871834772974,
           -0.027283552739330044,
           -0.02659340954278653,
           0.01901412059737661,
           0.015588783827744755,
           -0.01380735651385961
          ],
          [
           -0.019996669274758277,
           -0.04140032828247318,
           0.08629429754013143,
           0.04363272310248537,
           -0.005601053110303529,
           -0.014451144600291217,
           1,
           -0.041100272093219294,
           -0.08343370101777967,
           -0.0736847730598323,
           -0.033901557708739864,
           -0.04506976848243831,
           -0.01579211230291068,
           -0.021986300302765,
           -0.026884008926539006,
           -0.026884008926539027,
           -0.024764469912148198,
           -0.02198630030276501,
           -0.026471964330232214,
           -0.01994229282842294,
           -0.030004795792593367,
           -0.03182400560687565,
           -0.04506976848243831,
           0.026051286742717953,
           -0.0010891406021801954,
           0.02917492984380599,
           0.07209853347522971,
           -0.04723902311090132,
           -0.0020188022145124877,
           -0.003832507823893476,
           -0.005155464599991423,
           -0.023209785334590848
          ],
          [
           -0.04727272818009097,
           -0.0258328230895179,
           -0.07635053043272508,
           -0.046292606049721165,
           -0.0036802090653869396,
           0.0526284390329869,
           -0.041100272093219294,
           1,
           -0.16751387069314166,
           -0.1479404772391424,
           -0.0680657945775143,
           -0.09048875068035332,
           -0.03170658649935259,
           -0.0441429568748618,
           -0.05397632299775174,
           -0.053976322997751854,
           -0.04972082216230305,
           -0.044142956874861736,
           -0.0531490411633905,
           -0.0400391043599196,
           -0.06024207749700006,
           -0.06389459289396705,
           -0.011350781883588174,
           -0.042513893241778004,
           0.027746827042440168,
           -0.02541914084644601,
           -0.03218624583121142,
           -0.018668287274714337,
           0.025624258498140415,
           0.057978696190149476,
           0.006472310207192169,
           0.006723639618723831
          ],
          [
           0.07283675719560204,
           -0.011267572215648192,
           -0.0007829248222123433,
           0.03597262889306489,
           -0.015908400186108524,
           -0.048987952548144774,
           -0.08343370101777967,
           -0.16751387069314166,
           1,
           -0.3003197039280578,
           -0.1381738092010062,
           -0.18369249119843525,
           -0.06436448528324434,
           -0.08961036213056058,
           -0.10957213092943222,
           -0.10957213092943238,
           -0.10093344884040767,
           -0.08961036213056049,
           -0.10789274581322228,
           -0.08127952668070876,
           -0.12229163522749101,
           -0.12970625469526956,
           0.025428139317411884,
           0.004992231220661291,
           -0.014326406047546725,
           -0.04875770598931775,
           -0.000943099113626941,
           0.047469513819317924,
           -0.04819329715551722,
           -0.010428900573915314,
           0.006100325570900375,
           0.03972747140514157
          ],
          [
           -0.028850726162350564,
           0.04207264381726483,
           -0.03964290093830692,
           -0.080305784642174,
           -0.03249108809814557,
           0.066015010449885,
           -0.0736847730598323,
           -0.1479404772391424,
           -0.3003197039280578,
           1,
           -0.12202869643310077,
           -0.1622286841125217,
           -0.05684372661591643,
           -0.07913971353125837,
           -0.09676902142333259,
           -0.09676902142333264,
           -0.08913973827394704,
           -0.07913971353125843,
           -0.09528586641931784,
           -0.07178230624819505,
           -0.10800229738020643,
           -0.1145505452242263,
           0.0011470715038258991,
           -0.026098995180451116,
           0.03754805623411435,
           -0.0263204147919401,
           0.07618891652236723,
           -0.037607032593838755,
           0.04997005462510906,
           -0.005073663599469214,
           -0.009939760574179501,
           -0.062437636233611725
          ],
          [
           0.00939143142791934,
           -0.009717473700686685,
           -0.003723160106735946,
           0.06154729218193641,
           -0.013749984125442838,
           -0.03153261514337583,
           -0.033901557708739864,
           -0.0680657945775143,
           -0.1381738092010062,
           -0.12202869643310077,
           1,
           -0.07463964219565046,
           -0.026153176541434415,
           -0.03641131612300043,
           -0.044522367756191936,
           -0.044522367756191894,
           -0.04101221807092117,
           -0.036411316123000484,
           -0.0438399843698879,
           -0.03302625354852608,
           -0.04969067509156127,
           -0.05270345226324244,
           -0.012236519957442085,
           0.028745481315438966,
           -0.020981701074440282,
           0.0490925107392912,
           -0.03382668176925889,
           0.02688570349594169,
           0.006894956441548948,
           -0.02504742187404579,
           -0.0554415879600984,
           0.041902536204879486
          ],
          [
           0.0016655845333189473,
           0.001786701317482747,
           0.049478138810629235,
           0.05027278180535224,
           0.06472862691697112,
           -0.028316422232446917,
           -0.04506976848243831,
           -0.09048875068035332,
           -0.18369249119843525,
           -0.1622286841125217,
           -0.07463964219565046,
           1,
           -0.03476883339490062,
           -0.04840631813745355,
           -0.05918939844301719,
           -0.05918939844301723,
           -0.054522898012180875,
           -0.04840631813745353,
           -0.058282217082761906,
           -0.0439061123403967,
           -0.06606030440705596,
           -0.07006558259466675,
           -0.02594634325615582,
           0.003962974914263528,
           0.009151464292408897,
           -0.03906774466211676,
           0.012443002872512439,
           -0.021708809446068317,
           -0.004444712430312665,
           0.01408571175827444,
           -0.00022321673277716895,
           0.04883008143192227
          ],
          [
           0.016132540519462214,
           -0.046612876830042206,
           -0.006932600227824917,
           0.019193627272132596,
           0.03249909691435769,
           -0.01850662609168658,
           -0.01579211230291068,
           -0.03170658649935259,
           -0.06436448528324434,
           -0.05684372661591643,
           -0.026153176541434415,
           -0.03476883339490062,
           1,
           -0.016961214533306436,
           -0.020739525824679472,
           -0.0207395258246795,
           -0.019104418715263943,
           -0.016961214533306433,
           -0.020421656210464788,
           -0.015384375829086725,
           -0.02314704026862694,
           -0.02455046001256898,
           -0.0026720492331266566,
           -0.03602846246912501,
           -0.00691043705352341,
           -0.03498074906752152,
           0.08637608732636612,
           -0.03644229335060314,
           0.05260732870407938,
           0.050315084459448094,
           -0.039067636319965786,
           -0.036442293350603214
          ],
          [
           -0.05122193884793356,
           0.03738471314723442,
           0.02880023569210948,
           -0.05564074871108381,
           -0.026074754465778928,
           0.0332520499056755,
           -0.021986300302765,
           -0.0441429568748618,
           -0.08961036213056058,
           -0.07913971353125837,
           -0.03641131612300043,
           -0.04840631813745355,
           -0.016961214533306436,
           1,
           -0.028874252802413833,
           -0.028874252802413805,
           -0.02659780268318757,
           -0.023613963039014373,
           -0.028431704227454658,
           -0.021418636117890112,
           -0.03222607392251296,
           -0.03417996123975617,
           -0.0017772368011818773,
           0.04043696888455308,
           0.014262797447885854,
           0.020895277598578225,
           -0.028682090881485833,
           0.01658942019978801,
           -0.052441533124813956,
           0.032429606693543535,
           -0.03315032922569015,
           -0.005852441318785454
          ],
          [
           0.046807485058018065,
           -0.038625453104587294,
           0.04817120701211291,
           0.035494141253934276,
           -0.06266274986867389,
           -0.06650607467858938,
           -0.026884008926539006,
           -0.05397632299775174,
           -0.10957213092943222,
           -0.09676902142333259,
           -0.044522367756191936,
           -0.05918939844301719,
           -0.020739525824679472,
           -0.028874252802413833,
           1,
           -0.03530633437175496,
           -0.03252277804425381,
           -0.028874252802413836,
           -0.0347652028636888,
           -0.02618989082557162,
           -0.03940481331873704,
           -0.041793952162238183,
           0.0179502489395817,
           -0.0051299370154737015,
           0.009511283746567515,
           0.036396039841234094,
           -0.043909318133128955,
           -0.024912116583461045,
           0.008196782921128314,
           0.005636009575608257,
           -0.013798466058545338,
           0.012214012315957
          ],
          [
           0.005407106873443706,
           -0.028548698649277608,
           -0.02947042366620298,
           0.007420278230534932,
           -0.007355772514683165,
           -0.00018846528913749695,
           -0.026884008926539027,
           -0.053976322997751854,
           -0.10957213092943238,
           -0.09676902142333264,
           -0.044522367756191894,
           -0.05918939844301723,
           -0.0207395258246795,
           -0.028874252802413805,
           -0.03530633437175496,
           1,
           -0.032522778044253804,
           -0.02887425280241386,
           -0.03476520286368881,
           -0.02618989082557168,
           -0.039404813318736964,
           -0.041793952162238183,
           0.05652007263088116,
           -0.023864542159895887,
           -0.026960831235462494,
           -0.021171678384641762,
           -0.025429963899811257,
           -0.0063490521337520025,
           0.008196782921128323,
           0.005636009575608257,
           0.0037712282714287147,
           0.03077707676566605
          ],
          [
           0.031142973989059075,
           0.025074823610313837,
           0.002182680751245847,
           0.013326448789963228,
           0.046981570265888284,
           -0.006142083882571081,
           -0.024764469912148198,
           -0.04972082216230305,
           -0.10093344884040767,
           -0.08913973827394704,
           -0.04101221807092117,
           -0.054522898012180875,
           -0.019104418715263943,
           -0.02659780268318757,
           -0.03252277804425381,
           -0.032522778044253804,
           1,
           -0.02659780268318755,
           -0.03202430941977762,
           -0.024125076179098353,
           -0.03629813233927179,
           -0.038498911143039556,
           -0.012868239530844256,
           0.0042008353109658225,
           0.059735637889653595,
           0.007316800115218706,
           -0.017555255319740354,
           0.0029961027767565363,
           -0.02001574774756302,
           -0.021920114897006383,
           0.014635626299986168,
           -0.017051645333486933
          ],
          [
           -0.03410657307283283,
           0.0008377633714485026,
           -0.01938269547993489,
           -0.022733859542660155,
           0.027416048419779838,
           0.006527105322073354,
           -0.02198630030276501,
           -0.044142956874861736,
           -0.08961036213056049,
           -0.07913971353125843,
           -0.036411316123000484,
           -0.04840631813745353,
           -0.016961214533306433,
           -0.023613963039014373,
           -0.028874252802413836,
           -0.02887425280241386,
           -0.02659780268318755,
           1,
           -0.02843170422745466,
           -0.02141863611789012,
           -0.03222607392251297,
           -0.034179961239756265,
           -0.025091777469317678,
           0.0404369688845531,
           -0.02983025388712871,
           -0.002303599646168417,
           -0.028682090881485805,
           -0.005852441318785455,
           0.013132306999065027,
           -0.010565496861593297,
           0.051813368044266304,
           -0.005852441318785449
          ],
          [
           -0.0010475387771855585,
           0.00556458077906052,
           0.007760234816406355,
           -0.014698679696257056,
           -0.024075907223440527,
           0.005421089871860726,
           -0.026471964330232214,
           -0.0531490411633905,
           -0.10789274581322228,
           -0.09528586641931784,
           -0.0438399843698879,
           -0.058282217082761906,
           -0.020421656210464788,
           -0.028431704227454658,
           -0.0347652028636888,
           -0.03476520286368881,
           -0.03202430941977762,
           -0.02843170422745466,
           1,
           -0.025788484806773326,
           -0.03880086543132074,
           -0.04115338653105538,
           0.0004120964844235422,
           -0.02238074803960248,
           -0.02545933296490138,
           0.07763652600910426,
           -0.02393740959641433,
           -0.004590055142941705,
           0.010229087782692336,
           -0.02840804892788279,
           0.041459772187578396,
           -0.023422503610072854
          ],
          [
           -0.02306310822589926,
           0.037834728817186615,
           0.03526610536351544,
           -0.014329556105629615,
           0.016568136273877175,
           0.02186792810334698,
           -0.01994229282842294,
           -0.0400391043599196,
           -0.08127952668070876,
           -0.07178230624819505,
           -0.03302625354852608,
           -0.0439061123403967,
           -0.015384375829086725,
           -0.021418636117890112,
           -0.02618989082557162,
           -0.02618989082557168,
           -0.024125076179098353,
           -0.02141863611789012,
           -0.025788484806773326,
           1,
           -0.029230102110100627,
           -0.03100234175468093,
           -0.01830705151970928,
           0.004240379062978675,
           -0.022847137322191496,
           0.03224247205048309,
           0.002780202630945093,
           0.0279032525799819,
           -0.04756618419402565,
           0.022230877530888933,
           -0.002690129965573007,
           0.0032623820554097314
          ],
          [
           -0.013961282287582,
           0.006462392227466672,
           0.025564988754728037,
           0.01975518059309143,
           0.021772126718781235,
           0.009775940339168725,
           -0.030004795792593367,
           -0.06024207749700006,
           -0.12229163522749101,
           -0.10800229738020643,
           -0.04969067509156127,
           -0.06606030440705596,
           -0.02314704026862694,
           -0.03222607392251296,
           -0.03940481331873704,
           -0.039404813318736964,
           -0.03629813233927179,
           -0.03222607392251297,
           -0.03880086543132074,
           -0.029230102110100627,
           1,
           -0.046645535768865466,
           -0.01378877782464739,
           0.0331062711982397,
           -0.004891631990246592,
           0.020224071347857517,
           -0.05293493683809983,
           0.031390080157054426,
           -0.006226082434604713,
           0.023301249156457857,
           -0.026605521042435566,
           -0.002153231650644662
          ],
          [
           -0.022189178258500336,
           0.00925544735929832,
           -0.0210861140378995,
           -0.022406896670935494,
           0.024445358910132175,
           0.004509391416392751,
           -0.03182400560687565,
           -0.06389459289396705,
           -0.12970625469526956,
           -0.1145505452242263,
           -0.05270345226324244,
           -0.07006558259466675,
           -0.02455046001256898,
           -0.03417996123975617,
           -0.041793952162238183,
           -0.041793952162238183,
           -0.038498911143039556,
           -0.034179961239756265,
           -0.04115338653105538,
           -0.03100234175468093,
           -0.046645535768865466,
           1,
           0.02902007108885489,
           0.007611187084472681,
           -0.04385667436368388,
           0.044533806530819765,
           0.005269526422056179,
           0.02193889848398621,
           0.001506324720992335,
           -0.07752613329652762,
           0.056680869215820766,
           -0.041645641598962196
          ],
          [
           0.054621538851740835,
           -0.027729476425741768,
           0.09153646832692361,
           0.029220057099442347,
           -0.012331604454980875,
           -0.04231665678030194,
           -0.04506976848243831,
           -0.011350781883588174,
           0.025428139317411884,
           0.0011470715038258991,
           -0.012236519957442085,
           -0.02594634325615582,
           -0.0026720492331266566,
           -0.0017772368011818773,
           0.0179502489395817,
           0.05652007263088116,
           -0.012868239530844256,
           -0.025091777469317678,
           0.0004120964844235422,
           -0.01830705151970928,
           -0.01378877782464739,
           0.02902007108885489,
           1,
           -0.10282313291062395,
           -0.10634233190419481,
           -0.09983301990100972,
           -0.10459165622083565,
           -0.1040041821370574,
           -0.10750002157035261,
           -0.10979400023290109,
           -0.11149675802219436,
           -0.1040041821370575
          ],
          [
           -0.013586658791457292,
           0.05240535269343454,
           0.012446990265722447,
           0.023572925494380975,
           0.04847176836005178,
           -0.0003273997030512438,
           0.026051286742717953,
           -0.042513893241778004,
           0.004992231220661291,
           -0.026098995180451116,
           0.028745481315438966,
           0.003962974914263528,
           -0.03602846246912501,
           0.04043696888455308,
           -0.0051299370154737015,
           -0.023864542159895887,
           0.0042008353109658225,
           0.0404369688845531,
           -0.02238074803960248,
           0.004240379062978675,
           0.0331062711982397,
           0.007611187084472681,
           -0.10282313291062395,
           1,
           -0.11019497463068292,
           -0.10344983882060509,
           -0.10838087427140075,
           -0.10777211677474842,
           -0.11139460586979655,
           -0.11377169236015687,
           -0.11553613882313679,
           -0.1077721167747488
          ],
          [
           0.01834877626985535,
           0.033195090836763266,
           -0.049235113704864435,
           -0.02788946809074709,
           -0.006591244653112286,
           0.03275839365012792,
           -0.0010891406021801954,
           0.027746827042440168,
           -0.014326406047546725,
           0.03754805623411435,
           -0.020981701074440282,
           0.009151464292408897,
           -0.00691043705352341,
           0.014262797447885854,
           0.009511283746567515,
           -0.026960831235462494,
           0.059735637889653595,
           -0.02983025388712871,
           -0.02545933296490138,
           -0.022847137322191496,
           -0.004891631990246592,
           -0.04385667436368388,
           -0.10634233190419481,
           -0.11019497463068292,
           1,
           -0.1069904872949034,
           -0.11209029113958541,
           -0.11146069846014026,
           -0.11520716996670051,
           -0.11766561402853054,
           -0.11949044999765522,
           -0.11146069846014037
          ],
          [
           -0.05628006485869504,
           -0.028004324221659018,
           -0.04989254688532891,
           0.0009547449853616461,
           -0.0019506833258185713,
           0.04495715415619219,
           0.02917492984380599,
           -0.02541914084644601,
           -0.04875770598931775,
           -0.0263204147919401,
           0.0490925107392912,
           -0.03906774466211676,
           -0.03498074906752152,
           0.020895277598578225,
           0.036396039841234094,
           -0.021171678384641762,
           0.007316800115218706,
           -0.002303599646168417,
           0.07763652600910426,
           0.03224247205048309,
           0.020224071347857517,
           0.044533806530819765,
           -0.09983301990100972,
           -0.10344983882060509,
           -0.1069904872949034,
           1,
           -0.1052291412617294,
           -0.10463808652961006,
           -0.10815523306735916,
           -0.11046319350564712,
           -0.11217632958569689,
           -0.10463808652961
          ],
          [
           -0.005166473096439812,
           -0.054606775471744425,
           0.031129723394933074,
           0.011212236795857368,
           -0.01635456934483481,
           -0.0036868871834772974,
           0.07209853347522971,
           -0.03218624583121142,
           -0.000943099113626941,
           0.07618891652236723,
           -0.03382668176925889,
           0.012443002872512439,
           0.08637608732636612,
           -0.028682090881485833,
           -0.043909318133128955,
           -0.025429963899811257,
           -0.017555255319740354,
           -0.028682090881485805,
           -0.02393740959641433,
           0.002780202630945093,
           -0.05293493683809983,
           0.005269526422056179,
           -0.10459165622083565,
           -0.10838087427140075,
           -0.11209029113958541,
           -0.1052291412617294,
           1,
           -0.10962576094325215,
           -0.1133105556326176,
           -0.11572852721128024,
           -0.1175233215601014,
           -0.10962576094325217
          ],
          [
           -0.001073897957519967,
           0.028091355080887576,
           0.02705500862954075,
           -0.0030129029571301807,
           -0.04664141661250266,
           -0.027283552739330044,
           -0.04723902311090132,
           -0.018668287274714337,
           0.047469513819317924,
           -0.037607032593838755,
           0.02688570349594169,
           -0.021708809446068317,
           -0.03644229335060314,
           0.01658942019978801,
           -0.024912116583461045,
           -0.0063490521337520025,
           0.0029961027767565363,
           -0.005852441318785455,
           -0.004590055142941705,
           0.0279032525799819,
           0.031390080157054426,
           0.02193889848398621,
           -0.1040041821370574,
           -0.10777211677474842,
           -0.11146069846014026,
           -0.10463808652961006,
           -0.10962576094325215,
           1,
           -0.11267410892876052,
           -0.1150784991598366,
           -0.11686321244479737,
           -0.10901001112347052
          ],
          [
           0.0024187211744117463,
           -0.037046329815922964,
           -0.01483778288243711,
           0.014686402461975908,
           0.01947943198659971,
           -0.02659340954278653,
           -0.0020188022145124877,
           0.025624258498140415,
           -0.04819329715551722,
           0.04997005462510906,
           0.006894956441548948,
           -0.004444712430312665,
           0.05260732870407938,
           -0.052441533124813956,
           0.008196782921128314,
           0.008196782921128323,
           -0.02001574774756302,
           0.013132306999065027,
           0.010229087782692336,
           -0.04756618419402565,
           -0.006226082434604713,
           0.001506324720992335,
           -0.10750002157035261,
           -0.11139460586979655,
           -0.11520716996670051,
           -0.10815523306735916,
           -0.1133105556326176,
           -0.11267410892876052,
           1,
           -0.11894657395280255,
           -0.12079127589351239,
           -0.1126741089287605
          ],
          [
           -0.00030932653606999147,
           0.0058018818349517085,
           -0.016905859099596417,
           -0.016266045970400378,
           0.031571921664447264,
           0.01901412059737661,
           -0.003832507823893476,
           0.057978696190149476,
           -0.010428900573915314,
           -0.005073663599469214,
           -0.02504742187404579,
           0.01408571175827444,
           0.050315084459448094,
           0.032429606693543535,
           0.005636009575608257,
           0.005636009575608257,
           -0.021920114897006383,
           -0.010565496861593297,
           -0.02840804892788279,
           0.022230877530888933,
           0.023301249156457857,
           -0.07752613329652762,
           -0.10979400023290109,
           -0.11377169236015687,
           -0.11766561402853054,
           -0.11046319350564712,
           -0.11572852721128024,
           -0.1150784991598366,
           -0.11894657395280255,
           1,
           -0.12336888104627405,
           -0.115078499159837
          ],
          [
           -0.00802700646215522,
           0.02567651780316699,
           -0.0011382414963765583,
           -0.01566856867350556,
           0.046776542796815285,
           0.015588783827744755,
           -0.005155464599991423,
           0.006472310207192169,
           0.006100325570900375,
           -0.009939760574179501,
           -0.0554415879600984,
           -0.00022321673277716895,
           -0.039067636319965786,
           -0.03315032922569015,
           -0.013798466058545338,
           0.0037712282714287147,
           0.014635626299986168,
           0.051813368044266304,
           0.041459772187578396,
           -0.002690129965573007,
           -0.026605521042435566,
           0.056680869215820766,
           -0.11149675802219436,
           -0.11553613882313679,
           -0.11949044999765522,
           -0.11217632958569689,
           -0.1175233215601014,
           -0.11686321244479737,
           -0.12079127589351239,
           -0.12336888104627405,
           1,
           -0.11686321244479728
          ],
          [
           0.009235188716577108,
           -0.00032001200970859883,
           -0.026301268256183247,
           -0.013811279776353548,
           -0.06687118417166686,
           -0.01380735651385961,
           -0.023209785334590848,
           0.006723639618723831,
           0.03972747140514157,
           -0.062437636233611725,
           0.041902536204879486,
           0.04883008143192227,
           -0.036442293350603214,
           -0.005852441318785454,
           0.012214012315957,
           0.03077707676566605,
           -0.017051645333486933,
           -0.005852441318785449,
           -0.023422503610072854,
           0.0032623820554097314,
           -0.002153231650644662,
           -0.041645641598962196,
           -0.1040041821370575,
           -0.1077721167747488,
           -0.11146069846014037,
           -0.10463808652961,
           -0.10962576094325217,
           -0.10901001112347052,
           -0.1126741089287605,
           -0.115078499159837,
           -0.11686321244479728,
           1
          ]
         ]
        }
       ],
       "layout": {
        "coloraxis": {
         "colorscale": [
          [
           0,
           "rgb(3, 5, 18)"
          ],
          [
           0.09090909090909091,
           "rgb(25, 25, 51)"
          ],
          [
           0.18181818181818182,
           "rgb(44, 42, 87)"
          ],
          [
           0.2727272727272727,
           "rgb(58, 60, 125)"
          ],
          [
           0.36363636363636365,
           "rgb(62, 83, 160)"
          ],
          [
           0.45454545454545453,
           "rgb(62, 109, 178)"
          ],
          [
           0.5454545454545454,
           "rgb(72, 134, 187)"
          ],
          [
           0.6363636363636364,
           "rgb(89, 159, 196)"
          ],
          [
           0.7272727272727273,
           "rgb(114, 184, 205)"
          ],
          [
           0.8181818181818182,
           "rgb(149, 207, 216)"
          ],
          [
           0.9090909090909091,
           "rgb(192, 229, 232)"
          ],
          [
           1,
           "rgb(234, 252, 253)"
          ]
         ]
        },
        "height": 1000,
        "margin": {
         "t": 60
        },
        "template": {
         "data": {
          "bar": [
           {
            "error_x": {
             "color": "#f2f5fa"
            },
            "error_y": {
             "color": "#f2f5fa"
            },
            "marker": {
             "line": {
              "color": "rgb(17,17,17)",
              "width": 0.5
             },
             "pattern": {
              "fillmode": "overlay",
              "size": 10,
              "solidity": 0.2
             }
            },
            "type": "bar"
           }
          ],
          "barpolar": [
           {
            "marker": {
             "line": {
              "color": "rgb(17,17,17)",
              "width": 0.5
             },
             "pattern": {
              "fillmode": "overlay",
              "size": 10,
              "solidity": 0.2
             }
            },
            "type": "barpolar"
           }
          ],
          "carpet": [
           {
            "aaxis": {
             "endlinecolor": "#A2B1C6",
             "gridcolor": "#506784",
             "linecolor": "#506784",
             "minorgridcolor": "#506784",
             "startlinecolor": "#A2B1C6"
            },
            "baxis": {
             "endlinecolor": "#A2B1C6",
             "gridcolor": "#506784",
             "linecolor": "#506784",
             "minorgridcolor": "#506784",
             "startlinecolor": "#A2B1C6"
            },
            "type": "carpet"
           }
          ],
          "choropleth": [
           {
            "colorbar": {
             "outlinewidth": 0,
             "ticks": ""
            },
            "type": "choropleth"
           }
          ],
          "contour": [
           {
            "colorbar": {
             "outlinewidth": 0,
             "ticks": ""
            },
            "colorscale": [
             [
              0,
              "#0d0887"
             ],
             [
              0.1111111111111111,
              "#46039f"
             ],
             [
              0.2222222222222222,
              "#7201a8"
             ],
             [
              0.3333333333333333,
              "#9c179e"
             ],
             [
              0.4444444444444444,
              "#bd3786"
             ],
             [
              0.5555555555555556,
              "#d8576b"
             ],
             [
              0.6666666666666666,
              "#ed7953"
             ],
             [
              0.7777777777777778,
              "#fb9f3a"
             ],
             [
              0.8888888888888888,
              "#fdca26"
             ],
             [
              1,
              "#f0f921"
             ]
            ],
            "type": "contour"
           }
          ],
          "contourcarpet": [
           {
            "colorbar": {
             "outlinewidth": 0,
             "ticks": ""
            },
            "type": "contourcarpet"
           }
          ],
          "heatmap": [
           {
            "colorbar": {
             "outlinewidth": 0,
             "ticks": ""
            },
            "colorscale": [
             [
              0,
              "#0d0887"
             ],
             [
              0.1111111111111111,
              "#46039f"
             ],
             [
              0.2222222222222222,
              "#7201a8"
             ],
             [
              0.3333333333333333,
              "#9c179e"
             ],
             [
              0.4444444444444444,
              "#bd3786"
             ],
             [
              0.5555555555555556,
              "#d8576b"
             ],
             [
              0.6666666666666666,
              "#ed7953"
             ],
             [
              0.7777777777777778,
              "#fb9f3a"
             ],
             [
              0.8888888888888888,
              "#fdca26"
             ],
             [
              1,
              "#f0f921"
             ]
            ],
            "type": "heatmap"
           }
          ],
          "heatmapgl": [
           {
            "colorbar": {
             "outlinewidth": 0,
             "ticks": ""
            },
            "colorscale": [
             [
              0,
              "#0d0887"
             ],
             [
              0.1111111111111111,
              "#46039f"
             ],
             [
              0.2222222222222222,
              "#7201a8"
             ],
             [
              0.3333333333333333,
              "#9c179e"
             ],
             [
              0.4444444444444444,
              "#bd3786"
             ],
             [
              0.5555555555555556,
              "#d8576b"
             ],
             [
              0.6666666666666666,
              "#ed7953"
             ],
             [
              0.7777777777777778,
              "#fb9f3a"
             ],
             [
              0.8888888888888888,
              "#fdca26"
             ],
             [
              1,
              "#f0f921"
             ]
            ],
            "type": "heatmapgl"
           }
          ],
          "histogram": [
           {
            "marker": {
             "pattern": {
              "fillmode": "overlay",
              "size": 10,
              "solidity": 0.2
             }
            },
            "type": "histogram"
           }
          ],
          "histogram2d": [
           {
            "colorbar": {
             "outlinewidth": 0,
             "ticks": ""
            },
            "colorscale": [
             [
              0,
              "#0d0887"
             ],
             [
              0.1111111111111111,
              "#46039f"
             ],
             [
              0.2222222222222222,
              "#7201a8"
             ],
             [
              0.3333333333333333,
              "#9c179e"
             ],
             [
              0.4444444444444444,
              "#bd3786"
             ],
             [
              0.5555555555555556,
              "#d8576b"
             ],
             [
              0.6666666666666666,
              "#ed7953"
             ],
             [
              0.7777777777777778,
              "#fb9f3a"
             ],
             [
              0.8888888888888888,
              "#fdca26"
             ],
             [
              1,
              "#f0f921"
             ]
            ],
            "type": "histogram2d"
           }
          ],
          "histogram2dcontour": [
           {
            "colorbar": {
             "outlinewidth": 0,
             "ticks": ""
            },
            "colorscale": [
             [
              0,
              "#0d0887"
             ],
             [
              0.1111111111111111,
              "#46039f"
             ],
             [
              0.2222222222222222,
              "#7201a8"
             ],
             [
              0.3333333333333333,
              "#9c179e"
             ],
             [
              0.4444444444444444,
              "#bd3786"
             ],
             [
              0.5555555555555556,
              "#d8576b"
             ],
             [
              0.6666666666666666,
              "#ed7953"
             ],
             [
              0.7777777777777778,
              "#fb9f3a"
             ],
             [
              0.8888888888888888,
              "#fdca26"
             ],
             [
              1,
              "#f0f921"
             ]
            ],
            "type": "histogram2dcontour"
           }
          ],
          "mesh3d": [
           {
            "colorbar": {
             "outlinewidth": 0,
             "ticks": ""
            },
            "type": "mesh3d"
           }
          ],
          "parcoords": [
           {
            "line": {
             "colorbar": {
              "outlinewidth": 0,
              "ticks": ""
             }
            },
            "type": "parcoords"
           }
          ],
          "pie": [
           {
            "automargin": true,
            "type": "pie"
           }
          ],
          "scatter": [
           {
            "marker": {
             "line": {
              "color": "#283442"
             }
            },
            "type": "scatter"
           }
          ],
          "scatter3d": [
           {
            "line": {
             "colorbar": {
              "outlinewidth": 0,
              "ticks": ""
             }
            },
            "marker": {
             "colorbar": {
              "outlinewidth": 0,
              "ticks": ""
             }
            },
            "type": "scatter3d"
           }
          ],
          "scattercarpet": [
           {
            "marker": {
             "colorbar": {
              "outlinewidth": 0,
              "ticks": ""
             }
            },
            "type": "scattercarpet"
           }
          ],
          "scattergeo": [
           {
            "marker": {
             "colorbar": {
              "outlinewidth": 0,
              "ticks": ""
             }
            },
            "type": "scattergeo"
           }
          ],
          "scattergl": [
           {
            "marker": {
             "line": {
              "color": "#283442"
             }
            },
            "type": "scattergl"
           }
          ],
          "scattermapbox": [
           {
            "marker": {
             "colorbar": {
              "outlinewidth": 0,
              "ticks": ""
             }
            },
            "type": "scattermapbox"
           }
          ],
          "scatterpolar": [
           {
            "marker": {
             "colorbar": {
              "outlinewidth": 0,
              "ticks": ""
             }
            },
            "type": "scatterpolar"
           }
          ],
          "scatterpolargl": [
           {
            "marker": {
             "colorbar": {
              "outlinewidth": 0,
              "ticks": ""
             }
            },
            "type": "scatterpolargl"
           }
          ],
          "scatterternary": [
           {
            "marker": {
             "colorbar": {
              "outlinewidth": 0,
              "ticks": ""
             }
            },
            "type": "scatterternary"
           }
          ],
          "surface": [
           {
            "colorbar": {
             "outlinewidth": 0,
             "ticks": ""
            },
            "colorscale": [
             [
              0,
              "#0d0887"
             ],
             [
              0.1111111111111111,
              "#46039f"
             ],
             [
              0.2222222222222222,
              "#7201a8"
             ],
             [
              0.3333333333333333,
              "#9c179e"
             ],
             [
              0.4444444444444444,
              "#bd3786"
             ],
             [
              0.5555555555555556,
              "#d8576b"
             ],
             [
              0.6666666666666666,
              "#ed7953"
             ],
             [
              0.7777777777777778,
              "#fb9f3a"
             ],
             [
              0.8888888888888888,
              "#fdca26"
             ],
             [
              1,
              "#f0f921"
             ]
            ],
            "type": "surface"
           }
          ],
          "table": [
           {
            "cells": {
             "fill": {
              "color": "#506784"
             },
             "line": {
              "color": "rgb(17,17,17)"
             }
            },
            "header": {
             "fill": {
              "color": "#2a3f5f"
             },
             "line": {
              "color": "rgb(17,17,17)"
             }
            },
            "type": "table"
           }
          ]
         },
         "layout": {
          "annotationdefaults": {
           "arrowcolor": "#f2f5fa",
           "arrowhead": 0,
           "arrowwidth": 1
          },
          "autotypenumbers": "strict",
          "coloraxis": {
           "colorbar": {
            "outlinewidth": 0,
            "ticks": ""
           }
          },
          "colorscale": {
           "diverging": [
            [
             0,
             "#8e0152"
            ],
            [
             0.1,
             "#c51b7d"
            ],
            [
             0.2,
             "#de77ae"
            ],
            [
             0.3,
             "#f1b6da"
            ],
            [
             0.4,
             "#fde0ef"
            ],
            [
             0.5,
             "#f7f7f7"
            ],
            [
             0.6,
             "#e6f5d0"
            ],
            [
             0.7,
             "#b8e186"
            ],
            [
             0.8,
             "#7fbc41"
            ],
            [
             0.9,
             "#4d9221"
            ],
            [
             1,
             "#276419"
            ]
           ],
           "sequential": [
            [
             0,
             "#0d0887"
            ],
            [
             0.1111111111111111,
             "#46039f"
            ],
            [
             0.2222222222222222,
             "#7201a8"
            ],
            [
             0.3333333333333333,
             "#9c179e"
            ],
            [
             0.4444444444444444,
             "#bd3786"
            ],
            [
             0.5555555555555556,
             "#d8576b"
            ],
            [
             0.6666666666666666,
             "#ed7953"
            ],
            [
             0.7777777777777778,
             "#fb9f3a"
            ],
            [
             0.8888888888888888,
             "#fdca26"
            ],
            [
             1,
             "#f0f921"
            ]
           ],
           "sequentialminus": [
            [
             0,
             "#0d0887"
            ],
            [
             0.1111111111111111,
             "#46039f"
            ],
            [
             0.2222222222222222,
             "#7201a8"
            ],
            [
             0.3333333333333333,
             "#9c179e"
            ],
            [
             0.4444444444444444,
             "#bd3786"
            ],
            [
             0.5555555555555556,
             "#d8576b"
            ],
            [
             0.6666666666666666,
             "#ed7953"
            ],
            [
             0.7777777777777778,
             "#fb9f3a"
            ],
            [
             0.8888888888888888,
             "#fdca26"
            ],
            [
             1,
             "#f0f921"
            ]
           ]
          },
          "colorway": [
           "#636efa",
           "#EF553B",
           "#00cc96",
           "#ab63fa",
           "#FFA15A",
           "#19d3f3",
           "#FF6692",
           "#B6E880",
           "#FF97FF",
           "#FECB52"
          ],
          "font": {
           "color": "#f2f5fa"
          },
          "geo": {
           "bgcolor": "rgb(17,17,17)",
           "lakecolor": "rgb(17,17,17)",
           "landcolor": "rgb(17,17,17)",
           "showlakes": true,
           "showland": true,
           "subunitcolor": "#506784"
          },
          "hoverlabel": {
           "align": "left"
          },
          "hovermode": "closest",
          "mapbox": {
           "style": "dark"
          },
          "paper_bgcolor": "rgb(17,17,17)",
          "plot_bgcolor": "rgb(17,17,17)",
          "polar": {
           "angularaxis": {
            "gridcolor": "#506784",
            "linecolor": "#506784",
            "ticks": ""
           },
           "bgcolor": "rgb(17,17,17)",
           "radialaxis": {
            "gridcolor": "#506784",
            "linecolor": "#506784",
            "ticks": ""
           }
          },
          "scene": {
           "xaxis": {
            "backgroundcolor": "rgb(17,17,17)",
            "gridcolor": "#506784",
            "gridwidth": 2,
            "linecolor": "#506784",
            "showbackground": true,
            "ticks": "",
            "zerolinecolor": "#C8D4E3"
           },
           "yaxis": {
            "backgroundcolor": "rgb(17,17,17)",
            "gridcolor": "#506784",
            "gridwidth": 2,
            "linecolor": "#506784",
            "showbackground": true,
            "ticks": "",
            "zerolinecolor": "#C8D4E3"
           },
           "zaxis": {
            "backgroundcolor": "rgb(17,17,17)",
            "gridcolor": "#506784",
            "gridwidth": 2,
            "linecolor": "#506784",
            "showbackground": true,
            "ticks": "",
            "zerolinecolor": "#C8D4E3"
           }
          },
          "shapedefaults": {
           "line": {
            "color": "#f2f5fa"
           }
          },
          "sliderdefaults": {
           "bgcolor": "#C8D4E3",
           "bordercolor": "rgb(17,17,17)",
           "borderwidth": 1,
           "tickwidth": 0
          },
          "ternary": {
           "aaxis": {
            "gridcolor": "#506784",
            "linecolor": "#506784",
            "ticks": ""
           },
           "baxis": {
            "gridcolor": "#506784",
            "linecolor": "#506784",
            "ticks": ""
           },
           "bgcolor": "rgb(17,17,17)",
           "caxis": {
            "gridcolor": "#506784",
            "linecolor": "#506784",
            "ticks": ""
           }
          },
          "title": {
           "x": 0.05
          },
          "updatemenudefaults": {
           "bgcolor": "#506784",
           "borderwidth": 0
          },
          "xaxis": {
           "automargin": true,
           "gridcolor": "#283442",
           "linecolor": "#506784",
           "ticks": "",
           "title": {
            "standoff": 15
           },
           "zerolinecolor": "#283442",
           "zerolinewidth": 2
          },
          "yaxis": {
           "automargin": true,
           "gridcolor": "#283442",
           "linecolor": "#506784",
           "ticks": "",
           "title": {
            "standoff": 15
           },
           "zerolinecolor": "#283442",
           "zerolinewidth": 2
          }
         }
        },
        "width": 1000,
        "xaxis": {
         "anchor": "y",
         "constrain": "domain",
         "domain": [
          0,
          1
         ],
         "scaleanchor": "y"
        },
        "yaxis": {
         "anchor": "x",
         "autorange": "reversed",
         "constrain": "domain",
         "domain": [
          0,
          1
         ]
        }
       }
      }
     },
     "metadata": {},
     "output_type": "display_data"
    }
   ],
   "source": [
    "hm = df4.corr()\n",
    "fig = px.imshow(hm, text_auto=\".2f\", color_continuous_scale='ice',\n",
    "                template='plotly_dark',width=1000,height=1000)\n",
    "fig.show()"
   ]
  },
  {
   "attachments": {},
   "cell_type": "markdown",
   "metadata": {},
   "source": [
    "## Modelling"
   ]
  },
  {
   "cell_type": "code",
   "execution_count": 103,
   "metadata": {},
   "outputs": [],
   "source": [
    "from sklearn.model_selection import train_test_split"
   ]
  },
  {
   "cell_type": "code",
   "execution_count": 115,
   "metadata": {},
   "outputs": [],
   "source": [
    "X = df4.drop(columns=['Clicked on Ad'])\n",
    "y = df4['Clicked on Ad']\n",
    "\n",
    "X_train, X_test, y_train, y_test = train_test_split(X, y, test_size=0.2, random_state=42)"
   ]
  },
  {
   "cell_type": "code",
   "execution_count": 123,
   "metadata": {},
   "outputs": [],
   "source": [
    "from sklearn.linear_model import LogisticRegression\n",
    "from sklearn import tree\n",
    "from sklearn.ensemble import RandomForestClassifier\n",
    "from sklearn.neighbors import KNeighborsClassifier\n",
    "from sklearn.ensemble import AdaBoostClassifier\n",
    "import xgboost as xgb\n",
    "import catboost as cb\n",
    "from sklearn.metrics import accuracy_score, precision_score, recall_score, f1_score, roc_auc_score, balanced_accuracy_score\n",
    "from sklearn.model_selection import cross_validate\n",
    "\n",
    "def get_metrics(y_pred, y_act, model_name):\n",
    "    recall =  recall_score(y_act, y_pred)\n",
    "    precision = precision_score(y_act, y_pred)\n",
    "    roc_auc = roc_auc_score(y_act, y_pred)\n",
    "    f1 = f1_score(y_act, y_pred)\n",
    "    accuracy = balanced_accuracy_score(y_act, y_pred)\n",
    "\n",
    "    metrics_result = dict(model_name=model_name,\n",
    "                        accuracy=round(accuracy,2),\n",
    "                        recall=round(recall,2), \n",
    "                        precision=round(precision,2), \n",
    "                        f1=round(f1,2),\n",
    "                        roc_auc=round(roc_auc,2),)\n",
    "    return metrics_result\n",
    "\n",
    "def prediction(X_train, y_train, X_test, y_test, clf, model_name='decision tree'):\n",
    "  \n",
    "    clf = clf\n",
    "    clf.fit(X_train, y_train)\n",
    "    y_test_pred = clf.predict(X_test)\n",
    "    y_train_pred = clf.predict(X_train)\n",
    "\n",
    "    result = dict()\n",
    "    test_result = get_metrics(y_pred=y_test_pred, y_act=y_test, model_name=model_name)\n",
    "    train_result = get_metrics(y_pred=y_train_pred, y_act=y_train, model_name=model_name)\n",
    "\n",
    "    result['test'] = test_result\n",
    "    result['train'] = train_result\n",
    "    result['y_test'] = y_test\n",
    "    result['y_test_pred'] = y_test_pred\n",
    "    result['y_train'] = y_train\n",
    "    result['y_train_pred'] = y_train_pred\n",
    "    result['clf'] = clf\n",
    "    result['x_train'] = X_train\n",
    "    result['x_test'] = X_test\n",
    "    del clf\n",
    "    return result\n",
    "  \n",
    "def show_best_hyperparameter(model, hyperparameters):\n",
    "    for key, value in hyperparameters.items() :\n",
    "        print('Best '+key+':', model.get_params()[key])\n",
    "\n",
    "def show_feature_importance(model):\n",
    "    feat_importances = pd.Series(model.feature_importances_, index=X.columns)\n",
    "    ax = feat_importances.nlargest(25).plot(kind='barh', figsize=(10, 8))\n",
    "    ax.invert_yaxis()\n",
    "\n",
    "    plt.xlabel('score')\n",
    "    plt.ylabel('feature')\n",
    "    plt.title('feature importance score')"
   ]
  },
  {
   "cell_type": "code",
   "execution_count": 124,
   "metadata": {},
   "outputs": [],
   "source": [
    "model_1_result = prediction(X_train, y_train, X_test, y_test, LogisticRegression(), model_name='logistic regression')\n",
    "model_2_result = prediction(X_train, y_train, X_test, y_test, tree.DecisionTreeClassifier(), model_name='decision tree')\n",
    "model_3_result = prediction(X_train, y_train, X_test, y_test, KNeighborsClassifier(), model_name='kNN')\n",
    "model_4_result = prediction(X_train, y_train, X_test, y_test, RandomForestClassifier(random_state=42), model_name='random forest')\n",
    "model_5_result = prediction(X_train, y_train, X_test, y_test, AdaBoostClassifier(random_state=42), model_name='adaboost')\n",
    "model_6_result = prediction(X_train, y_train, X_test, y_test, xgb.XGBClassifier(random_state=42), model_name='xgboost')\n",
    "model_7_result = prediction(X_train, y_train, X_test, y_test, cb.CatBoostClassifier(random_state=42, logging_level='Silent'), model_name='catboost')"
   ]
  },
  {
   "cell_type": "code",
   "execution_count": 125,
   "metadata": {},
   "outputs": [
    {
     "data": {
      "text/html": [
       "<div>\n",
       "<style scoped>\n",
       "    .dataframe tbody tr th:only-of-type {\n",
       "        vertical-align: middle;\n",
       "    }\n",
       "\n",
       "    .dataframe tbody tr th {\n",
       "        vertical-align: top;\n",
       "    }\n",
       "\n",
       "    .dataframe thead th {\n",
       "        text-align: right;\n",
       "    }\n",
       "</style>\n",
       "<table border=\"1\" class=\"dataframe\">\n",
       "  <thead>\n",
       "    <tr style=\"text-align: right;\">\n",
       "      <th></th>\n",
       "      <th>model_name</th>\n",
       "      <th>accuracy</th>\n",
       "      <th>recall</th>\n",
       "      <th>precision</th>\n",
       "      <th>f1</th>\n",
       "      <th>roc_auc</th>\n",
       "    </tr>\n",
       "  </thead>\n",
       "  <tbody>\n",
       "    <tr>\n",
       "      <th>0</th>\n",
       "      <td>logistic regression</td>\n",
       "      <td>0.97</td>\n",
       "      <td>0.96</td>\n",
       "      <td>0.99</td>\n",
       "      <td>0.97</td>\n",
       "      <td>0.97</td>\n",
       "    </tr>\n",
       "    <tr>\n",
       "      <th>1</th>\n",
       "      <td>decision tree</td>\n",
       "      <td>1.00</td>\n",
       "      <td>1.00</td>\n",
       "      <td>1.00</td>\n",
       "      <td>1.00</td>\n",
       "      <td>1.00</td>\n",
       "    </tr>\n",
       "    <tr>\n",
       "      <th>2</th>\n",
       "      <td>kNN</td>\n",
       "      <td>0.89</td>\n",
       "      <td>0.88</td>\n",
       "      <td>0.90</td>\n",
       "      <td>0.89</td>\n",
       "      <td>0.89</td>\n",
       "    </tr>\n",
       "    <tr>\n",
       "      <th>3</th>\n",
       "      <td>random forest</td>\n",
       "      <td>1.00</td>\n",
       "      <td>1.00</td>\n",
       "      <td>1.00</td>\n",
       "      <td>1.00</td>\n",
       "      <td>1.00</td>\n",
       "    </tr>\n",
       "    <tr>\n",
       "      <th>4</th>\n",
       "      <td>adaboost</td>\n",
       "      <td>0.99</td>\n",
       "      <td>0.98</td>\n",
       "      <td>0.99</td>\n",
       "      <td>0.99</td>\n",
       "      <td>0.99</td>\n",
       "    </tr>\n",
       "    <tr>\n",
       "      <th>5</th>\n",
       "      <td>xgboost</td>\n",
       "      <td>1.00</td>\n",
       "      <td>1.00</td>\n",
       "      <td>1.00</td>\n",
       "      <td>1.00</td>\n",
       "      <td>1.00</td>\n",
       "    </tr>\n",
       "    <tr>\n",
       "      <th>6</th>\n",
       "      <td>catboost</td>\n",
       "      <td>1.00</td>\n",
       "      <td>0.99</td>\n",
       "      <td>1.00</td>\n",
       "      <td>1.00</td>\n",
       "      <td>1.00</td>\n",
       "    </tr>\n",
       "  </tbody>\n",
       "</table>\n",
       "</div>"
      ],
      "text/plain": [
       "            model_name  accuracy  recall  precision    f1  roc_auc\n",
       "0  logistic regression      0.97    0.96       0.99  0.97     0.97\n",
       "1        decision tree      1.00    1.00       1.00  1.00     1.00\n",
       "2                  kNN      0.89    0.88       0.90  0.89     0.89\n",
       "3        random forest      1.00    1.00       1.00  1.00     1.00\n",
       "4             adaboost      0.99    0.98       0.99  0.99     0.99\n",
       "5              xgboost      1.00    1.00       1.00  1.00     1.00\n",
       "6             catboost      1.00    0.99       1.00  1.00     1.00"
      ]
     },
     "execution_count": 125,
     "metadata": {},
     "output_type": "execute_result"
    }
   ],
   "source": [
    "pd.DataFrame([model_1_result['train'], \n",
    "              model_2_result['train'], \n",
    "              model_3_result['train'], \n",
    "              model_4_result['train'], \n",
    "              model_5_result['train'],\n",
    "              model_6_result['train'],\n",
    "              model_7_result['train']])"
   ]
  },
  {
   "cell_type": "code",
   "execution_count": 126,
   "metadata": {},
   "outputs": [
    {
     "data": {
      "text/html": [
       "<div>\n",
       "<style scoped>\n",
       "    .dataframe tbody tr th:only-of-type {\n",
       "        vertical-align: middle;\n",
       "    }\n",
       "\n",
       "    .dataframe tbody tr th {\n",
       "        vertical-align: top;\n",
       "    }\n",
       "\n",
       "    .dataframe thead th {\n",
       "        text-align: right;\n",
       "    }\n",
       "</style>\n",
       "<table border=\"1\" class=\"dataframe\">\n",
       "  <thead>\n",
       "    <tr style=\"text-align: right;\">\n",
       "      <th></th>\n",
       "      <th>model_name</th>\n",
       "      <th>accuracy</th>\n",
       "      <th>recall</th>\n",
       "      <th>precision</th>\n",
       "      <th>f1</th>\n",
       "      <th>roc_auc</th>\n",
       "    </tr>\n",
       "  </thead>\n",
       "  <tbody>\n",
       "    <tr>\n",
       "      <th>0</th>\n",
       "      <td>logistic regression</td>\n",
       "      <td>0.96</td>\n",
       "      <td>0.94</td>\n",
       "      <td>0.97</td>\n",
       "      <td>0.96</td>\n",
       "      <td>0.96</td>\n",
       "    </tr>\n",
       "    <tr>\n",
       "      <th>1</th>\n",
       "      <td>decision tree</td>\n",
       "      <td>0.94</td>\n",
       "      <td>0.94</td>\n",
       "      <td>0.94</td>\n",
       "      <td>0.94</td>\n",
       "      <td>0.94</td>\n",
       "    </tr>\n",
       "    <tr>\n",
       "      <th>2</th>\n",
       "      <td>kNN</td>\n",
       "      <td>0.82</td>\n",
       "      <td>0.83</td>\n",
       "      <td>0.82</td>\n",
       "      <td>0.83</td>\n",
       "      <td>0.82</td>\n",
       "    </tr>\n",
       "    <tr>\n",
       "      <th>3</th>\n",
       "      <td>random forest</td>\n",
       "      <td>0.95</td>\n",
       "      <td>0.96</td>\n",
       "      <td>0.95</td>\n",
       "      <td>0.96</td>\n",
       "      <td>0.95</td>\n",
       "    </tr>\n",
       "    <tr>\n",
       "      <th>4</th>\n",
       "      <td>adaboost</td>\n",
       "      <td>0.96</td>\n",
       "      <td>0.95</td>\n",
       "      <td>0.96</td>\n",
       "      <td>0.96</td>\n",
       "      <td>0.96</td>\n",
       "    </tr>\n",
       "    <tr>\n",
       "      <th>5</th>\n",
       "      <td>xgboost</td>\n",
       "      <td>0.96</td>\n",
       "      <td>0.96</td>\n",
       "      <td>0.96</td>\n",
       "      <td>0.96</td>\n",
       "      <td>0.96</td>\n",
       "    </tr>\n",
       "    <tr>\n",
       "      <th>6</th>\n",
       "      <td>catboost</td>\n",
       "      <td>0.96</td>\n",
       "      <td>0.96</td>\n",
       "      <td>0.96</td>\n",
       "      <td>0.96</td>\n",
       "      <td>0.96</td>\n",
       "    </tr>\n",
       "  </tbody>\n",
       "</table>\n",
       "</div>"
      ],
      "text/plain": [
       "            model_name  accuracy  recall  precision    f1  roc_auc\n",
       "0  logistic regression      0.96    0.94       0.97  0.96     0.96\n",
       "1        decision tree      0.94    0.94       0.94  0.94     0.94\n",
       "2                  kNN      0.82    0.83       0.82  0.83     0.82\n",
       "3        random forest      0.95    0.96       0.95  0.96     0.95\n",
       "4             adaboost      0.96    0.95       0.96  0.96     0.96\n",
       "5              xgboost      0.96    0.96       0.96  0.96     0.96\n",
       "6             catboost      0.96    0.96       0.96  0.96     0.96"
      ]
     },
     "execution_count": 126,
     "metadata": {},
     "output_type": "execute_result"
    }
   ],
   "source": [
    "pd.DataFrame([model_1_result['test'], \n",
    "              model_2_result['test'], \n",
    "              model_3_result['test'], \n",
    "              model_4_result['test'], \n",
    "              model_5_result['test'],\n",
    "              model_6_result['test'], \n",
    "              model_7_result['test']])"
   ]
  },
  {
   "cell_type": "code",
   "execution_count": null,
   "metadata": {},
   "outputs": [],
   "source": []
  }
 ],
 "metadata": {
  "kernelspec": {
   "display_name": "base",
   "language": "python",
   "name": "python3"
  },
  "language_info": {
   "codemirror_mode": {
    "name": "ipython",
    "version": 3
   },
   "file_extension": ".py",
   "mimetype": "text/x-python",
   "name": "python",
   "nbconvert_exporter": "python",
   "pygments_lexer": "ipython3",
   "version": "3.9.13"
  },
  "orig_nbformat": 4,
  "vscode": {
   "interpreter": {
    "hash": "a2ab3825ac7005fb7b26f112e9c99ae62f464c629e30b0d534c3b931b6cbc3ff"
   }
  }
 },
 "nbformat": 4,
 "nbformat_minor": 2
}
